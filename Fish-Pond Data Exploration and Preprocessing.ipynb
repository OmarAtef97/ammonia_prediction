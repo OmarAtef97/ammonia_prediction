{
 "cells": [
  {
   "cell_type": "code",
   "execution_count": 3,
   "id": "09247720",
   "metadata": {},
   "outputs": [],
   "source": [
    "import pandas as pd\n",
    "import numpy as np\n",
    "import matplotlib.pyplot as plt\n",
    "import seaborn as sns\n",
    "\n",
    "from sklearn.model_selection import train_test_split\n",
    "from sklearn.preprocessing import StandardScaler\n",
    "from sklearn.tree import DecisionTreeRegressor\n",
    "from sklearn.ensemble import RandomForestRegressor\n",
    "from sklearn.svm import SVR"
   ]
  },
  {
   "cell_type": "code",
   "execution_count": 4,
   "id": "ed01017f",
   "metadata": {},
   "outputs": [
    {
     "name": "stderr",
     "output_type": "stream",
     "text": [
      "C:\\Users\\Omar Atef\\AppData\\Local\\Temp\\ipykernel_9440\\1500002325.py:4: DtypeWarning: Columns (9) have mixed types. Specify dtype option on import or set low_memory=False.\n",
      "  df4 = pd.read_csv('IOTPond4.csv')\n",
      "C:\\Users\\Omar Atef\\AppData\\Local\\Temp\\ipykernel_9440\\1500002325.py:6: DtypeWarning: Columns (13) have mixed types. Specify dtype option on import or set low_memory=False.\n",
      "  df7 = pd.read_csv('IOTPond7.csv')\n",
      "C:\\Users\\Omar Atef\\AppData\\Local\\Temp\\ipykernel_9440\\1500002325.py:7: DtypeWarning: Columns (11) have mixed types. Specify dtype option on import or set low_memory=False.\n",
      "  df8 = pd.read_csv('IOTPond8.csv')\n"
     ]
    }
   ],
   "source": [
    "df1 = pd.read_csv('IOTPond1.csv')\n",
    "df2 = pd.read_csv('IOTPond2.csv')\n",
    "df3 = pd.read_csv('IOTPond3.csv')\n",
    "df4 = pd.read_csv('IOTPond4.csv')\n",
    "df6 = pd.read_csv('IOTPond6.csv')\n",
    "df7 = pd.read_csv('IOTPond7.csv')\n",
    "df8 = pd.read_csv('IOTPond8.csv')\n",
    "df9 = pd.read_csv('IOTPond9.csv')\n",
    "df10 = pd.read_csv('IOTPond10.csv')\n",
    "df11 = pd.read_csv('IOTPond11.csv')\n",
    "df12 = pd.read_csv('IOTPond12.csv')\n",
    "\n",
    "df1['df'] = 'df1'\n",
    "df2['df'] = 'df2'\n",
    "df3['df'] = 'df3'\n",
    "df4['df'] = 'df4'\n",
    "df6['df'] = 'df6'\n",
    "df7['df'] = 'df7'\n",
    "df8['df'] = 'df8'\n",
    "df9['df'] = 'df9'\n",
    "df10['df'] = 'df10'\n",
    "df11['df'] = 'df11'\n",
    "df12['df'] = 'df12'"
   ]
  },
  {
   "cell_type": "code",
   "execution_count": 5,
   "id": "fe45932e",
   "metadata": {},
   "outputs": [],
   "source": [
    "def rename_columns(df):\n",
    "    df.rename(columns={'Temperature(C)':'Temperature (C)',\n",
    "                   'Turbidity(NTU)':'Turbidity (NTU)',\n",
    "                   'Fish_Length(cm)':'Fish_Length (cm)',\n",
    "                   'Dissolved Oxygen(g/ml)':'Dissolved Oxygen (mg/l)',\n",
    "                   'Ammonia(g/ml)':'Ammonia (mg/l)',\n",
    "                   'Nitrate(g/ml)':'Nitrate (mg/l)',\n",
    "                   'Fish_Length(cm)':'Fish_Length (cm)',\n",
    "                   'Fish_Weight(g)':'Fish_Weight (g)',\n",
    "                   'PH':'pH'},\n",
    "              inplace=True)"
   ]
  },
  {
   "cell_type": "code",
   "execution_count": 6,
   "id": "95851d43",
   "metadata": {},
   "outputs": [
    {
     "data": {
      "text/html": [
       "<div>\n",
       "<style scoped>\n",
       "    .dataframe tbody tr th:only-of-type {\n",
       "        vertical-align: middle;\n",
       "    }\n",
       "\n",
       "    .dataframe tbody tr th {\n",
       "        vertical-align: top;\n",
       "    }\n",
       "\n",
       "    .dataframe thead th {\n",
       "        text-align: right;\n",
       "    }\n",
       "</style>\n",
       "<table border=\"1\" class=\"dataframe\">\n",
       "  <thead>\n",
       "    <tr style=\"text-align: right;\">\n",
       "      <th></th>\n",
       "      <th>created_at</th>\n",
       "      <th>entry_id</th>\n",
       "      <th>Temperature (C)</th>\n",
       "      <th>Turbidity(NTU)</th>\n",
       "      <th>Dissolved Oxygen(g/ml)</th>\n",
       "      <th>PH</th>\n",
       "      <th>Ammonia(g/ml)</th>\n",
       "      <th>Nitrate(g/ml)</th>\n",
       "      <th>Population</th>\n",
       "      <th>Fish_Length(cm)</th>\n",
       "      <th>Fish_Weight(g)</th>\n",
       "      <th>df</th>\n",
       "    </tr>\n",
       "  </thead>\n",
       "  <tbody>\n",
       "    <tr>\n",
       "      <th>0</th>\n",
       "      <td>2021-06-19 00:00:05 CET</td>\n",
       "      <td>1889</td>\n",
       "      <td>24.8750</td>\n",
       "      <td>100</td>\n",
       "      <td>4.505</td>\n",
       "      <td>8.43365</td>\n",
       "      <td>0.45842</td>\n",
       "      <td>193</td>\n",
       "      <td>50</td>\n",
       "      <td>7.11</td>\n",
       "      <td>2.91</td>\n",
       "      <td>df1</td>\n",
       "    </tr>\n",
       "    <tr>\n",
       "      <th>1</th>\n",
       "      <td>2021-06-19 00:01:02 CET</td>\n",
       "      <td>1890</td>\n",
       "      <td>24.9375</td>\n",
       "      <td>100</td>\n",
       "      <td>6.601</td>\n",
       "      <td>8.43818</td>\n",
       "      <td>0.45842</td>\n",
       "      <td>194</td>\n",
       "      <td>50</td>\n",
       "      <td>7.11</td>\n",
       "      <td>2.91</td>\n",
       "      <td>df1</td>\n",
       "    </tr>\n",
       "  </tbody>\n",
       "</table>\n",
       "</div>"
      ],
      "text/plain": [
       "                created_at  entry_id  Temperature (C)  Turbidity(NTU)  \\\n",
       "0  2021-06-19 00:00:05 CET      1889          24.8750             100   \n",
       "1  2021-06-19 00:01:02 CET      1890          24.9375             100   \n",
       "\n",
       "   Dissolved Oxygen(g/ml)       PH  Ammonia(g/ml)  Nitrate(g/ml)  Population  \\\n",
       "0                   4.505  8.43365        0.45842            193          50   \n",
       "1                   6.601  8.43818        0.45842            194          50   \n",
       "\n",
       "   Fish_Length(cm)  Fish_Weight(g)   df  \n",
       "0             7.11            2.91  df1  \n",
       "1             7.11            2.91  df1  "
      ]
     },
     "execution_count": 6,
     "metadata": {},
     "output_type": "execute_result"
    }
   ],
   "source": [
    "df1.head(2)"
   ]
  },
  {
   "cell_type": "code",
   "execution_count": 7,
   "id": "6d2eed7b",
   "metadata": {},
   "outputs": [
    {
     "data": {
      "text/html": [
       "<div>\n",
       "<style scoped>\n",
       "    .dataframe tbody tr th:only-of-type {\n",
       "        vertical-align: middle;\n",
       "    }\n",
       "\n",
       "    .dataframe tbody tr th {\n",
       "        vertical-align: top;\n",
       "    }\n",
       "\n",
       "    .dataframe thead th {\n",
       "        text-align: right;\n",
       "    }\n",
       "</style>\n",
       "<table border=\"1\" class=\"dataframe\">\n",
       "  <thead>\n",
       "    <tr style=\"text-align: right;\">\n",
       "      <th></th>\n",
       "      <th>created_at</th>\n",
       "      <th>entry_id</th>\n",
       "      <th>Temperature (C)</th>\n",
       "      <th>Turbidity (NTU)</th>\n",
       "      <th>Dissolved Oxygen (mg/l)</th>\n",
       "      <th>pH</th>\n",
       "      <th>Ammonia (mg/l)</th>\n",
       "      <th>Nitrate (mg/l)</th>\n",
       "      <th>Population</th>\n",
       "      <th>Fish_Length (cm)</th>\n",
       "      <th>Fish_Weight (g)</th>\n",
       "      <th>df</th>\n",
       "    </tr>\n",
       "  </thead>\n",
       "  <tbody>\n",
       "    <tr>\n",
       "      <th>0</th>\n",
       "      <td>2021-06-19 00:00:05 CET</td>\n",
       "      <td>1889</td>\n",
       "      <td>24.8750</td>\n",
       "      <td>100</td>\n",
       "      <td>4.505</td>\n",
       "      <td>8.43365</td>\n",
       "      <td>0.45842</td>\n",
       "      <td>193</td>\n",
       "      <td>50</td>\n",
       "      <td>7.11</td>\n",
       "      <td>2.91</td>\n",
       "      <td>df1</td>\n",
       "    </tr>\n",
       "    <tr>\n",
       "      <th>1</th>\n",
       "      <td>2021-06-19 00:01:02 CET</td>\n",
       "      <td>1890</td>\n",
       "      <td>24.9375</td>\n",
       "      <td>100</td>\n",
       "      <td>6.601</td>\n",
       "      <td>8.43818</td>\n",
       "      <td>0.45842</td>\n",
       "      <td>194</td>\n",
       "      <td>50</td>\n",
       "      <td>7.11</td>\n",
       "      <td>2.91</td>\n",
       "      <td>df1</td>\n",
       "    </tr>\n",
       "  </tbody>\n",
       "</table>\n",
       "</div>"
      ],
      "text/plain": [
       "                created_at  entry_id  Temperature (C)  Turbidity (NTU)  \\\n",
       "0  2021-06-19 00:00:05 CET      1889          24.8750              100   \n",
       "1  2021-06-19 00:01:02 CET      1890          24.9375              100   \n",
       "\n",
       "   Dissolved Oxygen (mg/l)       pH  Ammonia (mg/l)  Nitrate (mg/l)  \\\n",
       "0                    4.505  8.43365         0.45842             193   \n",
       "1                    6.601  8.43818         0.45842             194   \n",
       "\n",
       "   Population  Fish_Length (cm)  Fish_Weight (g)   df  \n",
       "0          50              7.11             2.91  df1  \n",
       "1          50              7.11             2.91  df1  "
      ]
     },
     "execution_count": 7,
     "metadata": {},
     "output_type": "execute_result"
    }
   ],
   "source": [
    "rename_columns(df1)\n",
    "df1.head(2)"
   ]
  },
  {
   "cell_type": "code",
   "execution_count": 8,
   "id": "800830c0",
   "metadata": {},
   "outputs": [
    {
     "data": {
      "text/html": [
       "<div>\n",
       "<style scoped>\n",
       "    .dataframe tbody tr th:only-of-type {\n",
       "        vertical-align: middle;\n",
       "    }\n",
       "\n",
       "    .dataframe tbody tr th {\n",
       "        vertical-align: top;\n",
       "    }\n",
       "\n",
       "    .dataframe thead th {\n",
       "        text-align: right;\n",
       "    }\n",
       "</style>\n",
       "<table border=\"1\" class=\"dataframe\">\n",
       "  <thead>\n",
       "    <tr style=\"text-align: right;\">\n",
       "      <th></th>\n",
       "      <th>created_at</th>\n",
       "      <th>entry_id</th>\n",
       "      <th>Temperature (C)</th>\n",
       "      <th>Turbidity (NTU)</th>\n",
       "      <th>Dissolved Oxygen(g/ml)</th>\n",
       "      <th>PH</th>\n",
       "      <th>Ammonia(g/ml)</th>\n",
       "      <th>Nitrate(g/ml)</th>\n",
       "      <th>Population</th>\n",
       "      <th>Fish_Length (cm)</th>\n",
       "      <th>Fish_Weight (g)</th>\n",
       "      <th>df</th>\n",
       "    </tr>\n",
       "  </thead>\n",
       "  <tbody>\n",
       "    <tr>\n",
       "      <th>0</th>\n",
       "      <td>2021-06-19 00:00:05 CET</td>\n",
       "      <td>1889</td>\n",
       "      <td>24.8750</td>\n",
       "      <td>100</td>\n",
       "      <td>4.505</td>\n",
       "      <td>8.43365</td>\n",
       "      <td>0.38</td>\n",
       "      <td>193</td>\n",
       "      <td>50</td>\n",
       "      <td>6.96</td>\n",
       "      <td>3.36</td>\n",
       "      <td>df2</td>\n",
       "    </tr>\n",
       "    <tr>\n",
       "      <th>1</th>\n",
       "      <td>2021-06-19 00:01:02 CET</td>\n",
       "      <td>1890</td>\n",
       "      <td>24.9375</td>\n",
       "      <td>100</td>\n",
       "      <td>6.601</td>\n",
       "      <td>8.43818</td>\n",
       "      <td>0.38</td>\n",
       "      <td>194</td>\n",
       "      <td>50</td>\n",
       "      <td>6.96</td>\n",
       "      <td>3.36</td>\n",
       "      <td>df2</td>\n",
       "    </tr>\n",
       "  </tbody>\n",
       "</table>\n",
       "</div>"
      ],
      "text/plain": [
       "                created_at  entry_id  Temperature (C)  Turbidity (NTU)  \\\n",
       "0  2021-06-19 00:00:05 CET      1889          24.8750              100   \n",
       "1  2021-06-19 00:01:02 CET      1890          24.9375              100   \n",
       "\n",
       "   Dissolved Oxygen(g/ml)       PH  Ammonia(g/ml)  Nitrate(g/ml)  Population  \\\n",
       "0                   4.505  8.43365           0.38            193          50   \n",
       "1                   6.601  8.43818           0.38            194          50   \n",
       "\n",
       "   Fish_Length (cm)  Fish_Weight (g)   df  \n",
       "0              6.96             3.36  df2  \n",
       "1              6.96             3.36  df2  "
      ]
     },
     "execution_count": 8,
     "metadata": {},
     "output_type": "execute_result"
    }
   ],
   "source": [
    "df2.head(2)"
   ]
  },
  {
   "cell_type": "code",
   "execution_count": 9,
   "id": "4b1e7be5",
   "metadata": {},
   "outputs": [
    {
     "data": {
      "text/html": [
       "<div>\n",
       "<style scoped>\n",
       "    .dataframe tbody tr th:only-of-type {\n",
       "        vertical-align: middle;\n",
       "    }\n",
       "\n",
       "    .dataframe tbody tr th {\n",
       "        vertical-align: top;\n",
       "    }\n",
       "\n",
       "    .dataframe thead th {\n",
       "        text-align: right;\n",
       "    }\n",
       "</style>\n",
       "<table border=\"1\" class=\"dataframe\">\n",
       "  <thead>\n",
       "    <tr style=\"text-align: right;\">\n",
       "      <th></th>\n",
       "      <th>created_at</th>\n",
       "      <th>entry_id</th>\n",
       "      <th>Temperature (C)</th>\n",
       "      <th>Turbidity (NTU)</th>\n",
       "      <th>Dissolved Oxygen (mg/l)</th>\n",
       "      <th>pH</th>\n",
       "      <th>Ammonia (mg/l)</th>\n",
       "      <th>Nitrate (mg/l)</th>\n",
       "      <th>Population</th>\n",
       "      <th>Fish_Length (cm)</th>\n",
       "      <th>Fish_Weight (g)</th>\n",
       "      <th>df</th>\n",
       "    </tr>\n",
       "  </thead>\n",
       "  <tbody>\n",
       "    <tr>\n",
       "      <th>0</th>\n",
       "      <td>2021-06-19 00:00:05 CET</td>\n",
       "      <td>1889</td>\n",
       "      <td>24.8750</td>\n",
       "      <td>100</td>\n",
       "      <td>4.505</td>\n",
       "      <td>8.43365</td>\n",
       "      <td>0.38</td>\n",
       "      <td>193</td>\n",
       "      <td>50</td>\n",
       "      <td>6.96</td>\n",
       "      <td>3.36</td>\n",
       "      <td>df2</td>\n",
       "    </tr>\n",
       "    <tr>\n",
       "      <th>1</th>\n",
       "      <td>2021-06-19 00:01:02 CET</td>\n",
       "      <td>1890</td>\n",
       "      <td>24.9375</td>\n",
       "      <td>100</td>\n",
       "      <td>6.601</td>\n",
       "      <td>8.43818</td>\n",
       "      <td>0.38</td>\n",
       "      <td>194</td>\n",
       "      <td>50</td>\n",
       "      <td>6.96</td>\n",
       "      <td>3.36</td>\n",
       "      <td>df2</td>\n",
       "    </tr>\n",
       "    <tr>\n",
       "      <th>2</th>\n",
       "      <td>2021-06-19 00:01:22 CET</td>\n",
       "      <td>1891</td>\n",
       "      <td>24.8750</td>\n",
       "      <td>100</td>\n",
       "      <td>15.797</td>\n",
       "      <td>8.42457</td>\n",
       "      <td>0.38</td>\n",
       "      <td>192</td>\n",
       "      <td>50</td>\n",
       "      <td>6.96</td>\n",
       "      <td>3.36</td>\n",
       "      <td>df2</td>\n",
       "    </tr>\n",
       "    <tr>\n",
       "      <th>3</th>\n",
       "      <td>2021-06-19 00:01:44 CET</td>\n",
       "      <td>1892</td>\n",
       "      <td>24.9375</td>\n",
       "      <td>100</td>\n",
       "      <td>5.046</td>\n",
       "      <td>8.43365</td>\n",
       "      <td>0.38</td>\n",
       "      <td>193</td>\n",
       "      <td>50</td>\n",
       "      <td>6.96</td>\n",
       "      <td>3.36</td>\n",
       "      <td>df2</td>\n",
       "    </tr>\n",
       "    <tr>\n",
       "      <th>4</th>\n",
       "      <td>2021-06-19 00:02:07 CET</td>\n",
       "      <td>1893</td>\n",
       "      <td>24.9375</td>\n",
       "      <td>100</td>\n",
       "      <td>38.407</td>\n",
       "      <td>8.40641</td>\n",
       "      <td>0.38</td>\n",
       "      <td>192</td>\n",
       "      <td>50</td>\n",
       "      <td>6.96</td>\n",
       "      <td>3.36</td>\n",
       "      <td>df2</td>\n",
       "    </tr>\n",
       "  </tbody>\n",
       "</table>\n",
       "</div>"
      ],
      "text/plain": [
       "                created_at  entry_id  Temperature (C)  Turbidity (NTU)  \\\n",
       "0  2021-06-19 00:00:05 CET      1889          24.8750              100   \n",
       "1  2021-06-19 00:01:02 CET      1890          24.9375              100   \n",
       "2  2021-06-19 00:01:22 CET      1891          24.8750              100   \n",
       "3  2021-06-19 00:01:44 CET      1892          24.9375              100   \n",
       "4  2021-06-19 00:02:07 CET      1893          24.9375              100   \n",
       "\n",
       "   Dissolved Oxygen (mg/l)       pH  Ammonia (mg/l)  Nitrate (mg/l)  \\\n",
       "0                    4.505  8.43365            0.38             193   \n",
       "1                    6.601  8.43818            0.38             194   \n",
       "2                   15.797  8.42457            0.38             192   \n",
       "3                    5.046  8.43365            0.38             193   \n",
       "4                   38.407  8.40641            0.38             192   \n",
       "\n",
       "   Population  Fish_Length (cm)  Fish_Weight (g)   df  \n",
       "0          50              6.96             3.36  df2  \n",
       "1          50              6.96             3.36  df2  \n",
       "2          50              6.96             3.36  df2  \n",
       "3          50              6.96             3.36  df2  \n",
       "4          50              6.96             3.36  df2  "
      ]
     },
     "execution_count": 9,
     "metadata": {},
     "output_type": "execute_result"
    }
   ],
   "source": [
    "rename_columns(df2)\n",
    "df2.head()"
   ]
  },
  {
   "cell_type": "code",
   "execution_count": 10,
   "id": "a15bbcce",
   "metadata": {},
   "outputs": [
    {
     "data": {
      "text/html": [
       "<div>\n",
       "<style scoped>\n",
       "    .dataframe tbody tr th:only-of-type {\n",
       "        vertical-align: middle;\n",
       "    }\n",
       "\n",
       "    .dataframe tbody tr th {\n",
       "        vertical-align: top;\n",
       "    }\n",
       "\n",
       "    .dataframe thead th {\n",
       "        text-align: right;\n",
       "    }\n",
       "</style>\n",
       "<table border=\"1\" class=\"dataframe\">\n",
       "  <thead>\n",
       "    <tr style=\"text-align: right;\">\n",
       "      <th></th>\n",
       "      <th>created_at</th>\n",
       "      <th>entry_id</th>\n",
       "      <th>Temperature(C)</th>\n",
       "      <th>Turbidity(NTU)</th>\n",
       "      <th>Dissolved Oxygen(g/ml)</th>\n",
       "      <th>PH</th>\n",
       "      <th>Ammonia(g/ml)</th>\n",
       "      <th>Nitrate(g/ml)</th>\n",
       "      <th>Population</th>\n",
       "      <th>Fish_Length(cm)</th>\n",
       "      <th>Fish_Weight(g)</th>\n",
       "      <th>df</th>\n",
       "    </tr>\n",
       "  </thead>\n",
       "  <tbody>\n",
       "    <tr>\n",
       "      <th>0</th>\n",
       "      <td>2021-06-19 00:00:04 CET</td>\n",
       "      <td>1941</td>\n",
       "      <td>23.75</td>\n",
       "      <td>80</td>\n",
       "      <td>27.736</td>\n",
       "      <td>7.04911</td>\n",
       "      <td>5.15546</td>\n",
       "      <td>114</td>\n",
       "      <td>50</td>\n",
       "      <td>6.74</td>\n",
       "      <td>3.2</td>\n",
       "      <td>df3</td>\n",
       "    </tr>\n",
       "    <tr>\n",
       "      <th>1</th>\n",
       "      <td>2021-06-19 00:00:26 CET</td>\n",
       "      <td>1942</td>\n",
       "      <td>23.75</td>\n",
       "      <td>80</td>\n",
       "      <td>4.195</td>\n",
       "      <td>7.09450</td>\n",
       "      <td>4.53072</td>\n",
       "      <td>114</td>\n",
       "      <td>50</td>\n",
       "      <td>6.74</td>\n",
       "      <td>3.2</td>\n",
       "      <td>df3</td>\n",
       "    </tr>\n",
       "  </tbody>\n",
       "</table>\n",
       "</div>"
      ],
      "text/plain": [
       "                created_at  entry_id  Temperature(C)  Turbidity(NTU)  \\\n",
       "0  2021-06-19 00:00:04 CET      1941           23.75              80   \n",
       "1  2021-06-19 00:00:26 CET      1942           23.75              80   \n",
       "\n",
       "   Dissolved Oxygen(g/ml)       PH  Ammonia(g/ml)  Nitrate(g/ml)  Population  \\\n",
       "0                  27.736  7.04911        5.15546            114          50   \n",
       "1                   4.195  7.09450        4.53072            114          50   \n",
       "\n",
       "   Fish_Length(cm)  Fish_Weight(g)   df  \n",
       "0             6.74             3.2  df3  \n",
       "1             6.74             3.2  df3  "
      ]
     },
     "execution_count": 10,
     "metadata": {},
     "output_type": "execute_result"
    }
   ],
   "source": [
    "df3.head(2)"
   ]
  },
  {
   "cell_type": "code",
   "execution_count": 11,
   "id": "64291540",
   "metadata": {},
   "outputs": [
    {
     "data": {
      "text/html": [
       "<div>\n",
       "<style scoped>\n",
       "    .dataframe tbody tr th:only-of-type {\n",
       "        vertical-align: middle;\n",
       "    }\n",
       "\n",
       "    .dataframe tbody tr th {\n",
       "        vertical-align: top;\n",
       "    }\n",
       "\n",
       "    .dataframe thead th {\n",
       "        text-align: right;\n",
       "    }\n",
       "</style>\n",
       "<table border=\"1\" class=\"dataframe\">\n",
       "  <thead>\n",
       "    <tr style=\"text-align: right;\">\n",
       "      <th></th>\n",
       "      <th>created_at</th>\n",
       "      <th>entry_id</th>\n",
       "      <th>Temperature (C)</th>\n",
       "      <th>Turbidity (NTU)</th>\n",
       "      <th>Dissolved Oxygen (mg/l)</th>\n",
       "      <th>pH</th>\n",
       "      <th>Ammonia (mg/l)</th>\n",
       "      <th>Nitrate (mg/l)</th>\n",
       "      <th>Population</th>\n",
       "      <th>Fish_Length (cm)</th>\n",
       "      <th>Fish_Weight (g)</th>\n",
       "      <th>df</th>\n",
       "    </tr>\n",
       "  </thead>\n",
       "  <tbody>\n",
       "    <tr>\n",
       "      <th>0</th>\n",
       "      <td>2021-06-19 00:00:04 CET</td>\n",
       "      <td>1941</td>\n",
       "      <td>23.75</td>\n",
       "      <td>80</td>\n",
       "      <td>27.736</td>\n",
       "      <td>7.04911</td>\n",
       "      <td>5.15546</td>\n",
       "      <td>114</td>\n",
       "      <td>50</td>\n",
       "      <td>6.74</td>\n",
       "      <td>3.2</td>\n",
       "      <td>df3</td>\n",
       "    </tr>\n",
       "    <tr>\n",
       "      <th>1</th>\n",
       "      <td>2021-06-19 00:00:26 CET</td>\n",
       "      <td>1942</td>\n",
       "      <td>23.75</td>\n",
       "      <td>80</td>\n",
       "      <td>4.195</td>\n",
       "      <td>7.09450</td>\n",
       "      <td>4.53072</td>\n",
       "      <td>114</td>\n",
       "      <td>50</td>\n",
       "      <td>6.74</td>\n",
       "      <td>3.2</td>\n",
       "      <td>df3</td>\n",
       "    </tr>\n",
       "    <tr>\n",
       "      <th>2</th>\n",
       "      <td>2021-06-19 00:02:03 CET</td>\n",
       "      <td>1945</td>\n",
       "      <td>23.75</td>\n",
       "      <td>80</td>\n",
       "      <td>10.310</td>\n",
       "      <td>7.07635</td>\n",
       "      <td>5.21473</td>\n",
       "      <td>113</td>\n",
       "      <td>50</td>\n",
       "      <td>6.74</td>\n",
       "      <td>3.2</td>\n",
       "      <td>df3</td>\n",
       "    </tr>\n",
       "    <tr>\n",
       "      <th>3</th>\n",
       "      <td>2021-06-19 00:02:26 CET</td>\n",
       "      <td>1946</td>\n",
       "      <td>23.75</td>\n",
       "      <td>81</td>\n",
       "      <td>1.196</td>\n",
       "      <td>7.07181</td>\n",
       "      <td>5.41747</td>\n",
       "      <td>100</td>\n",
       "      <td>50</td>\n",
       "      <td>6.74</td>\n",
       "      <td>3.2</td>\n",
       "      <td>df3</td>\n",
       "    </tr>\n",
       "    <tr>\n",
       "      <th>4</th>\n",
       "      <td>2021-06-19 00:03:31 CET</td>\n",
       "      <td>1948</td>\n",
       "      <td>23.75</td>\n",
       "      <td>80</td>\n",
       "      <td>2.338</td>\n",
       "      <td>7.08996</td>\n",
       "      <td>5.45899</td>\n",
       "      <td>112</td>\n",
       "      <td>50</td>\n",
       "      <td>6.74</td>\n",
       "      <td>3.2</td>\n",
       "      <td>df3</td>\n",
       "    </tr>\n",
       "  </tbody>\n",
       "</table>\n",
       "</div>"
      ],
      "text/plain": [
       "                created_at  entry_id  Temperature (C)  Turbidity (NTU)  \\\n",
       "0  2021-06-19 00:00:04 CET      1941            23.75               80   \n",
       "1  2021-06-19 00:00:26 CET      1942            23.75               80   \n",
       "2  2021-06-19 00:02:03 CET      1945            23.75               80   \n",
       "3  2021-06-19 00:02:26 CET      1946            23.75               81   \n",
       "4  2021-06-19 00:03:31 CET      1948            23.75               80   \n",
       "\n",
       "   Dissolved Oxygen (mg/l)       pH  Ammonia (mg/l)  Nitrate (mg/l)  \\\n",
       "0                   27.736  7.04911         5.15546             114   \n",
       "1                    4.195  7.09450         4.53072             114   \n",
       "2                   10.310  7.07635         5.21473             113   \n",
       "3                    1.196  7.07181         5.41747             100   \n",
       "4                    2.338  7.08996         5.45899             112   \n",
       "\n",
       "   Population  Fish_Length (cm)  Fish_Weight (g)   df  \n",
       "0          50              6.74              3.2  df3  \n",
       "1          50              6.74              3.2  df3  \n",
       "2          50              6.74              3.2  df3  \n",
       "3          50              6.74              3.2  df3  \n",
       "4          50              6.74              3.2  df3  "
      ]
     },
     "execution_count": 11,
     "metadata": {},
     "output_type": "execute_result"
    }
   ],
   "source": [
    "rename_columns(df3)\n",
    "df3.head()"
   ]
  },
  {
   "cell_type": "code",
   "execution_count": 12,
   "id": "1ecd4320",
   "metadata": {},
   "outputs": [
    {
     "data": {
      "text/html": [
       "<div>\n",
       "<style scoped>\n",
       "    .dataframe tbody tr th:only-of-type {\n",
       "        vertical-align: middle;\n",
       "    }\n",
       "\n",
       "    .dataframe tbody tr th {\n",
       "        vertical-align: top;\n",
       "    }\n",
       "\n",
       "    .dataframe thead th {\n",
       "        text-align: right;\n",
       "    }\n",
       "</style>\n",
       "<table border=\"1\" class=\"dataframe\">\n",
       "  <thead>\n",
       "    <tr style=\"text-align: right;\">\n",
       "      <th></th>\n",
       "      <th>created_at</th>\n",
       "      <th>entry_id</th>\n",
       "      <th>Temperature(C)</th>\n",
       "      <th>Turbidity(NTU)</th>\n",
       "      <th>Dissolved Oxygen(g/ml)</th>\n",
       "      <th>PH</th>\n",
       "      <th>Ammonia(g/ml)</th>\n",
       "      <th>Nitrate(g/ml)</th>\n",
       "      <th>Population</th>\n",
       "      <th>Fish_Length(cm)</th>\n",
       "      <th>Fish_Weight(g)</th>\n",
       "      <th>df</th>\n",
       "    </tr>\n",
       "  </thead>\n",
       "  <tbody>\n",
       "    <tr>\n",
       "      <th>0</th>\n",
       "      <td>2021-06-19 00:00:22 CET</td>\n",
       "      <td>1738.0</td>\n",
       "      <td>24.9375</td>\n",
       "      <td>81.0</td>\n",
       "      <td>7.945</td>\n",
       "      <td>8.5199</td>\n",
       "      <td>10.68908</td>\n",
       "      <td>688.0</td>\n",
       "      <td>75</td>\n",
       "      <td>6.94</td>\n",
       "      <td>3.07</td>\n",
       "      <td>df4</td>\n",
       "    </tr>\n",
       "    <tr>\n",
       "      <th>1</th>\n",
       "      <td>2021-06-19 00:00:42 CET</td>\n",
       "      <td>1739.0</td>\n",
       "      <td>25.0000</td>\n",
       "      <td>81.0</td>\n",
       "      <td>6.888</td>\n",
       "      <td>8.5199</td>\n",
       "      <td>11.21030</td>\n",
       "      <td>672.0</td>\n",
       "      <td>75</td>\n",
       "      <td>6.94</td>\n",
       "      <td>3.07</td>\n",
       "      <td>df4</td>\n",
       "    </tr>\n",
       "  </tbody>\n",
       "</table>\n",
       "</div>"
      ],
      "text/plain": [
       "                created_at  entry_id  Temperature(C)  Turbidity(NTU)  \\\n",
       "0  2021-06-19 00:00:22 CET    1738.0         24.9375            81.0   \n",
       "1  2021-06-19 00:00:42 CET    1739.0         25.0000            81.0   \n",
       "\n",
       "   Dissolved Oxygen(g/ml)      PH  Ammonia(g/ml)  Nitrate(g/ml)  Population  \\\n",
       "0                   7.945  8.5199       10.68908          688.0          75   \n",
       "1                   6.888  8.5199       11.21030          672.0          75   \n",
       "\n",
       "  Fish_Length(cm)  Fish_Weight(g)   df  \n",
       "0            6.94            3.07  df4  \n",
       "1            6.94            3.07  df4  "
      ]
     },
     "execution_count": 12,
     "metadata": {},
     "output_type": "execute_result"
    }
   ],
   "source": [
    "df4.head(2)"
   ]
  },
  {
   "cell_type": "code",
   "execution_count": 13,
   "id": "3e46b590",
   "metadata": {},
   "outputs": [
    {
     "data": {
      "text/html": [
       "<div>\n",
       "<style scoped>\n",
       "    .dataframe tbody tr th:only-of-type {\n",
       "        vertical-align: middle;\n",
       "    }\n",
       "\n",
       "    .dataframe tbody tr th {\n",
       "        vertical-align: top;\n",
       "    }\n",
       "\n",
       "    .dataframe thead th {\n",
       "        text-align: right;\n",
       "    }\n",
       "</style>\n",
       "<table border=\"1\" class=\"dataframe\">\n",
       "  <thead>\n",
       "    <tr style=\"text-align: right;\">\n",
       "      <th></th>\n",
       "      <th>created_at</th>\n",
       "      <th>entry_id</th>\n",
       "      <th>Temperature (C)</th>\n",
       "      <th>Turbidity (NTU)</th>\n",
       "      <th>Dissolved Oxygen (mg/l)</th>\n",
       "      <th>pH</th>\n",
       "      <th>Ammonia (mg/l)</th>\n",
       "      <th>Nitrate (mg/l)</th>\n",
       "      <th>Population</th>\n",
       "      <th>Fish_Length (cm)</th>\n",
       "      <th>Fish_Weight (g)</th>\n",
       "      <th>df</th>\n",
       "    </tr>\n",
       "  </thead>\n",
       "  <tbody>\n",
       "    <tr>\n",
       "      <th>0</th>\n",
       "      <td>2021-06-19 00:00:22 CET</td>\n",
       "      <td>1738.0</td>\n",
       "      <td>24.9375</td>\n",
       "      <td>81.0</td>\n",
       "      <td>7.945</td>\n",
       "      <td>8.51990</td>\n",
       "      <td>10.68908</td>\n",
       "      <td>688.0</td>\n",
       "      <td>75</td>\n",
       "      <td>6.94</td>\n",
       "      <td>3.07</td>\n",
       "      <td>df4</td>\n",
       "    </tr>\n",
       "    <tr>\n",
       "      <th>1</th>\n",
       "      <td>2021-06-19 00:00:42 CET</td>\n",
       "      <td>1739.0</td>\n",
       "      <td>25.0000</td>\n",
       "      <td>81.0</td>\n",
       "      <td>6.888</td>\n",
       "      <td>8.51990</td>\n",
       "      <td>11.21030</td>\n",
       "      <td>672.0</td>\n",
       "      <td>75</td>\n",
       "      <td>6.94</td>\n",
       "      <td>3.07</td>\n",
       "      <td>df4</td>\n",
       "    </tr>\n",
       "    <tr>\n",
       "      <th>2</th>\n",
       "      <td>2021-06-19 00:01:02 CET</td>\n",
       "      <td>1740.0</td>\n",
       "      <td>25.0000</td>\n",
       "      <td>81.0</td>\n",
       "      <td>33.728</td>\n",
       "      <td>8.51536</td>\n",
       "      <td>11.21030</td>\n",
       "      <td>671.0</td>\n",
       "      <td>75</td>\n",
       "      <td>6.94</td>\n",
       "      <td>3.07</td>\n",
       "      <td>df4</td>\n",
       "    </tr>\n",
       "    <tr>\n",
       "      <th>3</th>\n",
       "      <td>2021-06-19 00:01:23 CET</td>\n",
       "      <td>1741.0</td>\n",
       "      <td>24.9375</td>\n",
       "      <td>81.0</td>\n",
       "      <td>10.531</td>\n",
       "      <td>8.52444</td>\n",
       "      <td>10.68908</td>\n",
       "      <td>668.0</td>\n",
       "      <td>75</td>\n",
       "      <td>6.94</td>\n",
       "      <td>3.07</td>\n",
       "      <td>df4</td>\n",
       "    </tr>\n",
       "    <tr>\n",
       "      <th>4</th>\n",
       "      <td>2021-06-19 00:02:48 CET</td>\n",
       "      <td>1745.0</td>\n",
       "      <td>24.9375</td>\n",
       "      <td>81.0</td>\n",
       "      <td>11.740</td>\n",
       "      <td>8.52444</td>\n",
       "      <td>11.21030</td>\n",
       "      <td>683.0</td>\n",
       "      <td>75</td>\n",
       "      <td>6.94</td>\n",
       "      <td>3.07</td>\n",
       "      <td>df4</td>\n",
       "    </tr>\n",
       "  </tbody>\n",
       "</table>\n",
       "</div>"
      ],
      "text/plain": [
       "                created_at  entry_id  Temperature (C)  Turbidity (NTU)  \\\n",
       "0  2021-06-19 00:00:22 CET    1738.0          24.9375             81.0   \n",
       "1  2021-06-19 00:00:42 CET    1739.0          25.0000             81.0   \n",
       "2  2021-06-19 00:01:02 CET    1740.0          25.0000             81.0   \n",
       "3  2021-06-19 00:01:23 CET    1741.0          24.9375             81.0   \n",
       "4  2021-06-19 00:02:48 CET    1745.0          24.9375             81.0   \n",
       "\n",
       "   Dissolved Oxygen (mg/l)       pH  Ammonia (mg/l)  Nitrate (mg/l)  \\\n",
       "0                    7.945  8.51990        10.68908           688.0   \n",
       "1                    6.888  8.51990        11.21030           672.0   \n",
       "2                   33.728  8.51536        11.21030           671.0   \n",
       "3                   10.531  8.52444        10.68908           668.0   \n",
       "4                   11.740  8.52444        11.21030           683.0   \n",
       "\n",
       "   Population Fish_Length (cm)  Fish_Weight (g)   df  \n",
       "0          75             6.94             3.07  df4  \n",
       "1          75             6.94             3.07  df4  \n",
       "2          75             6.94             3.07  df4  \n",
       "3          75             6.94             3.07  df4  \n",
       "4          75             6.94             3.07  df4  "
      ]
     },
     "execution_count": 13,
     "metadata": {},
     "output_type": "execute_result"
    }
   ],
   "source": [
    "rename_columns(df4)\n",
    "df4.head()"
   ]
  },
  {
   "cell_type": "code",
   "execution_count": 14,
   "id": "e286f984",
   "metadata": {},
   "outputs": [
    {
     "data": {
      "text/html": [
       "<div>\n",
       "<style scoped>\n",
       "    .dataframe tbody tr th:only-of-type {\n",
       "        vertical-align: middle;\n",
       "    }\n",
       "\n",
       "    .dataframe tbody tr th {\n",
       "        vertical-align: top;\n",
       "    }\n",
       "\n",
       "    .dataframe thead th {\n",
       "        text-align: right;\n",
       "    }\n",
       "</style>\n",
       "<table border=\"1\" class=\"dataframe\">\n",
       "  <thead>\n",
       "    <tr style=\"text-align: right;\">\n",
       "      <th></th>\n",
       "      <th>created_at</th>\n",
       "      <th>entry_id</th>\n",
       "      <th>Temperature(C)</th>\n",
       "      <th>Turbidity(NTU)</th>\n",
       "      <th>Dissolved Oxygen(g/ml)</th>\n",
       "      <th>PH</th>\n",
       "      <th>Ammonia(g/ml)</th>\n",
       "      <th>Nitrate(g/ml)</th>\n",
       "      <th>Population</th>\n",
       "      <th>Fish_Length(cm)</th>\n",
       "      <th>Fish_Weight(g)</th>\n",
       "      <th>df</th>\n",
       "    </tr>\n",
       "  </thead>\n",
       "  <tbody>\n",
       "    <tr>\n",
       "      <th>0</th>\n",
       "      <td>2021-06-19 00:01:46 UTC</td>\n",
       "      <td>1972.0</td>\n",
       "      <td>23.5</td>\n",
       "      <td>30.0</td>\n",
       "      <td>0.723</td>\n",
       "      <td>9.02832</td>\n",
       "      <td>5.91560</td>\n",
       "      <td>285.0</td>\n",
       "      <td>75</td>\n",
       "      <td>7.3</td>\n",
       "      <td>3.2</td>\n",
       "      <td>df6</td>\n",
       "    </tr>\n",
       "    <tr>\n",
       "      <th>1</th>\n",
       "      <td>2021-06-19 00:02:05 UTC</td>\n",
       "      <td>1973.0</td>\n",
       "      <td>23.5</td>\n",
       "      <td>29.0</td>\n",
       "      <td>0.008</td>\n",
       "      <td>8.98746</td>\n",
       "      <td>5.80338</td>\n",
       "      <td>290.0</td>\n",
       "      <td>75</td>\n",
       "      <td>7.3</td>\n",
       "      <td>3.2</td>\n",
       "      <td>df6</td>\n",
       "    </tr>\n",
       "  </tbody>\n",
       "</table>\n",
       "</div>"
      ],
      "text/plain": [
       "                created_at  entry_id  Temperature(C)  Turbidity(NTU)  \\\n",
       "0  2021-06-19 00:01:46 UTC    1972.0            23.5            30.0   \n",
       "1  2021-06-19 00:02:05 UTC    1973.0            23.5            29.0   \n",
       "\n",
       "   Dissolved Oxygen(g/ml)       PH  Ammonia(g/ml)  Nitrate(g/ml)  Population  \\\n",
       "0                   0.723  9.02832        5.91560          285.0          75   \n",
       "1                   0.008  8.98746        5.80338          290.0          75   \n",
       "\n",
       "   Fish_Length(cm)  Fish_Weight(g)   df  \n",
       "0              7.3             3.2  df6  \n",
       "1              7.3             3.2  df6  "
      ]
     },
     "execution_count": 14,
     "metadata": {},
     "output_type": "execute_result"
    }
   ],
   "source": [
    "df6.head(2)"
   ]
  },
  {
   "cell_type": "code",
   "execution_count": 15,
   "id": "b446dc0e",
   "metadata": {},
   "outputs": [
    {
     "data": {
      "text/html": [
       "<div>\n",
       "<style scoped>\n",
       "    .dataframe tbody tr th:only-of-type {\n",
       "        vertical-align: middle;\n",
       "    }\n",
       "\n",
       "    .dataframe tbody tr th {\n",
       "        vertical-align: top;\n",
       "    }\n",
       "\n",
       "    .dataframe thead th {\n",
       "        text-align: right;\n",
       "    }\n",
       "</style>\n",
       "<table border=\"1\" class=\"dataframe\">\n",
       "  <thead>\n",
       "    <tr style=\"text-align: right;\">\n",
       "      <th></th>\n",
       "      <th>created_at</th>\n",
       "      <th>entry_id</th>\n",
       "      <th>Temperature (C)</th>\n",
       "      <th>Turbidity (NTU)</th>\n",
       "      <th>Dissolved Oxygen (mg/l)</th>\n",
       "      <th>pH</th>\n",
       "      <th>Ammonia (mg/l)</th>\n",
       "      <th>Nitrate (mg/l)</th>\n",
       "      <th>Population</th>\n",
       "      <th>Fish_Length (cm)</th>\n",
       "      <th>Fish_Weight (g)</th>\n",
       "      <th>df</th>\n",
       "    </tr>\n",
       "  </thead>\n",
       "  <tbody>\n",
       "    <tr>\n",
       "      <th>0</th>\n",
       "      <td>2021-06-19 00:01:46 UTC</td>\n",
       "      <td>1972.0</td>\n",
       "      <td>23.5</td>\n",
       "      <td>30.0</td>\n",
       "      <td>0.723</td>\n",
       "      <td>9.02832</td>\n",
       "      <td>5.91560</td>\n",
       "      <td>285.0</td>\n",
       "      <td>75</td>\n",
       "      <td>7.3</td>\n",
       "      <td>3.2</td>\n",
       "      <td>df6</td>\n",
       "    </tr>\n",
       "    <tr>\n",
       "      <th>1</th>\n",
       "      <td>2021-06-19 00:02:05 UTC</td>\n",
       "      <td>1973.0</td>\n",
       "      <td>23.5</td>\n",
       "      <td>29.0</td>\n",
       "      <td>0.008</td>\n",
       "      <td>8.98746</td>\n",
       "      <td>5.80338</td>\n",
       "      <td>290.0</td>\n",
       "      <td>75</td>\n",
       "      <td>7.3</td>\n",
       "      <td>3.2</td>\n",
       "      <td>df6</td>\n",
       "    </tr>\n",
       "  </tbody>\n",
       "</table>\n",
       "</div>"
      ],
      "text/plain": [
       "                created_at  entry_id  Temperature (C)  Turbidity (NTU)  \\\n",
       "0  2021-06-19 00:01:46 UTC    1972.0             23.5             30.0   \n",
       "1  2021-06-19 00:02:05 UTC    1973.0             23.5             29.0   \n",
       "\n",
       "   Dissolved Oxygen (mg/l)       pH  Ammonia (mg/l)  Nitrate (mg/l)  \\\n",
       "0                    0.723  9.02832         5.91560           285.0   \n",
       "1                    0.008  8.98746         5.80338           290.0   \n",
       "\n",
       "   Population  Fish_Length (cm)  Fish_Weight (g)   df  \n",
       "0          75               7.3              3.2  df6  \n",
       "1          75               7.3              3.2  df6  "
      ]
     },
     "execution_count": 15,
     "metadata": {},
     "output_type": "execute_result"
    }
   ],
   "source": [
    "rename_columns(df6)\n",
    "df6.head(2)"
   ]
  },
  {
   "cell_type": "code",
   "execution_count": 16,
   "id": "e6974e0f",
   "metadata": {},
   "outputs": [],
   "source": [
    "### PART 2"
   ]
  },
  {
   "cell_type": "code",
   "execution_count": 17,
   "id": "b786d961",
   "metadata": {},
   "outputs": [],
   "source": [
    "def rename_columns_df7(df):\n",
    "    df.rename(columns={'DATE':'Date',\n",
    "                      'turbidity (NTU)':'Turbidity (NTU)',\n",
    "                      'Dissolved Oxygen (g/ml)':'Dissolved Oxygen (mg/l)',\n",
    "                      'temperature(C)':'Temperature (C)',\n",
    "                      'ammonia(g/ml)':'Ammonia (mg/l)',\n",
    "                      'nitrate(g/ml)':'Nitrate (mg/l)',\n",
    "                      'Fish_length(cm)':'Fish_Length (cm)',\n",
    "                      'Fish_weight(g)':'Fish_Weight (g)',\n",
    "                      'PH':'pH'\n",
    "                      },\n",
    "              inplace=True)"
   ]
  },
  {
   "cell_type": "code",
   "execution_count": 18,
   "id": "e1f530f9",
   "metadata": {},
   "outputs": [
    {
     "data": {
      "text/html": [
       "<div>\n",
       "<style scoped>\n",
       "    .dataframe tbody tr th:only-of-type {\n",
       "        vertical-align: middle;\n",
       "    }\n",
       "\n",
       "    .dataframe tbody tr th {\n",
       "        vertical-align: top;\n",
       "    }\n",
       "\n",
       "    .dataframe thead th {\n",
       "        text-align: right;\n",
       "    }\n",
       "</style>\n",
       "<table border=\"1\" class=\"dataframe\">\n",
       "  <thead>\n",
       "    <tr style=\"text-align: right;\">\n",
       "      <th></th>\n",
       "      <th>created_at</th>\n",
       "      <th>Date</th>\n",
       "      <th>entry_id</th>\n",
       "      <th>temperature(C)</th>\n",
       "      <th>turbidity (NTU)</th>\n",
       "      <th>Dissolved Oxygen (g/ml)</th>\n",
       "      <th>PH</th>\n",
       "      <th>ammonia(g/ml)</th>\n",
       "      <th>nitrate(g/ml)</th>\n",
       "      <th>Fish_length(cm)</th>\n",
       "      <th>Fish_weight(g)</th>\n",
       "      <th>Unnamed: 11</th>\n",
       "      <th>Unnamed: 12</th>\n",
       "      <th>Unnamed: 13</th>\n",
       "      <th>df</th>\n",
       "    </tr>\n",
       "  </thead>\n",
       "  <tbody>\n",
       "    <tr>\n",
       "      <th>0</th>\n",
       "      <td>2021-06-18 13:02:10 CET</td>\n",
       "      <td>18-06-21</td>\n",
       "      <td>1</td>\n",
       "      <td>25.375</td>\n",
       "      <td>41</td>\n",
       "      <td>40.048</td>\n",
       "      <td>8.17490</td>\n",
       "      <td>780.03149</td>\n",
       "      <td>1218</td>\n",
       "      <td>6.772857</td>\n",
       "      <td>3.037143</td>\n",
       "      <td>NaN</td>\n",
       "      <td>NaN</td>\n",
       "      <td>NaN</td>\n",
       "      <td>df7</td>\n",
       "    </tr>\n",
       "    <tr>\n",
       "      <th>1</th>\n",
       "      <td>2021-06-18 13:02:30 CET</td>\n",
       "      <td>18-06-21</td>\n",
       "      <td>2</td>\n",
       "      <td>25.375</td>\n",
       "      <td>41</td>\n",
       "      <td>40.048</td>\n",
       "      <td>8.13858</td>\n",
       "      <td>0.14989</td>\n",
       "      <td>1968</td>\n",
       "      <td>6.772857</td>\n",
       "      <td>3.037143</td>\n",
       "      <td>NaN</td>\n",
       "      <td>NaN</td>\n",
       "      <td>NaN</td>\n",
       "      <td>df7</td>\n",
       "    </tr>\n",
       "  </tbody>\n",
       "</table>\n",
       "</div>"
      ],
      "text/plain": [
       "                created_at      Date  entry_id  temperature(C)  \\\n",
       "0  2021-06-18 13:02:10 CET  18-06-21         1          25.375   \n",
       "1  2021-06-18 13:02:30 CET  18-06-21         2          25.375   \n",
       "\n",
       "   turbidity (NTU)  Dissolved Oxygen (g/ml)       PH  ammonia(g/ml)  \\\n",
       "0               41                   40.048  8.17490      780.03149   \n",
       "1               41                   40.048  8.13858        0.14989   \n",
       "\n",
       "   nitrate(g/ml)  Fish_length(cm)  Fish_weight(g)  Unnamed: 11  Unnamed: 12  \\\n",
       "0           1218         6.772857        3.037143          NaN          NaN   \n",
       "1           1968         6.772857        3.037143          NaN          NaN   \n",
       "\n",
       "  Unnamed: 13   df  \n",
       "0         NaN  df7  \n",
       "1         NaN  df7  "
      ]
     },
     "execution_count": 18,
     "metadata": {},
     "output_type": "execute_result"
    }
   ],
   "source": [
    "df7.head(2)"
   ]
  },
  {
   "cell_type": "code",
   "execution_count": 19,
   "id": "6f76ffe6",
   "metadata": {},
   "outputs": [
    {
     "data": {
      "text/plain": [
       "(279612, 15)"
      ]
     },
     "execution_count": 19,
     "metadata": {},
     "output_type": "execute_result"
    }
   ],
   "source": [
    "df7.shape"
   ]
  },
  {
   "cell_type": "code",
   "execution_count": 20,
   "id": "73ce62a1",
   "metadata": {},
   "outputs": [
    {
     "data": {
      "text/plain": [
       "279606"
      ]
     },
     "execution_count": 20,
     "metadata": {},
     "output_type": "execute_result"
    }
   ],
   "source": [
    "df7['Unnamed: 12'].isna().sum()"
   ]
  },
  {
   "cell_type": "code",
   "execution_count": 21,
   "id": "9d99323e",
   "metadata": {},
   "outputs": [
    {
     "data": {
      "text/plain": [
       "0.067143     1\n",
       "11.271437    1\n",
       "11.338580    1\n",
       "11.405723    1\n",
       "11.472866    1\n",
       "11.540009    1\n",
       "Name: Unnamed: 12, dtype: int64"
      ]
     },
     "execution_count": 21,
     "metadata": {},
     "output_type": "execute_result"
    }
   ],
   "source": [
    "df7['Unnamed: 12'].value_counts()"
   ]
  },
  {
   "cell_type": "code",
   "execution_count": 22,
   "id": "ea569bca",
   "metadata": {},
   "outputs": [
    {
     "data": {
      "text/html": [
       "<div>\n",
       "<style scoped>\n",
       "    .dataframe tbody tr th:only-of-type {\n",
       "        vertical-align: middle;\n",
       "    }\n",
       "\n",
       "    .dataframe tbody tr th {\n",
       "        vertical-align: top;\n",
       "    }\n",
       "\n",
       "    .dataframe thead th {\n",
       "        text-align: right;\n",
       "    }\n",
       "</style>\n",
       "<table border=\"1\" class=\"dataframe\">\n",
       "  <thead>\n",
       "    <tr style=\"text-align: right;\">\n",
       "      <th></th>\n",
       "      <th>created_at</th>\n",
       "      <th>Date</th>\n",
       "      <th>entry_id</th>\n",
       "      <th>Temperature (C)</th>\n",
       "      <th>Turbidity (NTU)</th>\n",
       "      <th>Dissolved Oxygen (mg/l)</th>\n",
       "      <th>pH</th>\n",
       "      <th>Ammonia (mg/l)</th>\n",
       "      <th>Nitrate (mg/l)</th>\n",
       "      <th>Fish_Length (cm)</th>\n",
       "      <th>Fish_Weight (g)</th>\n",
       "      <th>Unnamed: 11</th>\n",
       "      <th>Unnamed: 12</th>\n",
       "      <th>Unnamed: 13</th>\n",
       "      <th>df</th>\n",
       "    </tr>\n",
       "  </thead>\n",
       "  <tbody>\n",
       "    <tr>\n",
       "      <th>0</th>\n",
       "      <td>2021-06-18 13:02:10 CET</td>\n",
       "      <td>18-06-21</td>\n",
       "      <td>1</td>\n",
       "      <td>25.375</td>\n",
       "      <td>41</td>\n",
       "      <td>40.048</td>\n",
       "      <td>8.17490</td>\n",
       "      <td>780.03149</td>\n",
       "      <td>1218</td>\n",
       "      <td>6.772857</td>\n",
       "      <td>3.037143</td>\n",
       "      <td>NaN</td>\n",
       "      <td>NaN</td>\n",
       "      <td>NaN</td>\n",
       "      <td>df7</td>\n",
       "    </tr>\n",
       "    <tr>\n",
       "      <th>1</th>\n",
       "      <td>2021-06-18 13:02:30 CET</td>\n",
       "      <td>18-06-21</td>\n",
       "      <td>2</td>\n",
       "      <td>25.375</td>\n",
       "      <td>41</td>\n",
       "      <td>40.048</td>\n",
       "      <td>8.13858</td>\n",
       "      <td>0.14989</td>\n",
       "      <td>1968</td>\n",
       "      <td>6.772857</td>\n",
       "      <td>3.037143</td>\n",
       "      <td>NaN</td>\n",
       "      <td>NaN</td>\n",
       "      <td>NaN</td>\n",
       "      <td>df7</td>\n",
       "    </tr>\n",
       "  </tbody>\n",
       "</table>\n",
       "</div>"
      ],
      "text/plain": [
       "                created_at      Date  entry_id  Temperature (C)  \\\n",
       "0  2021-06-18 13:02:10 CET  18-06-21         1           25.375   \n",
       "1  2021-06-18 13:02:30 CET  18-06-21         2           25.375   \n",
       "\n",
       "   Turbidity (NTU)  Dissolved Oxygen (mg/l)       pH  Ammonia (mg/l)  \\\n",
       "0               41                   40.048  8.17490       780.03149   \n",
       "1               41                   40.048  8.13858         0.14989   \n",
       "\n",
       "   Nitrate (mg/l)  Fish_Length (cm)  Fish_Weight (g)  Unnamed: 11  \\\n",
       "0            1218          6.772857         3.037143          NaN   \n",
       "1            1968          6.772857         3.037143          NaN   \n",
       "\n",
       "   Unnamed: 12 Unnamed: 13   df  \n",
       "0          NaN         NaN  df7  \n",
       "1          NaN         NaN  df7  "
      ]
     },
     "execution_count": 22,
     "metadata": {},
     "output_type": "execute_result"
    }
   ],
   "source": [
    "rename_columns_df7(df7)\n",
    "df7.head(2)"
   ]
  },
  {
   "cell_type": "code",
   "execution_count": 23,
   "id": "1b208c21",
   "metadata": {},
   "outputs": [],
   "source": [
    "df7.drop(columns=['Unnamed: 11', 'Unnamed: 12', 'Unnamed: 13'], inplace=True)"
   ]
  },
  {
   "cell_type": "code",
   "execution_count": 24,
   "id": "cd23ae2f",
   "metadata": {},
   "outputs": [
    {
     "data": {
      "text/html": [
       "<div>\n",
       "<style scoped>\n",
       "    .dataframe tbody tr th:only-of-type {\n",
       "        vertical-align: middle;\n",
       "    }\n",
       "\n",
       "    .dataframe tbody tr th {\n",
       "        vertical-align: top;\n",
       "    }\n",
       "\n",
       "    .dataframe thead th {\n",
       "        text-align: right;\n",
       "    }\n",
       "</style>\n",
       "<table border=\"1\" class=\"dataframe\">\n",
       "  <thead>\n",
       "    <tr style=\"text-align: right;\">\n",
       "      <th></th>\n",
       "      <th>Unnamed: 0</th>\n",
       "      <th>Date</th>\n",
       "      <th>entry_id</th>\n",
       "      <th>Temperature (C)</th>\n",
       "      <th>Turbidity(NTU)</th>\n",
       "      <th>Dissolved Oxygen (mg/L)</th>\n",
       "      <th>PH</th>\n",
       "      <th>Ammonia (mg/L)</th>\n",
       "      <th>Nitrate (mg/L)</th>\n",
       "      <th>Total_length (cm)</th>\n",
       "      <th>Weight (g)</th>\n",
       "      <th>Unnamed: 11</th>\n",
       "      <th>df</th>\n",
       "    </tr>\n",
       "  </thead>\n",
       "  <tbody>\n",
       "    <tr>\n",
       "      <th>0</th>\n",
       "      <td>2021-06-18T13:06:49+01:00</td>\n",
       "      <td>18-06-2021</td>\n",
       "      <td>1</td>\n",
       "      <td>25.000</td>\n",
       "      <td>95</td>\n",
       "      <td>14.697</td>\n",
       "      <td>8.34286</td>\n",
       "      <td>0.02520</td>\n",
       "      <td>0</td>\n",
       "      <td>6.821429</td>\n",
       "      <td>2.869286</td>\n",
       "      <td>`</td>\n",
       "      <td>df8</td>\n",
       "    </tr>\n",
       "    <tr>\n",
       "      <th>1</th>\n",
       "      <td>2021-06-18T13:07:10+01:00</td>\n",
       "      <td>18-06-2021</td>\n",
       "      <td>2</td>\n",
       "      <td>24.875</td>\n",
       "      <td>16</td>\n",
       "      <td>13.440</td>\n",
       "      <td>8.34286</td>\n",
       "      <td>0.00002</td>\n",
       "      <td>3114</td>\n",
       "      <td>6.821429</td>\n",
       "      <td>2.869286</td>\n",
       "      <td>NaN</td>\n",
       "      <td>df8</td>\n",
       "    </tr>\n",
       "  </tbody>\n",
       "</table>\n",
       "</div>"
      ],
      "text/plain": [
       "                  Unnamed: 0        Date  entry_id  Temperature (C)  \\\n",
       "0  2021-06-18T13:06:49+01:00  18-06-2021         1           25.000   \n",
       "1  2021-06-18T13:07:10+01:00  18-06-2021         2           24.875   \n",
       "\n",
       "   Turbidity(NTU)  Dissolved Oxygen (mg/L)       PH  Ammonia (mg/L)  \\\n",
       "0              95                   14.697  8.34286         0.02520   \n",
       "1              16                   13.440  8.34286         0.00002   \n",
       "\n",
       "   Nitrate (mg/L)  Total_length (cm)  Weight (g) Unnamed: 11   df  \n",
       "0               0           6.821429    2.869286           `  df8  \n",
       "1            3114           6.821429    2.869286         NaN  df8  "
      ]
     },
     "execution_count": 24,
     "metadata": {},
     "output_type": "execute_result"
    }
   ],
   "source": [
    "df8.head(2)"
   ]
  },
  {
   "cell_type": "code",
   "execution_count": 25,
   "id": "3b2a2252",
   "metadata": {},
   "outputs": [
    {
     "data": {
      "text/plain": [
       "`    1\n",
       "Name: Unnamed: 11, dtype: int64"
      ]
     },
     "execution_count": 25,
     "metadata": {},
     "output_type": "execute_result"
    }
   ],
   "source": [
    "df8['Unnamed: 11'].value_counts()"
   ]
  },
  {
   "cell_type": "code",
   "execution_count": 26,
   "id": "614d5a06",
   "metadata": {},
   "outputs": [
    {
     "data": {
      "text/plain": [
       "70743"
      ]
     },
     "execution_count": 26,
     "metadata": {},
     "output_type": "execute_result"
    }
   ],
   "source": [
    "df8['Unnamed: 11'].isna().sum()"
   ]
  },
  {
   "cell_type": "code",
   "execution_count": 27,
   "id": "4d32813a",
   "metadata": {},
   "outputs": [
    {
     "data": {
      "text/plain": [
       "(70744, 13)"
      ]
     },
     "execution_count": 27,
     "metadata": {},
     "output_type": "execute_result"
    }
   ],
   "source": [
    "df8.shape"
   ]
  },
  {
   "cell_type": "code",
   "execution_count": 28,
   "id": "8aa345d1",
   "metadata": {},
   "outputs": [],
   "source": [
    "def rename_columns_df8(df):\n",
    "    df.rename(columns={'Unnamed: 0':'created_at',\n",
    "                      'Turbidity(NTU)':'Turbidity (NTU)',\n",
    "                      'Total_length (cm)':'Fish_Length (cm)',\n",
    "                      'Weight (g)':'Fish_Weight (g)',\n",
    "                      'PH':'pH',\n",
    "                      'Dissolved Oxygen (mg/L)':'Dissolved Oxygen (mg/l)',\n",
    "                      'Ammonia (mg/L)':'Ammonia (mg/l)',\n",
    "                      'Nitrate (mg/L)':'Nitrate (mg/l)'},\n",
    "              inplace=True)"
   ]
  },
  {
   "cell_type": "code",
   "execution_count": 29,
   "id": "7c6196fa",
   "metadata": {},
   "outputs": [
    {
     "data": {
      "text/html": [
       "<div>\n",
       "<style scoped>\n",
       "    .dataframe tbody tr th:only-of-type {\n",
       "        vertical-align: middle;\n",
       "    }\n",
       "\n",
       "    .dataframe tbody tr th {\n",
       "        vertical-align: top;\n",
       "    }\n",
       "\n",
       "    .dataframe thead th {\n",
       "        text-align: right;\n",
       "    }\n",
       "</style>\n",
       "<table border=\"1\" class=\"dataframe\">\n",
       "  <thead>\n",
       "    <tr style=\"text-align: right;\">\n",
       "      <th></th>\n",
       "      <th>created_at</th>\n",
       "      <th>Date</th>\n",
       "      <th>entry_id</th>\n",
       "      <th>Temperature (C)</th>\n",
       "      <th>Turbidity (NTU)</th>\n",
       "      <th>Dissolved Oxygen (mg/l)</th>\n",
       "      <th>pH</th>\n",
       "      <th>Ammonia (mg/l)</th>\n",
       "      <th>Nitrate (mg/l)</th>\n",
       "      <th>Fish_Length (cm)</th>\n",
       "      <th>Fish_Weight (g)</th>\n",
       "      <th>Unnamed: 11</th>\n",
       "      <th>df</th>\n",
       "    </tr>\n",
       "  </thead>\n",
       "  <tbody>\n",
       "    <tr>\n",
       "      <th>0</th>\n",
       "      <td>2021-06-18T13:06:49+01:00</td>\n",
       "      <td>18-06-2021</td>\n",
       "      <td>1</td>\n",
       "      <td>25.000</td>\n",
       "      <td>95</td>\n",
       "      <td>14.697</td>\n",
       "      <td>8.34286</td>\n",
       "      <td>0.02520</td>\n",
       "      <td>0</td>\n",
       "      <td>6.821429</td>\n",
       "      <td>2.869286</td>\n",
       "      <td>`</td>\n",
       "      <td>df8</td>\n",
       "    </tr>\n",
       "    <tr>\n",
       "      <th>1</th>\n",
       "      <td>2021-06-18T13:07:10+01:00</td>\n",
       "      <td>18-06-2021</td>\n",
       "      <td>2</td>\n",
       "      <td>24.875</td>\n",
       "      <td>16</td>\n",
       "      <td>13.440</td>\n",
       "      <td>8.34286</td>\n",
       "      <td>0.00002</td>\n",
       "      <td>3114</td>\n",
       "      <td>6.821429</td>\n",
       "      <td>2.869286</td>\n",
       "      <td>NaN</td>\n",
       "      <td>df8</td>\n",
       "    </tr>\n",
       "  </tbody>\n",
       "</table>\n",
       "</div>"
      ],
      "text/plain": [
       "                  created_at        Date  entry_id  Temperature (C)  \\\n",
       "0  2021-06-18T13:06:49+01:00  18-06-2021         1           25.000   \n",
       "1  2021-06-18T13:07:10+01:00  18-06-2021         2           24.875   \n",
       "\n",
       "   Turbidity (NTU)  Dissolved Oxygen (mg/l)       pH  Ammonia (mg/l)  \\\n",
       "0               95                   14.697  8.34286         0.02520   \n",
       "1               16                   13.440  8.34286         0.00002   \n",
       "\n",
       "   Nitrate (mg/l)  Fish_Length (cm)  Fish_Weight (g) Unnamed: 11   df  \n",
       "0               0          6.821429         2.869286           `  df8  \n",
       "1            3114          6.821429         2.869286         NaN  df8  "
      ]
     },
     "execution_count": 29,
     "metadata": {},
     "output_type": "execute_result"
    }
   ],
   "source": [
    "rename_columns_df8(df8)\n",
    "df8.head(2)"
   ]
  },
  {
   "cell_type": "code",
   "execution_count": 30,
   "id": "984f09c8",
   "metadata": {},
   "outputs": [],
   "source": [
    "df8.drop(columns={'Unnamed: 11'}, inplace=True)"
   ]
  },
  {
   "cell_type": "code",
   "execution_count": 31,
   "id": "a3765956",
   "metadata": {},
   "outputs": [
    {
     "data": {
      "text/html": [
       "<div>\n",
       "<style scoped>\n",
       "    .dataframe tbody tr th:only-of-type {\n",
       "        vertical-align: middle;\n",
       "    }\n",
       "\n",
       "    .dataframe tbody tr th {\n",
       "        vertical-align: top;\n",
       "    }\n",
       "\n",
       "    .dataframe thead th {\n",
       "        text-align: right;\n",
       "    }\n",
       "</style>\n",
       "<table border=\"1\" class=\"dataframe\">\n",
       "  <thead>\n",
       "    <tr style=\"text-align: right;\">\n",
       "      <th></th>\n",
       "      <th>created_at</th>\n",
       "      <th>DATE</th>\n",
       "      <th>entry_id</th>\n",
       "      <th>Temperature(C)</th>\n",
       "      <th>Turbidity(NTU)</th>\n",
       "      <th>Dissolved Oxygen(g/ml)</th>\n",
       "      <th>PH</th>\n",
       "      <th>Ammonia(g/ml)</th>\n",
       "      <th>Nitrate(g/ml)</th>\n",
       "      <th>Fish_length(cm)</th>\n",
       "      <th>Fish_weight(g)</th>\n",
       "      <th>df</th>\n",
       "    </tr>\n",
       "  </thead>\n",
       "  <tbody>\n",
       "    <tr>\n",
       "      <th>0</th>\n",
       "      <td>2021-06-18 12:11:39 CET</td>\n",
       "      <td>18-06-2021</td>\n",
       "      <td>1</td>\n",
       "      <td>27.7</td>\n",
       "      <td>97</td>\n",
       "      <td>7.329</td>\n",
       "      <td>8.48358</td>\n",
       "      <td>0.05393</td>\n",
       "      <td>0</td>\n",
       "      <td>6.947143</td>\n",
       "      <td>4.371429</td>\n",
       "      <td>df9</td>\n",
       "    </tr>\n",
       "    <tr>\n",
       "      <th>1</th>\n",
       "      <td>2021-06-18 12:12:08 CET</td>\n",
       "      <td>18-06-2021</td>\n",
       "      <td>2</td>\n",
       "      <td>27.7</td>\n",
       "      <td>97</td>\n",
       "      <td>7.659</td>\n",
       "      <td>8.40641</td>\n",
       "      <td>0.13203</td>\n",
       "      <td>0</td>\n",
       "      <td>6.947143</td>\n",
       "      <td>4.371429</td>\n",
       "      <td>df9</td>\n",
       "    </tr>\n",
       "  </tbody>\n",
       "</table>\n",
       "</div>"
      ],
      "text/plain": [
       "                created_at        DATE  entry_id  Temperature(C)  \\\n",
       "0  2021-06-18 12:11:39 CET  18-06-2021         1            27.7   \n",
       "1  2021-06-18 12:12:08 CET  18-06-2021         2            27.7   \n",
       "\n",
       "   Turbidity(NTU)  Dissolved Oxygen(g/ml)       PH  Ammonia(g/ml)  \\\n",
       "0              97                   7.329  8.48358        0.05393   \n",
       "1              97                   7.659  8.40641        0.13203   \n",
       "\n",
       "   Nitrate(g/ml)  Fish_length(cm)  Fish_weight(g)   df  \n",
       "0              0         6.947143        4.371429  df9  \n",
       "1              0         6.947143        4.371429  df9  "
      ]
     },
     "execution_count": 31,
     "metadata": {},
     "output_type": "execute_result"
    }
   ],
   "source": [
    "df9.head(2)"
   ]
  },
  {
   "cell_type": "code",
   "execution_count": 32,
   "id": "63f81af5",
   "metadata": {},
   "outputs": [],
   "source": [
    "def rename_columns_df9(df):\n",
    "    df.rename(columns={'DATE':'Date',\n",
    "                      'Temperature(C)':'Temperature (C)',\n",
    "                      'Turbidity(NTU)':'Turbidity (NTU)',\n",
    "                      'Dissolved Oxygen(g/ml)':'Dissolved Oxygen (mg/l)',\n",
    "                      'Ammonia(g/ml)':'Ammonia (mg/l)',\n",
    "                      'Nitrate(g/ml)':'Nitrate (mg/l)',\n",
    "                      'Fish_length(cm)':'Fish_Length (cm)',\n",
    "                      'Fish_weight(g)':'Fish_Weight (g)',\n",
    "                      'PH':'pH'},\n",
    "              inplace=True)"
   ]
  },
  {
   "cell_type": "code",
   "execution_count": 33,
   "id": "4b79cb42",
   "metadata": {},
   "outputs": [
    {
     "data": {
      "text/html": [
       "<div>\n",
       "<style scoped>\n",
       "    .dataframe tbody tr th:only-of-type {\n",
       "        vertical-align: middle;\n",
       "    }\n",
       "\n",
       "    .dataframe tbody tr th {\n",
       "        vertical-align: top;\n",
       "    }\n",
       "\n",
       "    .dataframe thead th {\n",
       "        text-align: right;\n",
       "    }\n",
       "</style>\n",
       "<table border=\"1\" class=\"dataframe\">\n",
       "  <thead>\n",
       "    <tr style=\"text-align: right;\">\n",
       "      <th></th>\n",
       "      <th>created_at</th>\n",
       "      <th>Date</th>\n",
       "      <th>entry_id</th>\n",
       "      <th>Temperature (C)</th>\n",
       "      <th>Turbidity (NTU)</th>\n",
       "      <th>Dissolved Oxygen (mg/l)</th>\n",
       "      <th>pH</th>\n",
       "      <th>Ammonia (mg/l)</th>\n",
       "      <th>Nitrate (mg/l)</th>\n",
       "      <th>Fish_Length (cm)</th>\n",
       "      <th>Fish_Weight (g)</th>\n",
       "      <th>df</th>\n",
       "    </tr>\n",
       "  </thead>\n",
       "  <tbody>\n",
       "    <tr>\n",
       "      <th>0</th>\n",
       "      <td>2021-06-18 12:11:39 CET</td>\n",
       "      <td>18-06-2021</td>\n",
       "      <td>1</td>\n",
       "      <td>27.7</td>\n",
       "      <td>97</td>\n",
       "      <td>7.329</td>\n",
       "      <td>8.48358</td>\n",
       "      <td>0.05393</td>\n",
       "      <td>0</td>\n",
       "      <td>6.947143</td>\n",
       "      <td>4.371429</td>\n",
       "      <td>df9</td>\n",
       "    </tr>\n",
       "    <tr>\n",
       "      <th>1</th>\n",
       "      <td>2021-06-18 12:12:08 CET</td>\n",
       "      <td>18-06-2021</td>\n",
       "      <td>2</td>\n",
       "      <td>27.7</td>\n",
       "      <td>97</td>\n",
       "      <td>7.659</td>\n",
       "      <td>8.40641</td>\n",
       "      <td>0.13203</td>\n",
       "      <td>0</td>\n",
       "      <td>6.947143</td>\n",
       "      <td>4.371429</td>\n",
       "      <td>df9</td>\n",
       "    </tr>\n",
       "  </tbody>\n",
       "</table>\n",
       "</div>"
      ],
      "text/plain": [
       "                created_at        Date  entry_id  Temperature (C)  \\\n",
       "0  2021-06-18 12:11:39 CET  18-06-2021         1             27.7   \n",
       "1  2021-06-18 12:12:08 CET  18-06-2021         2             27.7   \n",
       "\n",
       "   Turbidity (NTU)  Dissolved Oxygen (mg/l)       pH  Ammonia (mg/l)  \\\n",
       "0               97                    7.329  8.48358         0.05393   \n",
       "1               97                    7.659  8.40641         0.13203   \n",
       "\n",
       "   Nitrate (mg/l)  Fish_Length (cm)  Fish_Weight (g)   df  \n",
       "0               0          6.947143         4.371429  df9  \n",
       "1               0          6.947143         4.371429  df9  "
      ]
     },
     "execution_count": 33,
     "metadata": {},
     "output_type": "execute_result"
    }
   ],
   "source": [
    "rename_columns_df9(df9)\n",
    "df9.head(2)"
   ]
  },
  {
   "cell_type": "code",
   "execution_count": 34,
   "id": "c6c0127a",
   "metadata": {},
   "outputs": [
    {
     "data": {
      "text/html": [
       "<div>\n",
       "<style scoped>\n",
       "    .dataframe tbody tr th:only-of-type {\n",
       "        vertical-align: middle;\n",
       "    }\n",
       "\n",
       "    .dataframe tbody tr th {\n",
       "        vertical-align: top;\n",
       "    }\n",
       "\n",
       "    .dataframe thead th {\n",
       "        text-align: right;\n",
       "    }\n",
       "</style>\n",
       "<table border=\"1\" class=\"dataframe\">\n",
       "  <thead>\n",
       "    <tr style=\"text-align: right;\">\n",
       "      <th></th>\n",
       "      <th>created_at</th>\n",
       "      <th>entry_id</th>\n",
       "      <th>TEMPERATURE</th>\n",
       "      <th>TURBIDITY</th>\n",
       "      <th>DISOLVED OXYGEN</th>\n",
       "      <th>pH</th>\n",
       "      <th>AMMONIA</th>\n",
       "      <th>NITRATE</th>\n",
       "      <th>Population</th>\n",
       "      <th>Length</th>\n",
       "      <th>Weight</th>\n",
       "      <th>df</th>\n",
       "    </tr>\n",
       "  </thead>\n",
       "  <tbody>\n",
       "    <tr>\n",
       "      <th>0</th>\n",
       "      <td>2021-06-25 15:48:59 CET</td>\n",
       "      <td>1</td>\n",
       "      <td>-127.0</td>\n",
       "      <td>100</td>\n",
       "      <td>0.0</td>\n",
       "      <td>15.45166</td>\n",
       "      <td>0.0</td>\n",
       "      <td>0</td>\n",
       "      <td>50</td>\n",
       "      <td>13.45</td>\n",
       "      <td>27.6</td>\n",
       "      <td>df10</td>\n",
       "    </tr>\n",
       "    <tr>\n",
       "      <th>1</th>\n",
       "      <td>2021-06-25 15:49:19 CET</td>\n",
       "      <td>2</td>\n",
       "      <td>-127.0</td>\n",
       "      <td>100</td>\n",
       "      <td>0.0</td>\n",
       "      <td>15.45166</td>\n",
       "      <td>0.0</td>\n",
       "      <td>0</td>\n",
       "      <td>50</td>\n",
       "      <td>13.45</td>\n",
       "      <td>27.6</td>\n",
       "      <td>df10</td>\n",
       "    </tr>\n",
       "  </tbody>\n",
       "</table>\n",
       "</div>"
      ],
      "text/plain": [
       "                created_at  entry_id  TEMPERATURE  TURBIDITY  DISOLVED OXYGEN  \\\n",
       "0  2021-06-25 15:48:59 CET         1       -127.0        100              0.0   \n",
       "1  2021-06-25 15:49:19 CET         2       -127.0        100              0.0   \n",
       "\n",
       "         pH  AMMONIA  NITRATE  Population  Length  Weight    df  \n",
       "0  15.45166      0.0        0          50   13.45    27.6  df10  \n",
       "1  15.45166      0.0        0          50   13.45    27.6  df10  "
      ]
     },
     "execution_count": 34,
     "metadata": {},
     "output_type": "execute_result"
    }
   ],
   "source": [
    "df10.head(2)"
   ]
  },
  {
   "cell_type": "code",
   "execution_count": 35,
   "id": "0069a497",
   "metadata": {},
   "outputs": [
    {
     "data": {
      "text/html": [
       "<div>\n",
       "<style scoped>\n",
       "    .dataframe tbody tr th:only-of-type {\n",
       "        vertical-align: middle;\n",
       "    }\n",
       "\n",
       "    .dataframe tbody tr th {\n",
       "        vertical-align: top;\n",
       "    }\n",
       "\n",
       "    .dataframe thead th {\n",
       "        text-align: right;\n",
       "    }\n",
       "</style>\n",
       "<table border=\"1\" class=\"dataframe\">\n",
       "  <thead>\n",
       "    <tr style=\"text-align: right;\">\n",
       "      <th></th>\n",
       "      <th>created_at</th>\n",
       "      <th>entry_id</th>\n",
       "      <th>TEMPERATURE</th>\n",
       "      <th>TURBIDITY</th>\n",
       "      <th>DISOLVED OXYGEN</th>\n",
       "      <th>pH</th>\n",
       "      <th>AMMONIA</th>\n",
       "      <th>NITRATE</th>\n",
       "      <th>Population</th>\n",
       "      <th>Lenght</th>\n",
       "      <th>Weight</th>\n",
       "      <th>df</th>\n",
       "    </tr>\n",
       "  </thead>\n",
       "  <tbody>\n",
       "    <tr>\n",
       "      <th>0</th>\n",
       "      <td>2021-06-25 15:14:07 CET</td>\n",
       "      <td>1</td>\n",
       "      <td>27.0625</td>\n",
       "      <td>100</td>\n",
       "      <td>22.562</td>\n",
       "      <td>8.20213</td>\n",
       "      <td>12151.86328</td>\n",
       "      <td>1061</td>\n",
       "      <td>50</td>\n",
       "      <td>14.12</td>\n",
       "      <td>33.8</td>\n",
       "      <td>df11</td>\n",
       "    </tr>\n",
       "    <tr>\n",
       "      <th>1</th>\n",
       "      <td>2021-06-25 15:14:26 CET</td>\n",
       "      <td>2</td>\n",
       "      <td>27.1250</td>\n",
       "      <td>100</td>\n",
       "      <td>20.493</td>\n",
       "      <td>8.19759</td>\n",
       "      <td>15100.59473</td>\n",
       "      <td>1050</td>\n",
       "      <td>50</td>\n",
       "      <td>14.12</td>\n",
       "      <td>33.8</td>\n",
       "      <td>df11</td>\n",
       "    </tr>\n",
       "  </tbody>\n",
       "</table>\n",
       "</div>"
      ],
      "text/plain": [
       "                created_at  entry_id  TEMPERATURE  TURBIDITY  DISOLVED OXYGEN  \\\n",
       "0  2021-06-25 15:14:07 CET         1      27.0625        100           22.562   \n",
       "1  2021-06-25 15:14:26 CET         2      27.1250        100           20.493   \n",
       "\n",
       "        pH      AMMONIA  NITRATE  Population  Lenght  Weight    df  \n",
       "0  8.20213  12151.86328     1061          50   14.12    33.8  df11  \n",
       "1  8.19759  15100.59473     1050          50   14.12    33.8  df11  "
      ]
     },
     "execution_count": 35,
     "metadata": {},
     "output_type": "execute_result"
    }
   ],
   "source": [
    "df11.head(2)"
   ]
  },
  {
   "cell_type": "code",
   "execution_count": 36,
   "id": "2520588a",
   "metadata": {},
   "outputs": [
    {
     "data": {
      "text/html": [
       "<div>\n",
       "<style scoped>\n",
       "    .dataframe tbody tr th:only-of-type {\n",
       "        vertical-align: middle;\n",
       "    }\n",
       "\n",
       "    .dataframe tbody tr th {\n",
       "        vertical-align: top;\n",
       "    }\n",
       "\n",
       "    .dataframe thead th {\n",
       "        text-align: right;\n",
       "    }\n",
       "</style>\n",
       "<table border=\"1\" class=\"dataframe\">\n",
       "  <thead>\n",
       "    <tr style=\"text-align: right;\">\n",
       "      <th></th>\n",
       "      <th>created_at</th>\n",
       "      <th>entry_id</th>\n",
       "      <th>TEMPERATURE</th>\n",
       "      <th>TURBIDITY</th>\n",
       "      <th>DISOLVED OXYGEN</th>\n",
       "      <th>pH</th>\n",
       "      <th>AMMONIA</th>\n",
       "      <th>NITRATE</th>\n",
       "      <th>Population</th>\n",
       "      <th>Length</th>\n",
       "      <th>Weight</th>\n",
       "      <th>df</th>\n",
       "    </tr>\n",
       "  </thead>\n",
       "  <tbody>\n",
       "    <tr>\n",
       "      <th>0</th>\n",
       "      <td>2021-06-25 15:14:09 CET</td>\n",
       "      <td>1</td>\n",
       "      <td>27.0</td>\n",
       "      <td>100</td>\n",
       "      <td>0.000</td>\n",
       "      <td>6.05951</td>\n",
       "      <td>0.00013</td>\n",
       "      <td>90</td>\n",
       "      <td>50</td>\n",
       "      <td>14.64</td>\n",
       "      <td>28.6</td>\n",
       "      <td>df12</td>\n",
       "    </tr>\n",
       "    <tr>\n",
       "      <th>1</th>\n",
       "      <td>2021-06-25 15:14:28 CET</td>\n",
       "      <td>2</td>\n",
       "      <td>27.0</td>\n",
       "      <td>100</td>\n",
       "      <td>1.027</td>\n",
       "      <td>6.00049</td>\n",
       "      <td>0.00000</td>\n",
       "      <td>201</td>\n",
       "      <td>50</td>\n",
       "      <td>14.64</td>\n",
       "      <td>28.6</td>\n",
       "      <td>df12</td>\n",
       "    </tr>\n",
       "  </tbody>\n",
       "</table>\n",
       "</div>"
      ],
      "text/plain": [
       "                created_at  entry_id  TEMPERATURE  TURBIDITY  DISOLVED OXYGEN  \\\n",
       "0  2021-06-25 15:14:09 CET         1         27.0        100            0.000   \n",
       "1  2021-06-25 15:14:28 CET         2         27.0        100            1.027   \n",
       "\n",
       "        pH  AMMONIA  NITRATE  Population  Length  Weight    df  \n",
       "0  6.05951  0.00013       90          50   14.64    28.6  df12  \n",
       "1  6.00049  0.00000      201          50   14.64    28.6  df12  "
      ]
     },
     "execution_count": 36,
     "metadata": {},
     "output_type": "execute_result"
    }
   ],
   "source": [
    "df12.head(2)"
   ]
  },
  {
   "cell_type": "code",
   "execution_count": 37,
   "id": "b061495b",
   "metadata": {},
   "outputs": [],
   "source": [
    "def rename_columns_10(df):\n",
    "    df.rename(columns={'TEMPERATURE':'Temperature (C)',\n",
    "                      'TURBIDITY':'Turbidity (NTU)',\n",
    "                      'DISOLVED OXYGEN':'Dissolved Oxygen (mg/l)',\n",
    "                      'AMMONIA':'Ammonia (mg/l)',\n",
    "                      'NITRATE':'Nitrate (mg/l)',\n",
    "                      'Length':'Fish_Length (cm)',\n",
    "                      'Weight':'Fish_Weight (g)',\n",
    "                      'Lenght':'Fish_Length (cm)'},\n",
    "              inplace=True)"
   ]
  },
  {
   "cell_type": "code",
   "execution_count": 38,
   "id": "b1e00c14",
   "metadata": {},
   "outputs": [],
   "source": [
    "rename_columns_10(df10)\n",
    "rename_columns_10(df11)\n",
    "rename_columns_10(df12)"
   ]
  },
  {
   "cell_type": "code",
   "execution_count": 39,
   "id": "ceb88c84",
   "metadata": {},
   "outputs": [
    {
     "data": {
      "text/html": [
       "<div>\n",
       "<style scoped>\n",
       "    .dataframe tbody tr th:only-of-type {\n",
       "        vertical-align: middle;\n",
       "    }\n",
       "\n",
       "    .dataframe tbody tr th {\n",
       "        vertical-align: top;\n",
       "    }\n",
       "\n",
       "    .dataframe thead th {\n",
       "        text-align: right;\n",
       "    }\n",
       "</style>\n",
       "<table border=\"1\" class=\"dataframe\">\n",
       "  <thead>\n",
       "    <tr style=\"text-align: right;\">\n",
       "      <th></th>\n",
       "      <th>created_at</th>\n",
       "      <th>entry_id</th>\n",
       "      <th>Temperature (C)</th>\n",
       "      <th>Turbidity (NTU)</th>\n",
       "      <th>Dissolved Oxygen (mg/l)</th>\n",
       "      <th>pH</th>\n",
       "      <th>Ammonia (mg/l)</th>\n",
       "      <th>Nitrate (mg/l)</th>\n",
       "      <th>Population</th>\n",
       "      <th>Fish_Length (cm)</th>\n",
       "      <th>Fish_Weight (g)</th>\n",
       "      <th>df</th>\n",
       "    </tr>\n",
       "  </thead>\n",
       "  <tbody>\n",
       "    <tr>\n",
       "      <th>0</th>\n",
       "      <td>2021-06-25 15:48:59 CET</td>\n",
       "      <td>1</td>\n",
       "      <td>-127.0</td>\n",
       "      <td>100</td>\n",
       "      <td>0.0</td>\n",
       "      <td>15.45166</td>\n",
       "      <td>0.0</td>\n",
       "      <td>0</td>\n",
       "      <td>50</td>\n",
       "      <td>13.45</td>\n",
       "      <td>27.6</td>\n",
       "      <td>df10</td>\n",
       "    </tr>\n",
       "    <tr>\n",
       "      <th>1</th>\n",
       "      <td>2021-06-25 15:49:19 CET</td>\n",
       "      <td>2</td>\n",
       "      <td>-127.0</td>\n",
       "      <td>100</td>\n",
       "      <td>0.0</td>\n",
       "      <td>15.45166</td>\n",
       "      <td>0.0</td>\n",
       "      <td>0</td>\n",
       "      <td>50</td>\n",
       "      <td>13.45</td>\n",
       "      <td>27.6</td>\n",
       "      <td>df10</td>\n",
       "    </tr>\n",
       "  </tbody>\n",
       "</table>\n",
       "</div>"
      ],
      "text/plain": [
       "                created_at  entry_id  Temperature (C)  Turbidity (NTU)  \\\n",
       "0  2021-06-25 15:48:59 CET         1           -127.0              100   \n",
       "1  2021-06-25 15:49:19 CET         2           -127.0              100   \n",
       "\n",
       "   Dissolved Oxygen (mg/l)        pH  Ammonia (mg/l)  Nitrate (mg/l)  \\\n",
       "0                      0.0  15.45166             0.0               0   \n",
       "1                      0.0  15.45166             0.0               0   \n",
       "\n",
       "   Population  Fish_Length (cm)  Fish_Weight (g)    df  \n",
       "0          50             13.45             27.6  df10  \n",
       "1          50             13.45             27.6  df10  "
      ]
     },
     "execution_count": 39,
     "metadata": {},
     "output_type": "execute_result"
    }
   ],
   "source": [
    "df10.head(2)"
   ]
  },
  {
   "cell_type": "code",
   "execution_count": 40,
   "id": "e6d8138e",
   "metadata": {},
   "outputs": [
    {
     "data": {
      "text/html": [
       "<div>\n",
       "<style scoped>\n",
       "    .dataframe tbody tr th:only-of-type {\n",
       "        vertical-align: middle;\n",
       "    }\n",
       "\n",
       "    .dataframe tbody tr th {\n",
       "        vertical-align: top;\n",
       "    }\n",
       "\n",
       "    .dataframe thead th {\n",
       "        text-align: right;\n",
       "    }\n",
       "</style>\n",
       "<table border=\"1\" class=\"dataframe\">\n",
       "  <thead>\n",
       "    <tr style=\"text-align: right;\">\n",
       "      <th></th>\n",
       "      <th>created_at</th>\n",
       "      <th>entry_id</th>\n",
       "      <th>Temperature (C)</th>\n",
       "      <th>Turbidity (NTU)</th>\n",
       "      <th>Dissolved Oxygen (mg/l)</th>\n",
       "      <th>pH</th>\n",
       "      <th>Ammonia (mg/l)</th>\n",
       "      <th>Nitrate (mg/l)</th>\n",
       "      <th>Population</th>\n",
       "      <th>Fish_Length (cm)</th>\n",
       "      <th>Fish_Weight (g)</th>\n",
       "      <th>df</th>\n",
       "    </tr>\n",
       "  </thead>\n",
       "  <tbody>\n",
       "    <tr>\n",
       "      <th>0</th>\n",
       "      <td>2021-06-25 15:14:07 CET</td>\n",
       "      <td>1</td>\n",
       "      <td>27.0625</td>\n",
       "      <td>100</td>\n",
       "      <td>22.562</td>\n",
       "      <td>8.20213</td>\n",
       "      <td>12151.86328</td>\n",
       "      <td>1061</td>\n",
       "      <td>50</td>\n",
       "      <td>14.12</td>\n",
       "      <td>33.8</td>\n",
       "      <td>df11</td>\n",
       "    </tr>\n",
       "    <tr>\n",
       "      <th>1</th>\n",
       "      <td>2021-06-25 15:14:26 CET</td>\n",
       "      <td>2</td>\n",
       "      <td>27.1250</td>\n",
       "      <td>100</td>\n",
       "      <td>20.493</td>\n",
       "      <td>8.19759</td>\n",
       "      <td>15100.59473</td>\n",
       "      <td>1050</td>\n",
       "      <td>50</td>\n",
       "      <td>14.12</td>\n",
       "      <td>33.8</td>\n",
       "      <td>df11</td>\n",
       "    </tr>\n",
       "  </tbody>\n",
       "</table>\n",
       "</div>"
      ],
      "text/plain": [
       "                created_at  entry_id  Temperature (C)  Turbidity (NTU)  \\\n",
       "0  2021-06-25 15:14:07 CET         1          27.0625              100   \n",
       "1  2021-06-25 15:14:26 CET         2          27.1250              100   \n",
       "\n",
       "   Dissolved Oxygen (mg/l)       pH  Ammonia (mg/l)  Nitrate (mg/l)  \\\n",
       "0                   22.562  8.20213     12151.86328            1061   \n",
       "1                   20.493  8.19759     15100.59473            1050   \n",
       "\n",
       "   Population  Fish_Length (cm)  Fish_Weight (g)    df  \n",
       "0          50             14.12             33.8  df11  \n",
       "1          50             14.12             33.8  df11  "
      ]
     },
     "execution_count": 40,
     "metadata": {},
     "output_type": "execute_result"
    }
   ],
   "source": [
    "df11.head(2)"
   ]
  },
  {
   "cell_type": "code",
   "execution_count": 41,
   "id": "1bc9ba38",
   "metadata": {},
   "outputs": [
    {
     "data": {
      "text/html": [
       "<div>\n",
       "<style scoped>\n",
       "    .dataframe tbody tr th:only-of-type {\n",
       "        vertical-align: middle;\n",
       "    }\n",
       "\n",
       "    .dataframe tbody tr th {\n",
       "        vertical-align: top;\n",
       "    }\n",
       "\n",
       "    .dataframe thead th {\n",
       "        text-align: right;\n",
       "    }\n",
       "</style>\n",
       "<table border=\"1\" class=\"dataframe\">\n",
       "  <thead>\n",
       "    <tr style=\"text-align: right;\">\n",
       "      <th></th>\n",
       "      <th>created_at</th>\n",
       "      <th>entry_id</th>\n",
       "      <th>Temperature (C)</th>\n",
       "      <th>Turbidity (NTU)</th>\n",
       "      <th>Dissolved Oxygen (mg/l)</th>\n",
       "      <th>pH</th>\n",
       "      <th>Ammonia (mg/l)</th>\n",
       "      <th>Nitrate (mg/l)</th>\n",
       "      <th>Population</th>\n",
       "      <th>Fish_Length (cm)</th>\n",
       "      <th>Fish_Weight (g)</th>\n",
       "      <th>df</th>\n",
       "    </tr>\n",
       "  </thead>\n",
       "  <tbody>\n",
       "    <tr>\n",
       "      <th>0</th>\n",
       "      <td>2021-06-25 15:14:09 CET</td>\n",
       "      <td>1</td>\n",
       "      <td>27.0</td>\n",
       "      <td>100</td>\n",
       "      <td>0.000</td>\n",
       "      <td>6.05951</td>\n",
       "      <td>0.00013</td>\n",
       "      <td>90</td>\n",
       "      <td>50</td>\n",
       "      <td>14.64</td>\n",
       "      <td>28.6</td>\n",
       "      <td>df12</td>\n",
       "    </tr>\n",
       "    <tr>\n",
       "      <th>1</th>\n",
       "      <td>2021-06-25 15:14:28 CET</td>\n",
       "      <td>2</td>\n",
       "      <td>27.0</td>\n",
       "      <td>100</td>\n",
       "      <td>1.027</td>\n",
       "      <td>6.00049</td>\n",
       "      <td>0.00000</td>\n",
       "      <td>201</td>\n",
       "      <td>50</td>\n",
       "      <td>14.64</td>\n",
       "      <td>28.6</td>\n",
       "      <td>df12</td>\n",
       "    </tr>\n",
       "  </tbody>\n",
       "</table>\n",
       "</div>"
      ],
      "text/plain": [
       "                created_at  entry_id  Temperature (C)  Turbidity (NTU)  \\\n",
       "0  2021-06-25 15:14:09 CET         1             27.0              100   \n",
       "1  2021-06-25 15:14:28 CET         2             27.0              100   \n",
       "\n",
       "   Dissolved Oxygen (mg/l)       pH  Ammonia (mg/l)  Nitrate (mg/l)  \\\n",
       "0                    0.000  6.05951         0.00013              90   \n",
       "1                    1.027  6.00049         0.00000             201   \n",
       "\n",
       "   Population  Fish_Length (cm)  Fish_Weight (g)    df  \n",
       "0          50             14.64             28.6  df12  \n",
       "1          50             14.64             28.6  df12  "
      ]
     },
     "execution_count": 41,
     "metadata": {},
     "output_type": "execute_result"
    }
   ],
   "source": [
    "df12.head(2)"
   ]
  },
  {
   "cell_type": "code",
   "execution_count": 42,
   "id": "3d4fe7ee",
   "metadata": {},
   "outputs": [],
   "source": [
    "df = pd.concat([df1,df2,df3,df4,df6,df7,df8,df9,df10,df11,df12])"
   ]
  },
  {
   "cell_type": "code",
   "execution_count": 43,
   "id": "12299533",
   "metadata": {},
   "outputs": [
    {
     "data": {
      "text/html": [
       "<div>\n",
       "<style scoped>\n",
       "    .dataframe tbody tr th:only-of-type {\n",
       "        vertical-align: middle;\n",
       "    }\n",
       "\n",
       "    .dataframe tbody tr th {\n",
       "        vertical-align: top;\n",
       "    }\n",
       "\n",
       "    .dataframe thead th {\n",
       "        text-align: right;\n",
       "    }\n",
       "</style>\n",
       "<table border=\"1\" class=\"dataframe\">\n",
       "  <thead>\n",
       "    <tr style=\"text-align: right;\">\n",
       "      <th></th>\n",
       "      <th>created_at</th>\n",
       "      <th>entry_id</th>\n",
       "      <th>Temperature (C)</th>\n",
       "      <th>Turbidity (NTU)</th>\n",
       "      <th>Dissolved Oxygen (mg/l)</th>\n",
       "      <th>pH</th>\n",
       "      <th>Ammonia (mg/l)</th>\n",
       "      <th>Nitrate (mg/l)</th>\n",
       "      <th>Population</th>\n",
       "      <th>Fish_Length (cm)</th>\n",
       "      <th>Fish_Weight (g)</th>\n",
       "      <th>df</th>\n",
       "      <th>Date</th>\n",
       "    </tr>\n",
       "  </thead>\n",
       "  <tbody>\n",
       "    <tr>\n",
       "      <th>0</th>\n",
       "      <td>2021-06-19 00:00:05 CET</td>\n",
       "      <td>1889.0</td>\n",
       "      <td>24.8750</td>\n",
       "      <td>100.0</td>\n",
       "      <td>4.505</td>\n",
       "      <td>8.43365</td>\n",
       "      <td>0.45842</td>\n",
       "      <td>193.0</td>\n",
       "      <td>50.0</td>\n",
       "      <td>7.11</td>\n",
       "      <td>2.91</td>\n",
       "      <td>df1</td>\n",
       "      <td>NaN</td>\n",
       "    </tr>\n",
       "    <tr>\n",
       "      <th>1</th>\n",
       "      <td>2021-06-19 00:01:02 CET</td>\n",
       "      <td>1890.0</td>\n",
       "      <td>24.9375</td>\n",
       "      <td>100.0</td>\n",
       "      <td>6.601</td>\n",
       "      <td>8.43818</td>\n",
       "      <td>0.45842</td>\n",
       "      <td>194.0</td>\n",
       "      <td>50.0</td>\n",
       "      <td>7.11</td>\n",
       "      <td>2.91</td>\n",
       "      <td>df1</td>\n",
       "      <td>NaN</td>\n",
       "    </tr>\n",
       "  </tbody>\n",
       "</table>\n",
       "</div>"
      ],
      "text/plain": [
       "                created_at  entry_id  Temperature (C)  Turbidity (NTU)  \\\n",
       "0  2021-06-19 00:00:05 CET    1889.0          24.8750            100.0   \n",
       "1  2021-06-19 00:01:02 CET    1890.0          24.9375            100.0   \n",
       "\n",
       "   Dissolved Oxygen (mg/l)       pH  Ammonia (mg/l)  Nitrate (mg/l)  \\\n",
       "0                    4.505  8.43365         0.45842           193.0   \n",
       "1                    6.601  8.43818         0.45842           194.0   \n",
       "\n",
       "   Population Fish_Length (cm)  Fish_Weight (g)   df Date  \n",
       "0        50.0             7.11             2.91  df1  NaN  \n",
       "1        50.0             7.11             2.91  df1  NaN  "
      ]
     },
     "execution_count": 43,
     "metadata": {},
     "output_type": "execute_result"
    }
   ],
   "source": [
    "df.head(2)"
   ]
  },
  {
   "cell_type": "code",
   "execution_count": 44,
   "id": "1c85df29",
   "metadata": {},
   "outputs": [
    {
     "data": {
      "text/plain": [
       "Index(['created_at', 'entry_id', 'Temperature (C)', 'Turbidity (NTU)',\n",
       "       'Dissolved Oxygen (mg/l)', 'pH', 'Ammonia (mg/l)', 'Nitrate (mg/l)',\n",
       "       'Population', 'Fish_Length (cm)', 'Fish_Weight (g)', 'df', 'Date'],\n",
       "      dtype='object')"
      ]
     },
     "execution_count": 44,
     "metadata": {},
     "output_type": "execute_result"
    }
   ],
   "source": [
    "df.columns"
   ]
  },
  {
   "cell_type": "code",
   "execution_count": 45,
   "id": "54d335e3",
   "metadata": {},
   "outputs": [
    {
     "data": {
      "text/plain": [
       "(1114970, 13)"
      ]
     },
     "execution_count": 45,
     "metadata": {},
     "output_type": "execute_result"
    }
   ],
   "source": [
    "df.shape"
   ]
  },
  {
   "cell_type": "code",
   "execution_count": 47,
   "id": "4aaf1588",
   "metadata": {},
   "outputs": [
    {
     "data": {
      "text/plain": [
       "50.0    431935\n",
       "75.0    180894\n",
       "Name: Population, dtype: int64"
      ]
     },
     "execution_count": 47,
     "metadata": {},
     "output_type": "execute_result"
    }
   ],
   "source": [
    "df.Population.value_counts()"
   ]
  },
  {
   "cell_type": "code",
   "execution_count": null,
   "id": "6057226d",
   "metadata": {},
   "outputs": [],
   "source": [
    "#df.to_csv('ReNile.csv', index=False)"
   ]
  },
  {
   "cell_type": "code",
   "execution_count": null,
   "id": "05185384",
   "metadata": {},
   "outputs": [],
   "source": [
    "df['created_at'] = pd.to_datetime(df['created_at'], errors='coerce')"
   ]
  },
  {
   "cell_type": "markdown",
   "id": "81a99b16",
   "metadata": {},
   "source": [
    "# Data Preprocessing & Exploratory Data Anlysis"
   ]
  },
  {
   "cell_type": "code",
   "execution_count": null,
   "id": "b5270b36",
   "metadata": {},
   "outputs": [],
   "source": [
    "import pandas as pd"
   ]
  },
  {
   "cell_type": "code",
   "execution_count": null,
   "id": "edee5a7b",
   "metadata": {},
   "outputs": [],
   "source": [
    "df = pd.read_csv('ReNile.csv')"
   ]
  },
  {
   "cell_type": "code",
   "execution_count": null,
   "id": "59a179a7",
   "metadata": {},
   "outputs": [],
   "source": [
    "df.sample(6)"
   ]
  },
  {
   "cell_type": "code",
   "execution_count": null,
   "id": "c5575f07",
   "metadata": {},
   "outputs": [],
   "source": [
    "df.shape"
   ]
  },
  {
   "cell_type": "code",
   "execution_count": null,
   "id": "69dc92ab",
   "metadata": {},
   "outputs": [],
   "source": [
    "df.drop_duplicates(inplace=True)"
   ]
  },
  {
   "cell_type": "code",
   "execution_count": null,
   "id": "32dc7b5c",
   "metadata": {},
   "outputs": [],
   "source": [
    "df.shape"
   ]
  },
  {
   "cell_type": "code",
   "execution_count": null,
   "id": "182acaae",
   "metadata": {},
   "outputs": [],
   "source": [
    "df['index_column'] = range(len(df))\n",
    "\n",
    "df.set_index('index_column', inplace=True)"
   ]
  },
  {
   "cell_type": "code",
   "execution_count": null,
   "id": "3a73979c",
   "metadata": {},
   "outputs": [],
   "source": [
    "df.head(6)"
   ]
  },
  {
   "cell_type": "code",
   "execution_count": null,
   "id": "e56ba299",
   "metadata": {},
   "outputs": [],
   "source": [
    "df.columns"
   ]
  },
  {
   "cell_type": "code",
   "execution_count": null,
   "id": "806134d7",
   "metadata": {},
   "outputs": [],
   "source": [
    "df.isna().sum()"
   ]
  },
  {
   "cell_type": "markdown",
   "id": "89668a97",
   "metadata": {},
   "source": [
    "### Ammonia Rows that are NOT NULL"
   ]
  },
  {
   "cell_type": "code",
   "execution_count": null,
   "id": "af32144b",
   "metadata": {},
   "outputs": [],
   "source": [
    "df.shape[0] - df['Ammonia (mg/l)'].isna().sum()"
   ]
  },
  {
   "cell_type": "code",
   "execution_count": null,
   "id": "1ee1bea0",
   "metadata": {},
   "outputs": [],
   "source": [
    "df['Ammonia (mg/l)'].sample(6)"
   ]
  },
  {
   "cell_type": "markdown",
   "id": "47496943",
   "metadata": {},
   "source": [
    "## Date"
   ]
  },
  {
   "cell_type": "code",
   "execution_count": null,
   "id": "df59b429",
   "metadata": {},
   "outputs": [],
   "source": [
    "df.Date.isna().sum()"
   ]
  },
  {
   "cell_type": "code",
   "execution_count": null,
   "id": "880250cc",
   "metadata": {},
   "outputs": [],
   "source": [
    "df.drop(columns=['Date'], inplace=True)"
   ]
  },
  {
   "cell_type": "code",
   "execution_count": null,
   "id": "6e60260d",
   "metadata": {},
   "outputs": [],
   "source": [
    "df.columns"
   ]
  },
  {
   "cell_type": "code",
   "execution_count": null,
   "id": "8a600bf3",
   "metadata": {},
   "outputs": [],
   "source": [
    "df['date'] = df['created_at'].str[:10]"
   ]
  },
  {
   "cell_type": "code",
   "execution_count": null,
   "id": "1eab6318",
   "metadata": {},
   "outputs": [],
   "source": [
    "df.date.value_counts()"
   ]
  },
  {
   "cell_type": "code",
   "execution_count": null,
   "id": "b7d77c89",
   "metadata": {},
   "outputs": [],
   "source": [
    "df['date'] = df['date'].str.replace('/', '-')"
   ]
  },
  {
   "cell_type": "code",
   "execution_count": null,
   "id": "5b002c0b",
   "metadata": {},
   "outputs": [],
   "source": [
    "df.date.value_counts()"
   ]
  },
  {
   "cell_type": "code",
   "execution_count": null,
   "id": "fefc0e1c",
   "metadata": {},
   "outputs": [],
   "source": [
    "df['date'] = pd.to_datetime(df['date'], errors='coerce')"
   ]
  },
  {
   "cell_type": "code",
   "execution_count": null,
   "id": "1bcedcd1",
   "metadata": {},
   "outputs": [],
   "source": [
    "df['date'] = df['date'].dt.strftime('%d-%m-%Y')"
   ]
  },
  {
   "cell_type": "code",
   "execution_count": null,
   "id": "610c6962",
   "metadata": {},
   "outputs": [],
   "source": [
    "df.date.value_counts()"
   ]
  },
  {
   "cell_type": "markdown",
   "id": "18057a65",
   "metadata": {},
   "source": [
    "## Ammonia (mg/l)"
   ]
  },
  {
   "cell_type": "markdown",
   "id": "aba3ac5f",
   "metadata": {},
   "source": [
    "### Typical concentrations range from 0.005 to 0.5 mg/l. (The Acceptable Range)\n",
    "#### At 2.0 mg/L, sensitive fish will typically die."
   ]
  },
  {
   "cell_type": "markdown",
   "id": "10f14af0",
   "metadata": {},
   "source": [
    "### Ammonia Rows that are NOT NULL"
   ]
  },
  {
   "cell_type": "code",
   "execution_count": null,
   "id": "2e502411",
   "metadata": {},
   "outputs": [],
   "source": [
    "df.shape[0] - df['Ammonia (mg/l)'].isna().sum()"
   ]
  },
  {
   "cell_type": "code",
   "execution_count": null,
   "id": "08c56d58",
   "metadata": {},
   "outputs": [],
   "source": [
    "df['Ammonia (mg/l)'].sample(6)"
   ]
  },
  {
   "cell_type": "markdown",
   "id": "12dcad97",
   "metadata": {},
   "source": [
    "## Analysis"
   ]
  },
  {
   "cell_type": "code",
   "execution_count": null,
   "id": "40002f7a",
   "metadata": {},
   "outputs": [],
   "source": [
    "df['Ammonia (mg/l)'].describe()"
   ]
  },
  {
   "cell_type": "markdown",
   "id": "2204ab3e",
   "metadata": {},
   "source": [
    "### dropping the null and inf rows for a better analytical view"
   ]
  },
  {
   "cell_type": "code",
   "execution_count": 49,
   "id": "782f7726",
   "metadata": {},
   "outputs": [],
   "source": [
    "df_ammonia = df[df['Ammonia (mg/l)'].notnull()].copy()"
   ]
  },
  {
   "cell_type": "code",
   "execution_count": 50,
   "id": "b25d8d11",
   "metadata": {},
   "outputs": [
    {
     "data": {
      "text/plain": [
       "0"
      ]
     },
     "execution_count": 50,
     "metadata": {},
     "output_type": "execute_result"
    }
   ],
   "source": [
    "df_ammonia['Ammonia (mg/l)'].isna().sum()"
   ]
  },
  {
   "cell_type": "code",
   "execution_count": 51,
   "id": "37068c1d",
   "metadata": {},
   "outputs": [],
   "source": [
    "df_ammonia['Ammonia (mg/l)'].replace([np.inf, -np.inf], pd.NA, inplace=True)"
   ]
  },
  {
   "cell_type": "code",
   "execution_count": 52,
   "id": "6da5e40b",
   "metadata": {},
   "outputs": [],
   "source": [
    "df_ammonia = df_ammonia[df_ammonia['Ammonia (mg/l)'].notnull()].copy()"
   ]
  },
  {
   "cell_type": "code",
   "execution_count": 53,
   "id": "1dd49634",
   "metadata": {},
   "outputs": [
    {
     "data": {
      "text/plain": [
       "count     916594.00\n",
       "unique      7224.00\n",
       "top            0.38\n",
       "freq       25917.00\n",
       "Name: Ammonia (mg/l), dtype: float64"
      ]
     },
     "execution_count": 53,
     "metadata": {},
     "output_type": "execute_result"
    }
   ],
   "source": [
    "df_ammonia['Ammonia (mg/l)'].describe()"
   ]
  },
  {
   "cell_type": "markdown",
   "id": "94861847",
   "metadata": {},
   "source": [
    "### Ammonia Data that can be considered as close as possible to being accurate\n",
    "#### Typical concentrations range from 0.005 to 0.5 mg/l.\n",
    "#### Ammonia can be transformed into nitrite, and nitrite to nitrate, by certain bacteria."
   ]
  },
  {
   "cell_type": "code",
   "execution_count": null,
   "id": "5243ecd3",
   "metadata": {},
   "outputs": [],
   "source": [
    "\"\"\" Will take a sample of the Data with Ammonia ranging between 0.005 and 3.0 (mg/l)\"\"\"\n",
    "\n",
    "df_ammonia = df_ammonia[(df_ammonia['Ammonia (mg/l)'] >= 0.0) & (df_ammonia['Ammonia (mg/l)'] <= 5.0)]"
   ]
  },
  {
   "cell_type": "code",
   "execution_count": null,
   "id": "b8b08555",
   "metadata": {},
   "outputs": [],
   "source": [
    "df_ammonia.shape"
   ]
  },
  {
   "cell_type": "code",
   "execution_count": null,
   "id": "552ec367",
   "metadata": {},
   "outputs": [],
   "source": [
    "df_ammonia.sample(6)"
   ]
  },
  {
   "cell_type": "code",
   "execution_count": null,
   "id": "09a44d9f",
   "metadata": {},
   "outputs": [],
   "source": [
    "print(df_ammonia['Ammonia (mg/l)'].max())\n",
    "print(df_ammonia['Ammonia (mg/l)'].min())"
   ]
  },
  {
   "cell_type": "code",
   "execution_count": null,
   "id": "430d5973",
   "metadata": {},
   "outputs": [],
   "source": [
    "df_ammonia['Ammonia (mg/l)'].value_counts().sort_index()"
   ]
  },
  {
   "cell_type": "code",
   "execution_count": null,
   "id": "8f33d2ae",
   "metadata": {},
   "outputs": [],
   "source": [
    "df_ammonia['Ammonia (mg/l)'].mean()"
   ]
  },
  {
   "cell_type": "code",
   "execution_count": null,
   "id": "3740780d",
   "metadata": {},
   "outputs": [],
   "source": [
    "df_ammonia['Ammonia (mg/l)'].median()"
   ]
  },
  {
   "cell_type": "code",
   "execution_count": null,
   "id": "02d5558d",
   "metadata": {},
   "outputs": [],
   "source": [
    "plt.figure(figsize=(10, 6))\n",
    "df_ammonia['Ammonia (mg/l)'].hist(color='blue', bins=20)  # Adjust the number of bins as needed\n",
    "plt.title('Ammonia Frequency Histogram')\n",
    "plt.xlabel('Ammonia (mg/l)')\n",
    "plt.ylabel('Frequency')\n",
    "plt.grid(axis='y')\n",
    "plt.show()"
   ]
  },
  {
   "cell_type": "markdown",
   "id": "38a2d5ca",
   "metadata": {},
   "source": [
    "## Temperature (C)"
   ]
  },
  {
   "cell_type": "markdown",
   "id": "e18ed672",
   "metadata": {},
   "source": [
    "### Should remove all negative temperatures"
   ]
  },
  {
   "cell_type": "code",
   "execution_count": null,
   "id": "4d85a2d1",
   "metadata": {},
   "outputs": [],
   "source": [
    "df['Temperature (C)'].isna().sum()"
   ]
  },
  {
   "cell_type": "code",
   "execution_count": null,
   "id": "0c46832e",
   "metadata": {},
   "outputs": [],
   "source": [
    "df['Temperature (C)'].value_counts()"
   ]
  },
  {
   "cell_type": "code",
   "execution_count": null,
   "id": "702771c6",
   "metadata": {},
   "outputs": [],
   "source": [
    "df['Temperature (C)'].describe()"
   ]
  },
  {
   "cell_type": "code",
   "execution_count": null,
   "id": "e6ca3a75",
   "metadata": {},
   "outputs": [],
   "source": [
    "print(df['Temperature (C)'].min())\n",
    "print(df['Temperature (C)'].max())"
   ]
  },
  {
   "cell_type": "code",
   "execution_count": null,
   "id": "56f25b63",
   "metadata": {},
   "outputs": [],
   "source": [
    "(df['Temperature (C)'] < 0).sum()"
   ]
  },
  {
   "cell_type": "code",
   "execution_count": null,
   "id": "ded8ac9c",
   "metadata": {},
   "outputs": [],
   "source": [
    "df[df['Temperature (C)'] < 0]"
   ]
  },
  {
   "cell_type": "code",
   "execution_count": 55,
   "id": "f742afeb",
   "metadata": {},
   "outputs": [],
   "source": [
    "df_temperature = df[df['Temperature (C)'] > 0]"
   ]
  },
  {
   "cell_type": "code",
   "execution_count": 56,
   "id": "d37d863a",
   "metadata": {},
   "outputs": [
    {
     "data": {
      "text/plain": [
       "(1114797, 13)"
      ]
     },
     "execution_count": 56,
     "metadata": {},
     "output_type": "execute_result"
    }
   ],
   "source": [
    "df_temperature.shape"
   ]
  },
  {
   "cell_type": "code",
   "execution_count": 58,
   "id": "1f3908de",
   "metadata": {},
   "outputs": [
    {
     "data": {
      "text/html": [
       "<div>\n",
       "<style scoped>\n",
       "    .dataframe tbody tr th:only-of-type {\n",
       "        vertical-align: middle;\n",
       "    }\n",
       "\n",
       "    .dataframe tbody tr th {\n",
       "        vertical-align: top;\n",
       "    }\n",
       "\n",
       "    .dataframe thead th {\n",
       "        text-align: right;\n",
       "    }\n",
       "</style>\n",
       "<table border=\"1\" class=\"dataframe\">\n",
       "  <thead>\n",
       "    <tr style=\"text-align: right;\">\n",
       "      <th></th>\n",
       "      <th>created_at</th>\n",
       "      <th>entry_id</th>\n",
       "      <th>Temperature (C)</th>\n",
       "      <th>Turbidity (NTU)</th>\n",
       "      <th>Dissolved Oxygen (mg/l)</th>\n",
       "      <th>pH</th>\n",
       "      <th>Ammonia (mg/l)</th>\n",
       "      <th>Nitrate (mg/l)</th>\n",
       "      <th>Population</th>\n",
       "      <th>Fish_Length (cm)</th>\n",
       "      <th>Fish_Weight (g)</th>\n",
       "      <th>df</th>\n",
       "      <th>Date</th>\n",
       "    </tr>\n",
       "  </thead>\n",
       "  <tbody>\n",
       "    <tr>\n",
       "      <th>0</th>\n",
       "      <td>2021-06-19 00:00:05 CET</td>\n",
       "      <td>1889.0</td>\n",
       "      <td>24.8750</td>\n",
       "      <td>100.0</td>\n",
       "      <td>4.505</td>\n",
       "      <td>8.43365</td>\n",
       "      <td>0.45842</td>\n",
       "      <td>193.0</td>\n",
       "      <td>50.0</td>\n",
       "      <td>7.11</td>\n",
       "      <td>2.91</td>\n",
       "      <td>df1</td>\n",
       "      <td>NaN</td>\n",
       "    </tr>\n",
       "    <tr>\n",
       "      <th>1</th>\n",
       "      <td>2021-06-19 00:01:02 CET</td>\n",
       "      <td>1890.0</td>\n",
       "      <td>24.9375</td>\n",
       "      <td>100.0</td>\n",
       "      <td>6.601</td>\n",
       "      <td>8.43818</td>\n",
       "      <td>0.45842</td>\n",
       "      <td>194.0</td>\n",
       "      <td>50.0</td>\n",
       "      <td>7.11</td>\n",
       "      <td>2.91</td>\n",
       "      <td>df1</td>\n",
       "      <td>NaN</td>\n",
       "    </tr>\n",
       "    <tr>\n",
       "      <th>2</th>\n",
       "      <td>2021-06-19 00:01:22 CET</td>\n",
       "      <td>1891.0</td>\n",
       "      <td>24.8750</td>\n",
       "      <td>100.0</td>\n",
       "      <td>15.797</td>\n",
       "      <td>8.42457</td>\n",
       "      <td>0.45842</td>\n",
       "      <td>192.0</td>\n",
       "      <td>50.0</td>\n",
       "      <td>7.11</td>\n",
       "      <td>2.91</td>\n",
       "      <td>df1</td>\n",
       "      <td>NaN</td>\n",
       "    </tr>\n",
       "    <tr>\n",
       "      <th>3</th>\n",
       "      <td>2021-06-19 00:01:44 CET</td>\n",
       "      <td>1892.0</td>\n",
       "      <td>24.9375</td>\n",
       "      <td>100.0</td>\n",
       "      <td>5.046</td>\n",
       "      <td>8.43365</td>\n",
       "      <td>0.45842</td>\n",
       "      <td>193.0</td>\n",
       "      <td>50.0</td>\n",
       "      <td>7.11</td>\n",
       "      <td>2.91</td>\n",
       "      <td>df1</td>\n",
       "      <td>NaN</td>\n",
       "    </tr>\n",
       "    <tr>\n",
       "      <th>4</th>\n",
       "      <td>2021-06-19 00:02:07 CET</td>\n",
       "      <td>1893.0</td>\n",
       "      <td>24.9375</td>\n",
       "      <td>100.0</td>\n",
       "      <td>38.407</td>\n",
       "      <td>8.40641</td>\n",
       "      <td>0.45842</td>\n",
       "      <td>192.0</td>\n",
       "      <td>50.0</td>\n",
       "      <td>7.11</td>\n",
       "      <td>2.91</td>\n",
       "      <td>df1</td>\n",
       "      <td>NaN</td>\n",
       "    </tr>\n",
       "  </tbody>\n",
       "</table>\n",
       "</div>"
      ],
      "text/plain": [
       "                created_at  entry_id  Temperature (C)  Turbidity (NTU)  \\\n",
       "0  2021-06-19 00:00:05 CET    1889.0          24.8750            100.0   \n",
       "1  2021-06-19 00:01:02 CET    1890.0          24.9375            100.0   \n",
       "2  2021-06-19 00:01:22 CET    1891.0          24.8750            100.0   \n",
       "3  2021-06-19 00:01:44 CET    1892.0          24.9375            100.0   \n",
       "4  2021-06-19 00:02:07 CET    1893.0          24.9375            100.0   \n",
       "\n",
       "   Dissolved Oxygen (mg/l)       pH  Ammonia (mg/l)  Nitrate (mg/l)  \\\n",
       "0                    4.505  8.43365         0.45842           193.0   \n",
       "1                    6.601  8.43818         0.45842           194.0   \n",
       "2                   15.797  8.42457         0.45842           192.0   \n",
       "3                    5.046  8.43365         0.45842           193.0   \n",
       "4                   38.407  8.40641         0.45842           192.0   \n",
       "\n",
       "   Population Fish_Length (cm)  Fish_Weight (g)   df Date  \n",
       "0        50.0             7.11             2.91  df1  NaN  \n",
       "1        50.0             7.11             2.91  df1  NaN  \n",
       "2        50.0             7.11             2.91  df1  NaN  \n",
       "3        50.0             7.11             2.91  df1  NaN  \n",
       "4        50.0             7.11             2.91  df1  NaN  "
      ]
     },
     "execution_count": 58,
     "metadata": {},
     "output_type": "execute_result"
    }
   ],
   "source": [
    "df_temperature.head()"
   ]
  },
  {
   "cell_type": "code",
   "execution_count": null,
   "id": "e4cecfae",
   "metadata": {},
   "outputs": [],
   "source": [
    "df['Temperature (C)'].unique()"
   ]
  },
  {
   "cell_type": "code",
   "execution_count": null,
   "id": "b786a1d0",
   "metadata": {
    "scrolled": false
   },
   "outputs": [],
   "source": [
    "aggregated_data = df.groupby(df_temperature['Temperature (C)'].round()).size().reset_index(name='Frequency')\n",
    "\n",
    "plt.figure(figsize=(10, 6))\n",
    "bar_plot = plt.bar(aggregated_data['Temperature (C)'], aggregated_data['Frequency'], color='blue')\n",
    "plt.title('Positive Temperature Frequency')\n",
    "plt.xlabel('Temperature (C)')\n",
    "plt.ylabel('Frequency')\n",
    "plt.grid(axis='y')\n",
    "plt.show()"
   ]
  },
  {
   "cell_type": "markdown",
   "id": "c8dc07d8",
   "metadata": {},
   "source": [
    "# Nitrate (mg/l) -- dependent on Ammonia"
   ]
  },
  {
   "cell_type": "markdown",
   "id": "b4da19a1",
   "metadata": {},
   "source": [
    "#### Typical levels in surface waters range from 0.005 to 0.5 mg/l nitrate.\n",
    "#### However, nitrate is relatively nontoxic to fish and is not a health hazard except at exceedingly high levels (above 90 mg/l NO3-N)."
   ]
  },
  {
   "cell_type": "markdown",
   "id": "4326c945",
   "metadata": {},
   "source": [
    "# Dissolved Oxygen (mg/l)"
   ]
  },
  {
   "cell_type": "markdown",
   "id": "604912b9",
   "metadata": {},
   "source": [
    "#### The maximum amount of dissolved oxygen that can physically be held in water is 18.0mg/L\n",
    "#### The minimum that you should let that figure get to is 6.0mg/L\n",
    "#### Anything lower than this and your fish will start to suffer"
   ]
  },
  {
   "cell_type": "code",
   "execution_count": null,
   "id": "d8fb5e44",
   "metadata": {},
   "outputs": [],
   "source": [
    "print(df['Dissolved Oxygen (mg/l)'].min())\n",
    "print(df['Dissolved Oxygen (mg/l)'].max())"
   ]
  },
  {
   "cell_type": "code",
   "execution_count": null,
   "id": "dd0ddb7f",
   "metadata": {},
   "outputs": [],
   "source": [
    "aggregated_data = df.groupby(df['Dissolved Oxygen (mg/l)'].round()).size().reset_index(name='Frequency')\n",
    "\n",
    "plt.figure(figsize=(10, 6))\n",
    "bar_plot = plt.bar(aggregated_data['Dissolved Oxygen (mg/l)'], aggregated_data['Frequency'], color='blue')\n",
    "plt.title('Oxygen Level Frequency')\n",
    "plt.xlabel('Dissolved Oxygen (mg/l)')\n",
    "plt.ylabel('Frequency')\n",
    "plt.grid(axis='y')\n",
    "plt.show()"
   ]
  },
  {
   "cell_type": "markdown",
   "id": "aba2254b",
   "metadata": {},
   "source": [
    "### pH"
   ]
  },
  {
   "cell_type": "markdown",
   "id": "19dceaed",
   "metadata": {},
   "source": [
    "#### min pH is 0 and max is 14\n",
    "#### fish pond measurements average between 6.5 and 9"
   ]
  },
  {
   "cell_type": "code",
   "execution_count": null,
   "id": "6d9a1333",
   "metadata": {},
   "outputs": [],
   "source": [
    "df.pH.value_counts()"
   ]
  },
  {
   "cell_type": "code",
   "execution_count": null,
   "id": "7fc954ce",
   "metadata": {},
   "outputs": [],
   "source": [
    "print(df.pH.min())\n",
    "print(df.pH.max())"
   ]
  },
  {
   "cell_type": "code",
   "execution_count": null,
   "id": "376b4804",
   "metadata": {},
   "outputs": [],
   "source": [
    "df_ph = df[(df['pH'] >= 0) & (df['pH'] <= 14)]"
   ]
  },
  {
   "cell_type": "code",
   "execution_count": null,
   "id": "fd92ee4e",
   "metadata": {},
   "outputs": [],
   "source": [
    "print(df_ph.pH.min())\n",
    "print(df_ph.pH.max())"
   ]
  },
  {
   "cell_type": "code",
   "execution_count": null,
   "id": "e2fa3ee8",
   "metadata": {},
   "outputs": [],
   "source": [
    "aggregated_data = df_ph.groupby(df_ph['pH'].round()).size().reset_index(name='Frequency')\n",
    "\n",
    "plt.figure(figsize=(10, 6))\n",
    "bar_plot = plt.bar(aggregated_data['pH'], aggregated_data['Frequency'], color='blue')\n",
    "plt.title('pH Level Frequency')\n",
    "plt.xlabel('pH')\n",
    "plt.ylabel('Frequency')\n",
    "plt.grid(axis='y')\n",
    "plt.show()"
   ]
  },
  {
   "cell_type": "markdown",
   "id": "644a9076",
   "metadata": {},
   "source": [
    "# Population"
   ]
  },
  {
   "cell_type": "markdown",
   "id": "5a6d4a07",
   "metadata": {},
   "source": [
    "#### Population columns consist of only 2 values. It will be dropped due to irrelevance."
   ]
  },
  {
   "cell_type": "code",
   "execution_count": null,
   "id": "e26ac572",
   "metadata": {},
   "outputs": [],
   "source": [
    "df.Population.value_counts()"
   ]
  },
  {
   "cell_type": "markdown",
   "id": "d6ce55d1",
   "metadata": {},
   "source": [
    "# Fish Length and Weight"
   ]
  },
  {
   "cell_type": "code",
   "execution_count": null,
   "id": "64fc015d",
   "metadata": {},
   "outputs": [],
   "source": [
    "df['Fish_Length (cm)'].value_counts()"
   ]
  },
  {
   "cell_type": "code",
   "execution_count": null,
   "id": "4c2fd36a",
   "metadata": {},
   "outputs": [],
   "source": [
    "df.columns"
   ]
  },
  {
   "cell_type": "code",
   "execution_count": null,
   "id": "498b4684",
   "metadata": {},
   "outputs": [],
   "source": [
    "df['Fish_Length (cm)'] = pd.to_numeric(df['Fish_Length (cm)'], errors='coerce')\n",
    "df['Fish_Weight (g)'] = pd.to_numeric(df['Fish_Weight (g)'], errors='coerce')\n",
    "\n",
    "print('Fish Length (cm)')\n",
    "print('Min is: ', df['Fish_Length (cm)'].min())\n",
    "print('max is: ', df['Fish_Length (cm)'].max())\n",
    "print('\\n')\n",
    "print('Fish Weight (g)')\n",
    "print('Min is: ', df['Fish_Weight (g)'].min())\n",
    "print('max is: ', df['Fish_Weight (g)'].max())"
   ]
  },
  {
   "cell_type": "code",
   "execution_count": null,
   "id": "d252ea7a",
   "metadata": {},
   "outputs": [],
   "source": [
    "aggregated_data = df.groupby(df['Fish_Length (cm)'].round()).size().reset_index(name='Frequency')\n",
    "\n",
    "plt.figure(figsize=(10, 6))\n",
    "bar_plot = plt.bar(aggregated_data['Fish_Length (cm)'], aggregated_data['Frequency'], color='blue')\n",
    "plt.title('Fish_Length Frequency')\n",
    "plt.xlabel('Fish_Length (cm)')\n",
    "plt.ylabel('Frequency')\n",
    "plt.grid(axis='y')\n",
    "plt.show()"
   ]
  },
  {
   "cell_type": "code",
   "execution_count": null,
   "id": "6f0e3280",
   "metadata": {},
   "outputs": [],
   "source": [
    "aggregated_data = df.groupby(df['Fish_Weight (g)'].round()).size().reset_index(name='Frequency')\n",
    "\n",
    "plt.figure(figsize=(10, 6))\n",
    "bar_plot = plt.bar(aggregated_data['Fish_Weight (g)'], aggregated_data['Frequency'], color='blue')\n",
    "plt.title('Fish_Weight Frequency')\n",
    "plt.xlabel('Fish_Weight (g)')\n",
    "plt.ylabel('Frequency')\n",
    "plt.grid(axis='y')\n",
    "plt.show()"
   ]
  },
  {
   "cell_type": "code",
   "execution_count": null,
   "id": "21bda5a7",
   "metadata": {},
   "outputs": [],
   "source": [
    "df_ammonia.shape"
   ]
  },
  {
   "cell_type": "code",
   "execution_count": null,
   "id": "24bd4953",
   "metadata": {},
   "outputs": [],
   "source": [
    "df_temperature.shape"
   ]
  },
  {
   "cell_type": "code",
   "execution_count": null,
   "id": "d4090f53",
   "metadata": {},
   "outputs": [],
   "source": [
    "df_temperature.head(6)"
   ]
  },
  {
   "cell_type": "code",
   "execution_count": null,
   "id": "6467a3ce",
   "metadata": {},
   "outputs": [],
   "source": [
    "df_ammonia.head(6)"
   ]
  },
  {
   "cell_type": "code",
   "execution_count": null,
   "id": "17ae109a",
   "metadata": {},
   "outputs": [],
   "source": [
    "df_temp = df_temperature[['index_column','Temperature (C)']]"
   ]
  },
  {
   "cell_type": "code",
   "execution_count": null,
   "id": "627f1c8e",
   "metadata": {},
   "outputs": [],
   "source": [
    "df_temp"
   ]
  },
  {
   "cell_type": "code",
   "execution_count": null,
   "id": "8aad6865",
   "metadata": {},
   "outputs": [],
   "source": [
    "df_amm = df_ammonia.drop(columns='Temperature (C)')"
   ]
  },
  {
   "cell_type": "code",
   "execution_count": null,
   "id": "d4699602",
   "metadata": {},
   "outputs": [],
   "source": [
    "df_amm.columns"
   ]
  },
  {
   "cell_type": "code",
   "execution_count": null,
   "id": "26022b2a",
   "metadata": {},
   "outputs": [],
   "source": [
    "df_amm.head(6)"
   ]
  },
  {
   "cell_type": "code",
   "execution_count": null,
   "id": "1d3d7b1a",
   "metadata": {},
   "outputs": [],
   "source": [
    "df_temp.to_csv('df_temp.csv', index=False)\n",
    "df_amm.to_csv('df_amm.csv', index=False)"
   ]
  },
  {
   "cell_type": "markdown",
   "id": "7f6d044a",
   "metadata": {},
   "source": [
    "## data had been merged cleaned on Colab"
   ]
  },
  {
   "cell_type": "code",
   "execution_count": 77,
   "id": "60235b8b",
   "metadata": {},
   "outputs": [],
   "source": [
    "data = pd.read_csv('renile_clean.csv')"
   ]
  },
  {
   "cell_type": "code",
   "execution_count": 78,
   "id": "95c6f18c",
   "metadata": {},
   "outputs": [
    {
     "data": {
      "text/plain": [
       "(505884, 14)"
      ]
     },
     "execution_count": 78,
     "metadata": {},
     "output_type": "execute_result"
    }
   ],
   "source": [
    "data.shape"
   ]
  },
  {
   "cell_type": "code",
   "execution_count": 79,
   "id": "a97db3e3",
   "metadata": {},
   "outputs": [
    {
     "data": {
      "text/html": [
       "<div>\n",
       "<style scoped>\n",
       "    .dataframe tbody tr th:only-of-type {\n",
       "        vertical-align: middle;\n",
       "    }\n",
       "\n",
       "    .dataframe tbody tr th {\n",
       "        vertical-align: top;\n",
       "    }\n",
       "\n",
       "    .dataframe thead th {\n",
       "        text-align: right;\n",
       "    }\n",
       "</style>\n",
       "<table border=\"1\" class=\"dataframe\">\n",
       "  <thead>\n",
       "    <tr style=\"text-align: right;\">\n",
       "      <th></th>\n",
       "      <th>index_column</th>\n",
       "      <th>Temperature (C)</th>\n",
       "      <th>created_at</th>\n",
       "      <th>entry_id</th>\n",
       "      <th>Turbidity (NTU)</th>\n",
       "      <th>Dissolved Oxygen (mg/l)</th>\n",
       "      <th>pH</th>\n",
       "      <th>Ammonia (mg/l)</th>\n",
       "      <th>Nitrate (mg/l)</th>\n",
       "      <th>Population</th>\n",
       "      <th>Fish_Length (cm)</th>\n",
       "      <th>Fish_Weight (g)</th>\n",
       "      <th>df</th>\n",
       "      <th>date</th>\n",
       "    </tr>\n",
       "  </thead>\n",
       "  <tbody>\n",
       "    <tr>\n",
       "      <th>0</th>\n",
       "      <td>0</td>\n",
       "      <td>24.8750</td>\n",
       "      <td>2021-06-19 00:00:05 CET</td>\n",
       "      <td>1889.0</td>\n",
       "      <td>100.0</td>\n",
       "      <td>4.505</td>\n",
       "      <td>8.43365</td>\n",
       "      <td>0.45842</td>\n",
       "      <td>193.0</td>\n",
       "      <td>50.0</td>\n",
       "      <td>7.11</td>\n",
       "      <td>2.91</td>\n",
       "      <td>df1</td>\n",
       "      <td>19-06-2021</td>\n",
       "    </tr>\n",
       "    <tr>\n",
       "      <th>1</th>\n",
       "      <td>1</td>\n",
       "      <td>24.9375</td>\n",
       "      <td>2021-06-19 00:01:02 CET</td>\n",
       "      <td>1890.0</td>\n",
       "      <td>100.0</td>\n",
       "      <td>6.601</td>\n",
       "      <td>8.43818</td>\n",
       "      <td>0.45842</td>\n",
       "      <td>194.0</td>\n",
       "      <td>50.0</td>\n",
       "      <td>7.11</td>\n",
       "      <td>2.91</td>\n",
       "      <td>df1</td>\n",
       "      <td>19-06-2021</td>\n",
       "    </tr>\n",
       "    <tr>\n",
       "      <th>2</th>\n",
       "      <td>2</td>\n",
       "      <td>24.8750</td>\n",
       "      <td>2021-06-19 00:01:22 CET</td>\n",
       "      <td>1891.0</td>\n",
       "      <td>100.0</td>\n",
       "      <td>15.797</td>\n",
       "      <td>8.42457</td>\n",
       "      <td>0.45842</td>\n",
       "      <td>192.0</td>\n",
       "      <td>50.0</td>\n",
       "      <td>7.11</td>\n",
       "      <td>2.91</td>\n",
       "      <td>df1</td>\n",
       "      <td>19-06-2021</td>\n",
       "    </tr>\n",
       "    <tr>\n",
       "      <th>3</th>\n",
       "      <td>3</td>\n",
       "      <td>24.9375</td>\n",
       "      <td>2021-06-19 00:01:44 CET</td>\n",
       "      <td>1892.0</td>\n",
       "      <td>100.0</td>\n",
       "      <td>5.046</td>\n",
       "      <td>8.43365</td>\n",
       "      <td>0.45842</td>\n",
       "      <td>193.0</td>\n",
       "      <td>50.0</td>\n",
       "      <td>7.11</td>\n",
       "      <td>2.91</td>\n",
       "      <td>df1</td>\n",
       "      <td>19-06-2021</td>\n",
       "    </tr>\n",
       "    <tr>\n",
       "      <th>4</th>\n",
       "      <td>4</td>\n",
       "      <td>24.9375</td>\n",
       "      <td>2021-06-19 00:02:07 CET</td>\n",
       "      <td>1893.0</td>\n",
       "      <td>100.0</td>\n",
       "      <td>38.407</td>\n",
       "      <td>8.40641</td>\n",
       "      <td>0.45842</td>\n",
       "      <td>192.0</td>\n",
       "      <td>50.0</td>\n",
       "      <td>7.11</td>\n",
       "      <td>2.91</td>\n",
       "      <td>df1</td>\n",
       "      <td>19-06-2021</td>\n",
       "    </tr>\n",
       "  </tbody>\n",
       "</table>\n",
       "</div>"
      ],
      "text/plain": [
       "   index_column  Temperature (C)               created_at  entry_id  \\\n",
       "0             0          24.8750  2021-06-19 00:00:05 CET    1889.0   \n",
       "1             1          24.9375  2021-06-19 00:01:02 CET    1890.0   \n",
       "2             2          24.8750  2021-06-19 00:01:22 CET    1891.0   \n",
       "3             3          24.9375  2021-06-19 00:01:44 CET    1892.0   \n",
       "4             4          24.9375  2021-06-19 00:02:07 CET    1893.0   \n",
       "\n",
       "   Turbidity (NTU)  Dissolved Oxygen (mg/l)       pH  Ammonia (mg/l)  \\\n",
       "0            100.0                    4.505  8.43365         0.45842   \n",
       "1            100.0                    6.601  8.43818         0.45842   \n",
       "2            100.0                   15.797  8.42457         0.45842   \n",
       "3            100.0                    5.046  8.43365         0.45842   \n",
       "4            100.0                   38.407  8.40641         0.45842   \n",
       "\n",
       "   Nitrate (mg/l)  Population  Fish_Length (cm)  Fish_Weight (g)   df  \\\n",
       "0           193.0        50.0              7.11             2.91  df1   \n",
       "1           194.0        50.0              7.11             2.91  df1   \n",
       "2           192.0        50.0              7.11             2.91  df1   \n",
       "3           193.0        50.0              7.11             2.91  df1   \n",
       "4           192.0        50.0              7.11             2.91  df1   \n",
       "\n",
       "         date  \n",
       "0  19-06-2021  \n",
       "1  19-06-2021  \n",
       "2  19-06-2021  \n",
       "3  19-06-2021  \n",
       "4  19-06-2021  "
      ]
     },
     "execution_count": 79,
     "metadata": {},
     "output_type": "execute_result"
    }
   ],
   "source": [
    "data.head()"
   ]
  },
  {
   "cell_type": "code",
   "execution_count": 93,
   "id": "99f3583e",
   "metadata": {},
   "outputs": [
    {
     "data": {
      "text/plain": [
       "index_column             0\n",
       "temperature              0\n",
       "created_at               0\n",
       "entry_id                 0\n",
       "turbidity                0\n",
       "dissolved_oxygen         0\n",
       "ph                       0\n",
       "ammonia                  0\n",
       "nitrate                  0\n",
       "population          252640\n",
       "fish_length              0\n",
       "fish_weight              0\n",
       "df                       0\n",
       "date                     0\n",
       "dtype: int64"
      ]
     },
     "execution_count": 93,
     "metadata": {},
     "output_type": "execute_result"
    }
   ],
   "source": [
    "data.isna().sum()"
   ]
  },
  {
   "cell_type": "code",
   "execution_count": 96,
   "id": "4e109e4b",
   "metadata": {},
   "outputs": [],
   "source": [
    "data.rename(columns={'Temperature (C)':'temperature',\n",
    "                    'Turbidity (NTU)':'turbidity',\n",
    "                    'Dissolved Oxygen (mg/l)':'dissolved_oxygen',\n",
    "                    'pH':'ph',\n",
    "                    'Ammonia (mg/l)':'ammonia',\n",
    "                    'Nitrate (mg/l)':'nitrate',\n",
    "                    'Fish_Length (cm)':'fish_length',\n",
    "                    'Fish_Weight (g)':'fish_weight',\n",
    "                    'Population':'population',\n",
    "                    'df':'pond'}\n",
    "            , inplace=True)"
   ]
  },
  {
   "cell_type": "code",
   "execution_count": 97,
   "id": "d1e719de",
   "metadata": {},
   "outputs": [
    {
     "data": {
      "text/plain": [
       "Index(['index_column', 'temperature', 'created_at', 'entry_id', 'turbidity',\n",
       "       'dissolved_oxygen', 'ph', 'ammonia', 'nitrate', 'population',\n",
       "       'fish_length', 'fish_weight', 'pond', 'date'],\n",
       "      dtype='object')"
      ]
     },
     "execution_count": 97,
     "metadata": {},
     "output_type": "execute_result"
    }
   ],
   "source": [
    "data.columns"
   ]
  },
  {
   "cell_type": "code",
   "execution_count": 98,
   "id": "2a14c195",
   "metadata": {},
   "outputs": [
    {
     "name": "stdout",
     "output_type": "stream",
     "text": [
      "                   created_at  entry_id  Temperature (C)  Turbidity (NTU)  \\\n",
      "0     2021-06-19 00:00:05 CET    1889.0          24.8750            100.0   \n",
      "1     2021-06-19 00:01:02 CET    1890.0          24.9375            100.0   \n",
      "2     2021-06-19 00:01:22 CET    1891.0          24.8750            100.0   \n",
      "3     2021-06-19 00:01:44 CET    1892.0          24.9375            100.0   \n",
      "4     2021-06-19 00:02:07 CET    1893.0          24.9375            100.0   \n",
      "...                       ...       ...              ...              ...   \n",
      "3585               16/01/2022    3586.0          27.0000             51.0   \n",
      "3586               16/01/2022    3587.0          27.0000             51.0   \n",
      "3587               16/01/2022    3588.0          27.0000             51.0   \n",
      "3588               16/01/2022    3589.0          27.0000             51.0   \n",
      "3589               16/01/2022    3590.0          27.0000             51.0   \n",
      "\n",
      "      Dissolved Oxygen (mg/l)       pH  Ammonia (mg/l)  Nitrate (mg/l)  \\\n",
      "0                       4.505  8.43365         0.45842           193.0   \n",
      "1                       6.601  8.43818         0.45842           194.0   \n",
      "2                      15.797  8.42457         0.45842           192.0   \n",
      "3                       5.046  8.43365         0.45842           193.0   \n",
      "4                      38.407  8.40641         0.45842           192.0   \n",
      "...                       ...      ...             ...             ...   \n",
      "3585                   11.498  6.35457        34.68159          1011.0   \n",
      "3586                   12.323  6.37273        32.37732          1011.0   \n",
      "3587                   12.916  6.35911        30.35826          1008.0   \n",
      "3588                   12.808  6.36819    374949.56250          1066.0   \n",
      "3589                   11.368  6.35911        30.97430          1006.0   \n",
      "\n",
      "      Population Fish_Length (cm)  Fish_Weight (g)    df Date  \n",
      "0           50.0             7.11           2.9100   df1  NaN  \n",
      "1           50.0             7.11           2.9100   df1  NaN  \n",
      "2           50.0             7.11           2.9100   df1  NaN  \n",
      "3           50.0             7.11           2.9100   df1  NaN  \n",
      "4           50.0             7.11           2.9100   df1  NaN  \n",
      "...          ...              ...              ...   ...  ...  \n",
      "3585        50.0         41.66213         620.9285  df12  NaN  \n",
      "3586        50.0         41.66213         620.9285  df12  NaN  \n",
      "3587        50.0         41.66213         620.9285  df12  NaN  \n",
      "3588        50.0         41.66213         620.9285  df12  NaN  \n",
      "3589        50.0         41.66213         620.9285  df12  NaN  \n",
      "\n",
      "[1114970 rows x 13 columns]\n"
     ]
    }
   ],
   "source": [
    "data.replace('df', 'Pond ', regex=True)\n",
    "\n",
    "# Print the updated DataFrame\n",
    "print(df)"
   ]
  },
  {
   "cell_type": "code",
   "execution_count": 101,
   "id": "7fab5122",
   "metadata": {},
   "outputs": [
    {
     "data": {
      "text/plain": [
       "252640"
      ]
     },
     "execution_count": 101,
     "metadata": {},
     "output_type": "execute_result"
    }
   ],
   "source": [
    "data.population.isna().sum()"
   ]
  },
  {
   "cell_type": "code",
   "execution_count": 100,
   "id": "86991142",
   "metadata": {},
   "outputs": [
    {
     "data": {
      "text/plain": [
       "50.0    173749\n",
       "75.0     79495\n",
       "Name: population, dtype: int64"
      ]
     },
     "execution_count": 100,
     "metadata": {},
     "output_type": "execute_result"
    }
   ],
   "source": [
    "data.population.value_counts()"
   ]
  },
  {
   "cell_type": "code",
   "execution_count": 15,
   "id": "5ba84f88",
   "metadata": {},
   "outputs": [
    {
     "data": {
      "image/png": "[encoded data removed]",
      "text/plain": [
       "<Figure size 1000x600 with 1 Axes>"
      ]
     },
     "metadata": {},
     "output_type": "display_data"
    }
   ],
   "source": [
    "aggregated_data = data.groupby(data['temperature']).size().reset_index(name='Frequency')\n",
    "\n",
    "plt.figure(figsize=(10, 6))\n",
    "bar_plot = plt.bar(aggregated_data['temperature'], aggregated_data['Frequency'], color='blue')\n",
    "plt.title('Temperature Frequency')\n",
    "plt.xlabel('Temperarure')\n",
    "plt.ylabel('Frequency')\n",
    "plt.grid(axis='y')\n",
    "plt.show()"
   ]
  },
  {
   "cell_type": "code",
   "execution_count": 16,
   "id": "19a2f3a4",
   "metadata": {},
   "outputs": [
    {
     "data": {
      "image/png": "[encoded data removed]",
      "text/plain": [
       "<Figure size 1000x600 with 1 Axes>"
      ]
     },
     "metadata": {},
     "output_type": "display_data"
    }
   ],
   "source": [
    "aggregated_data = data.groupby(data['ammonia']).size().reset_index(name='Frequency')\n",
    "\n",
    "plt.figure(figsize=(10, 6))\n",
    "bar_plot = plt.bar(aggregated_data['ammonia'], aggregated_data['Frequency'], color='blue')\n",
    "plt.title('Ammonia Frequency')\n",
    "plt.xlabel('Ammonia')\n",
    "plt.ylabel('Frequency')\n",
    "plt.grid(axis='y')\n",
    "plt.show()"
   ]
  },
  {
   "cell_type": "code",
   "execution_count": 17,
   "id": "f33756db",
   "metadata": {},
   "outputs": [
    {
     "data": {
      "image/png": "[encoded data removed]",
      "text/plain": [
       "<Figure size 1000x600 with 1 Axes>"
      ]
     },
     "metadata": {},
     "output_type": "display_data"
    }
   ],
   "source": [
    "aggregated_data = data.groupby(data['dissolved_oxygen']).size().reset_index(name='Frequency')\n",
    "\n",
    "plt.figure(figsize=(10, 6))\n",
    "bar_plot = plt.bar(aggregated_data['dissolved_oxygen'], aggregated_data['Frequency'], color='blue')\n",
    "plt.title('Oxygen Measurements Frequency')\n",
    "plt.xlabel('Oxygen Measurement')\n",
    "plt.ylabel('Frequency')\n",
    "plt.grid(axis='y')\n",
    "plt.show()"
   ]
  },
  {
   "cell_type": "code",
   "execution_count": 103,
   "id": "c667434a",
   "metadata": {},
   "outputs": [],
   "source": [
    "data = data[(data['ph'] >= 0) & (data['ph'] <= 14)]"
   ]
  },
  {
   "cell_type": "code",
   "execution_count": 104,
   "id": "51dd75e0",
   "metadata": {},
   "outputs": [
    {
     "data": {
      "text/plain": [
       "(448206, 14)"
      ]
     },
     "execution_count": 104,
     "metadata": {},
     "output_type": "execute_result"
    }
   ],
   "source": [
    "data.shape"
   ]
  },
  {
   "cell_type": "code",
   "execution_count": 105,
   "id": "1f1d6ace",
   "metadata": {},
   "outputs": [
    {
     "data": {
      "text/html": [
       "<div>\n",
       "<style scoped>\n",
       "    .dataframe tbody tr th:only-of-type {\n",
       "        vertical-align: middle;\n",
       "    }\n",
       "\n",
       "    .dataframe tbody tr th {\n",
       "        vertical-align: top;\n",
       "    }\n",
       "\n",
       "    .dataframe thead th {\n",
       "        text-align: right;\n",
       "    }\n",
       "</style>\n",
       "<table border=\"1\" class=\"dataframe\">\n",
       "  <thead>\n",
       "    <tr style=\"text-align: right;\">\n",
       "      <th></th>\n",
       "      <th>index_column</th>\n",
       "      <th>temperature</th>\n",
       "      <th>created_at</th>\n",
       "      <th>entry_id</th>\n",
       "      <th>turbidity</th>\n",
       "      <th>dissolved_oxygen</th>\n",
       "      <th>ph</th>\n",
       "      <th>ammonia</th>\n",
       "      <th>nitrate</th>\n",
       "      <th>population</th>\n",
       "      <th>fish_length</th>\n",
       "      <th>fish_weight</th>\n",
       "      <th>pond</th>\n",
       "      <th>date</th>\n",
       "    </tr>\n",
       "  </thead>\n",
       "  <tbody>\n",
       "    <tr>\n",
       "      <th>0</th>\n",
       "      <td>0</td>\n",
       "      <td>24.8750</td>\n",
       "      <td>2021-06-19 00:00:05 CET</td>\n",
       "      <td>1889.0</td>\n",
       "      <td>100.0</td>\n",
       "      <td>4.505</td>\n",
       "      <td>8.43365</td>\n",
       "      <td>0.45842</td>\n",
       "      <td>193.0</td>\n",
       "      <td>50.0</td>\n",
       "      <td>7.11</td>\n",
       "      <td>2.91</td>\n",
       "      <td>df1</td>\n",
       "      <td>19-06-2021</td>\n",
       "    </tr>\n",
       "    <tr>\n",
       "      <th>1</th>\n",
       "      <td>1</td>\n",
       "      <td>24.9375</td>\n",
       "      <td>2021-06-19 00:01:02 CET</td>\n",
       "      <td>1890.0</td>\n",
       "      <td>100.0</td>\n",
       "      <td>6.601</td>\n",
       "      <td>8.43818</td>\n",
       "      <td>0.45842</td>\n",
       "      <td>194.0</td>\n",
       "      <td>50.0</td>\n",
       "      <td>7.11</td>\n",
       "      <td>2.91</td>\n",
       "      <td>df1</td>\n",
       "      <td>19-06-2021</td>\n",
       "    </tr>\n",
       "    <tr>\n",
       "      <th>2</th>\n",
       "      <td>2</td>\n",
       "      <td>24.8750</td>\n",
       "      <td>2021-06-19 00:01:22 CET</td>\n",
       "      <td>1891.0</td>\n",
       "      <td>100.0</td>\n",
       "      <td>15.797</td>\n",
       "      <td>8.42457</td>\n",
       "      <td>0.45842</td>\n",
       "      <td>192.0</td>\n",
       "      <td>50.0</td>\n",
       "      <td>7.11</td>\n",
       "      <td>2.91</td>\n",
       "      <td>df1</td>\n",
       "      <td>19-06-2021</td>\n",
       "    </tr>\n",
       "  </tbody>\n",
       "</table>\n",
       "</div>"
      ],
      "text/plain": [
       "   index_column  temperature               created_at  entry_id  turbidity  \\\n",
       "0             0      24.8750  2021-06-19 00:00:05 CET    1889.0      100.0   \n",
       "1             1      24.9375  2021-06-19 00:01:02 CET    1890.0      100.0   \n",
       "2             2      24.8750  2021-06-19 00:01:22 CET    1891.0      100.0   \n",
       "\n",
       "   dissolved_oxygen       ph  ammonia  nitrate  population  fish_length  \\\n",
       "0             4.505  8.43365  0.45842    193.0        50.0         7.11   \n",
       "1             6.601  8.43818  0.45842    194.0        50.0         7.11   \n",
       "2            15.797  8.42457  0.45842    192.0        50.0         7.11   \n",
       "\n",
       "   fish_weight pond        date  \n",
       "0         2.91  df1  19-06-2021  \n",
       "1         2.91  df1  19-06-2021  \n",
       "2         2.91  df1  19-06-2021  "
      ]
     },
     "execution_count": 105,
     "metadata": {},
     "output_type": "execute_result"
    }
   ],
   "source": [
    "data.head(3)"
   ]
  },
  {
   "cell_type": "code",
   "execution_count": 19,
   "id": "69dacf10",
   "metadata": {},
   "outputs": [
    {
     "data": {
      "image/png": "[encoded data removed]",
      "text/plain": [
       "<Figure size 1000x600 with 1 Axes>"
      ]
     },
     "metadata": {},
     "output_type": "display_data"
    }
   ],
   "source": [
    "aggregated_data = data.groupby(data['ph']).size().reset_index(name='Frequency')\n",
    "\n",
    "plt.figure(figsize=(10, 6))\n",
    "bar_plot = plt.bar(aggregated_data['ph'], aggregated_data['Frequency'], color='blue')\n",
    "plt.title('pH Frequency')\n",
    "plt.xlabel('pH')\n",
    "plt.ylabel('Frequency')\n",
    "plt.grid(axis='y')\n",
    "plt.show()"
   ]
  },
  {
   "cell_type": "code",
   "execution_count": 20,
   "id": "64d431bd",
   "metadata": {},
   "outputs": [
    {
     "data": {
      "image/png": "[encoded data removed]",
      "text/plain": [
       "<Figure size 1000x600 with 1 Axes>"
      ]
     },
     "metadata": {},
     "output_type": "display_data"
    }
   ],
   "source": [
    "aggregated_data = data.groupby(data['fish_length']).size().reset_index(name='Frequency')\n",
    "\n",
    "plt.figure(figsize=(10, 6))\n",
    "bar_plot = plt.bar(aggregated_data['fish_length'], aggregated_data['Frequency'], color='blue')\n",
    "plt.title('Fish Length Measurements Frequency')\n",
    "plt.xlabel('Fish Length')\n",
    "plt.ylabel('Frequency')\n",
    "plt.grid(axis='y')\n",
    "plt.show()"
   ]
  },
  {
   "cell_type": "code",
   "execution_count": 21,
   "id": "c518e2b6",
   "metadata": {},
   "outputs": [
    {
     "data": {
      "image/png": "[encoded data removed]",
      "text/plain": [
       "<Figure size 1000x600 with 1 Axes>"
      ]
     },
     "metadata": {},
     "output_type": "display_data"
    }
   ],
   "source": [
    "aggregated_data = data.groupby(data['fish_weight']).size().reset_index(name='Frequency')\n",
    "\n",
    "plt.figure(figsize=(10, 6))\n",
    "bar_plot = plt.bar(aggregated_data['fish_weight'], aggregated_data['Frequency'], color='blue')\n",
    "plt.title('Fish Weight Measurements Frequency')\n",
    "plt.xlabel('Fish Weight')\n",
    "plt.ylabel('Frequency')\n",
    "plt.grid(axis='y')\n",
    "plt.show()"
   ]
  },
  {
   "cell_type": "markdown",
   "id": "ff4ec860",
   "metadata": {},
   "source": [
    "# ML Process: Data Preprocessing"
   ]
  },
  {
   "cell_type": "markdown",
   "id": "b14357bf",
   "metadata": {},
   "source": [
    "### ReNile Data"
   ]
  },
  {
   "cell_type": "code",
   "execution_count": 2,
   "id": "867821be",
   "metadata": {},
   "outputs": [],
   "source": [
    "\"\"\" Data Provided by ReNile \"\"\"\n",
    "    \n",
    "fish_data = pd.read_csv('fish_data.csv')   "
   ]
  },
  {
   "cell_type": "code",
   "execution_count": 3,
   "id": "8420805e",
   "metadata": {},
   "outputs": [
    {
     "data": {
      "text/plain": [
       "(183, 13)"
      ]
     },
     "execution_count": 3,
     "metadata": {},
     "output_type": "execute_result"
    }
   ],
   "source": [
    "fish_data.shape"
   ]
  },
  {
   "cell_type": "code",
   "execution_count": 4,
   "id": "1392aecb",
   "metadata": {},
   "outputs": [
    {
     "data": {
      "text/plain": [
       "date                     3\n",
       "total_fish               3\n",
       "loss                     3\n",
       "ph                       3\n",
       "dissolved_oxygen         3\n",
       "oxygen_saturation        3\n",
       "water_temperature        3\n",
       "electric_conductivity    3\n",
       "dissolved_solids         3\n",
       "salinity                 3\n",
       "weight                   3\n",
       "feed_gm                  3\n",
       "feed_kg                  3\n",
       "dtype: int64"
      ]
     },
     "execution_count": 4,
     "metadata": {},
     "output_type": "execute_result"
    }
   ],
   "source": [
    "fish_data.isna().sum()"
   ]
  },
  {
   "cell_type": "code",
   "execution_count": 5,
   "id": "8d35e545",
   "metadata": {},
   "outputs": [],
   "source": [
    "fish_data.dropna(inplace=True)"
   ]
  },
  {
   "cell_type": "code",
   "execution_count": 6,
   "id": "fdca427e",
   "metadata": {},
   "outputs": [
    {
     "data": {
      "text/plain": [
       "date                     0\n",
       "total_fish               0\n",
       "loss                     0\n",
       "ph                       0\n",
       "dissolved_oxygen         0\n",
       "oxygen_saturation        0\n",
       "water_temperature        0\n",
       "electric_conductivity    0\n",
       "dissolved_solids         0\n",
       "salinity                 0\n",
       "weight                   0\n",
       "feed_gm                  0\n",
       "feed_kg                  0\n",
       "dtype: int64"
      ]
     },
     "execution_count": 6,
     "metadata": {},
     "output_type": "execute_result"
    }
   ],
   "source": [
    "fish_data.isna().sum()"
   ]
  },
  {
   "cell_type": "code",
   "execution_count": 7,
   "id": "72ba8b50",
   "metadata": {},
   "outputs": [
    {
     "data": {
      "text/plain": [
       "' Data is TOO SMALL for any sort of prediction '"
      ]
     },
     "execution_count": 7,
     "metadata": {},
     "output_type": "execute_result"
    }
   ],
   "source": [
    "\"\"\" Data is TOO SMALL for any sort of prediction \"\"\""
   ]
  },
  {
   "cell_type": "markdown",
   "id": "28c5e310",
   "metadata": {},
   "source": [
    "## Back to Kaggle Dataset"
   ]
  },
  {
   "cell_type": "code",
   "execution_count": 106,
   "id": "942010b3",
   "metadata": {},
   "outputs": [
    {
     "data": {
      "text/plain": [
       "(448206, 14)"
      ]
     },
     "execution_count": 106,
     "metadata": {},
     "output_type": "execute_result"
    }
   ],
   "source": [
    "data.shape"
   ]
  },
  {
   "cell_type": "code",
   "execution_count": 66,
   "id": "002ac9d4",
   "metadata": {},
   "outputs": [
    {
     "data": {
      "text/html": [
       "<div>\n",
       "<style scoped>\n",
       "    .dataframe tbody tr th:only-of-type {\n",
       "        vertical-align: middle;\n",
       "    }\n",
       "\n",
       "    .dataframe tbody tr th {\n",
       "        vertical-align: top;\n",
       "    }\n",
       "\n",
       "    .dataframe thead th {\n",
       "        text-align: right;\n",
       "    }\n",
       "</style>\n",
       "<table border=\"1\" class=\"dataframe\">\n",
       "  <thead>\n",
       "    <tr style=\"text-align: right;\">\n",
       "      <th></th>\n",
       "      <th>index_column</th>\n",
       "      <th>temperature</th>\n",
       "      <th>created_at</th>\n",
       "      <th>entry_id</th>\n",
       "      <th>turbidity</th>\n",
       "      <th>dissolved_oxygen</th>\n",
       "      <th>ph</th>\n",
       "      <th>ammonia</th>\n",
       "      <th>nitrate</th>\n",
       "      <th>fish_length</th>\n",
       "      <th>fish_weight</th>\n",
       "      <th>df</th>\n",
       "      <th>date</th>\n",
       "    </tr>\n",
       "  </thead>\n",
       "  <tbody>\n",
       "    <tr>\n",
       "      <th>0</th>\n",
       "      <td>0</td>\n",
       "      <td>24.8750</td>\n",
       "      <td>2021-06-19 00:00:05 CET</td>\n",
       "      <td>1889.0</td>\n",
       "      <td>100.0</td>\n",
       "      <td>4.505</td>\n",
       "      <td>8.43365</td>\n",
       "      <td>0.45842</td>\n",
       "      <td>193.0</td>\n",
       "      <td>7.11</td>\n",
       "      <td>2.91</td>\n",
       "      <td>df1</td>\n",
       "      <td>19-06-2021</td>\n",
       "    </tr>\n",
       "    <tr>\n",
       "      <th>1</th>\n",
       "      <td>1</td>\n",
       "      <td>24.9375</td>\n",
       "      <td>2021-06-19 00:01:02 CET</td>\n",
       "      <td>1890.0</td>\n",
       "      <td>100.0</td>\n",
       "      <td>6.601</td>\n",
       "      <td>8.43818</td>\n",
       "      <td>0.45842</td>\n",
       "      <td>194.0</td>\n",
       "      <td>7.11</td>\n",
       "      <td>2.91</td>\n",
       "      <td>df1</td>\n",
       "      <td>19-06-2021</td>\n",
       "    </tr>\n",
       "    <tr>\n",
       "      <th>2</th>\n",
       "      <td>2</td>\n",
       "      <td>24.8750</td>\n",
       "      <td>2021-06-19 00:01:22 CET</td>\n",
       "      <td>1891.0</td>\n",
       "      <td>100.0</td>\n",
       "      <td>15.797</td>\n",
       "      <td>8.42457</td>\n",
       "      <td>0.45842</td>\n",
       "      <td>192.0</td>\n",
       "      <td>7.11</td>\n",
       "      <td>2.91</td>\n",
       "      <td>df1</td>\n",
       "      <td>19-06-2021</td>\n",
       "    </tr>\n",
       "    <tr>\n",
       "      <th>3</th>\n",
       "      <td>3</td>\n",
       "      <td>24.9375</td>\n",
       "      <td>2021-06-19 00:01:44 CET</td>\n",
       "      <td>1892.0</td>\n",
       "      <td>100.0</td>\n",
       "      <td>5.046</td>\n",
       "      <td>8.43365</td>\n",
       "      <td>0.45842</td>\n",
       "      <td>193.0</td>\n",
       "      <td>7.11</td>\n",
       "      <td>2.91</td>\n",
       "      <td>df1</td>\n",
       "      <td>19-06-2021</td>\n",
       "    </tr>\n",
       "    <tr>\n",
       "      <th>4</th>\n",
       "      <td>4</td>\n",
       "      <td>24.9375</td>\n",
       "      <td>2021-06-19 00:02:07 CET</td>\n",
       "      <td>1893.0</td>\n",
       "      <td>100.0</td>\n",
       "      <td>38.407</td>\n",
       "      <td>8.40641</td>\n",
       "      <td>0.45842</td>\n",
       "      <td>192.0</td>\n",
       "      <td>7.11</td>\n",
       "      <td>2.91</td>\n",
       "      <td>df1</td>\n",
       "      <td>19-06-2021</td>\n",
       "    </tr>\n",
       "  </tbody>\n",
       "</table>\n",
       "</div>"
      ],
      "text/plain": [
       "   index_column  temperature               created_at  entry_id  turbidity  \\\n",
       "0             0      24.8750  2021-06-19 00:00:05 CET    1889.0      100.0   \n",
       "1             1      24.9375  2021-06-19 00:01:02 CET    1890.0      100.0   \n",
       "2             2      24.8750  2021-06-19 00:01:22 CET    1891.0      100.0   \n",
       "3             3      24.9375  2021-06-19 00:01:44 CET    1892.0      100.0   \n",
       "4             4      24.9375  2021-06-19 00:02:07 CET    1893.0      100.0   \n",
       "\n",
       "   dissolved_oxygen       ph  ammonia  nitrate  fish_length  fish_weight   df  \\\n",
       "0             4.505  8.43365  0.45842    193.0         7.11         2.91  df1   \n",
       "1             6.601  8.43818  0.45842    194.0         7.11         2.91  df1   \n",
       "2            15.797  8.42457  0.45842    192.0         7.11         2.91  df1   \n",
       "3             5.046  8.43365  0.45842    193.0         7.11         2.91  df1   \n",
       "4            38.407  8.40641  0.45842    192.0         7.11         2.91  df1   \n",
       "\n",
       "         date  \n",
       "0  19-06-2021  \n",
       "1  19-06-2021  \n",
       "2  19-06-2021  \n",
       "3  19-06-2021  \n",
       "4  19-06-2021  "
      ]
     },
     "execution_count": 66,
     "metadata": {},
     "output_type": "execute_result"
    }
   ],
   "source": [
    "data.head()"
   ]
  },
  {
   "cell_type": "code",
   "execution_count": null,
   "id": "eaffe3ba",
   "metadata": {},
   "outputs": [],
   "source": [
    "#data.to_csv('renile_clean_final.csv')"
   ]
  },
  {
   "cell_type": "code",
   "execution_count": 23,
   "id": "cb458d15",
   "metadata": {},
   "outputs": [
    {
     "data": {
      "text/plain": [
       "Index(['index_column', 'temperature', 'created_at', 'entry_id', 'turbidity',\n",
       "       'dissolved_oxygen', 'ph', 'ammonia', 'nitrate', 'fish_length',\n",
       "       'fish_weight', 'df', 'date'],\n",
       "      dtype='object')"
      ]
     },
     "execution_count": 23,
     "metadata": {},
     "output_type": "execute_result"
    }
   ],
   "source": [
    "data.columns"
   ]
  },
  {
   "cell_type": "code",
   "execution_count": 108,
   "id": "f46adca0",
   "metadata": {},
   "outputs": [],
   "source": [
    "data_filtered = data[['date','temperature','turbidity','dissolved_oxygen','ph','ammonia','nitrate','population','fish_length','fish_weight', 'pond']]"
   ]
  },
  {
   "cell_type": "code",
   "execution_count": 68,
   "id": "aaf05e8f",
   "metadata": {},
   "outputs": [
    {
     "data": {
      "text/html": [
       "<div>\n",
       "<style scoped>\n",
       "    .dataframe tbody tr th:only-of-type {\n",
       "        vertical-align: middle;\n",
       "    }\n",
       "\n",
       "    .dataframe tbody tr th {\n",
       "        vertical-align: top;\n",
       "    }\n",
       "\n",
       "    .dataframe thead th {\n",
       "        text-align: right;\n",
       "    }\n",
       "</style>\n",
       "<table border=\"1\" class=\"dataframe\">\n",
       "  <thead>\n",
       "    <tr style=\"text-align: right;\">\n",
       "      <th></th>\n",
       "      <th>date</th>\n",
       "      <th>temperature</th>\n",
       "      <th>turbidity</th>\n",
       "      <th>dissolved_oxygen</th>\n",
       "      <th>ph</th>\n",
       "      <th>ammonia</th>\n",
       "      <th>nitrate</th>\n",
       "      <th>fish_length</th>\n",
       "      <th>fish_weight</th>\n",
       "      <th>df</th>\n",
       "    </tr>\n",
       "  </thead>\n",
       "  <tbody>\n",
       "    <tr>\n",
       "      <th>415280</th>\n",
       "      <td>10-07-2021</td>\n",
       "      <td>24.6250</td>\n",
       "      <td>93.0</td>\n",
       "      <td>7.167</td>\n",
       "      <td>7.43042</td>\n",
       "      <td>1.49492</td>\n",
       "      <td>192.0</td>\n",
       "      <td>13.700000</td>\n",
       "      <td>30.300000</td>\n",
       "      <td>df9</td>\n",
       "    </tr>\n",
       "    <tr>\n",
       "      <th>215098</th>\n",
       "      <td>31-07-2021</td>\n",
       "      <td>23.5000</td>\n",
       "      <td>100.0</td>\n",
       "      <td>9.355</td>\n",
       "      <td>6.72681</td>\n",
       "      <td>0.00339</td>\n",
       "      <td>1511.0</td>\n",
       "      <td>18.140000</td>\n",
       "      <td>60.200000</td>\n",
       "      <td>df6</td>\n",
       "    </tr>\n",
       "    <tr>\n",
       "      <th>385403</th>\n",
       "      <td>29-06-2021</td>\n",
       "      <td>23.5000</td>\n",
       "      <td>90.0</td>\n",
       "      <td>10.471</td>\n",
       "      <td>7.66194</td>\n",
       "      <td>0.01130</td>\n",
       "      <td>90.0</td>\n",
       "      <td>10.168571</td>\n",
       "      <td>10.405714</td>\n",
       "      <td>df9</td>\n",
       "    </tr>\n",
       "    <tr>\n",
       "      <th>144637</th>\n",
       "      <td>14-08-2021</td>\n",
       "      <td>23.5000</td>\n",
       "      <td>100.0</td>\n",
       "      <td>5.080</td>\n",
       "      <td>7.38957</td>\n",
       "      <td>0.30753</td>\n",
       "      <td>709.0</td>\n",
       "      <td>20.310000</td>\n",
       "      <td>49.300000</td>\n",
       "      <td>df3</td>\n",
       "    </tr>\n",
       "    <tr>\n",
       "      <th>229329</th>\n",
       "      <td>17-09-2021</td>\n",
       "      <td>24.8750</td>\n",
       "      <td>100.0</td>\n",
       "      <td>15.019</td>\n",
       "      <td>3.25412</td>\n",
       "      <td>0.00082</td>\n",
       "      <td>2143.0</td>\n",
       "      <td>28.930000</td>\n",
       "      <td>210.640000</td>\n",
       "      <td>df6</td>\n",
       "    </tr>\n",
       "    <tr>\n",
       "      <th>462790</th>\n",
       "      <td>26-09-2021</td>\n",
       "      <td>23.0625</td>\n",
       "      <td>-10.0</td>\n",
       "      <td>8.212</td>\n",
       "      <td>3.87148</td>\n",
       "      <td>0.59567</td>\n",
       "      <td>874.0</td>\n",
       "      <td>33.741429</td>\n",
       "      <td>349.842857</td>\n",
       "      <td>df9</td>\n",
       "    </tr>\n",
       "  </tbody>\n",
       "</table>\n",
       "</div>"
      ],
      "text/plain": [
       "              date  temperature  turbidity  dissolved_oxygen       ph  \\\n",
       "415280  10-07-2021      24.6250       93.0             7.167  7.43042   \n",
       "215098  31-07-2021      23.5000      100.0             9.355  6.72681   \n",
       "385403  29-06-2021      23.5000       90.0            10.471  7.66194   \n",
       "144637  14-08-2021      23.5000      100.0             5.080  7.38957   \n",
       "229329  17-09-2021      24.8750      100.0            15.019  3.25412   \n",
       "462790  26-09-2021      23.0625      -10.0             8.212  3.87148   \n",
       "\n",
       "        ammonia  nitrate  fish_length  fish_weight   df  \n",
       "415280  1.49492    192.0    13.700000    30.300000  df9  \n",
       "215098  0.00339   1511.0    18.140000    60.200000  df6  \n",
       "385403  0.01130     90.0    10.168571    10.405714  df9  \n",
       "144637  0.30753    709.0    20.310000    49.300000  df3  \n",
       "229329  0.00082   2143.0    28.930000   210.640000  df6  \n",
       "462790  0.59567    874.0    33.741429   349.842857  df9  "
      ]
     },
     "execution_count": 68,
     "metadata": {},
     "output_type": "execute_result"
    }
   ],
   "source": [
    "data_filtered.sample(6)"
   ]
  },
  {
   "cell_type": "code",
   "execution_count": 69,
   "id": "dff8d7bd",
   "metadata": {},
   "outputs": [
    {
     "data": {
      "text/plain": [
       "df9     126011\n",
       "df2      62225\n",
       "df1      55501\n",
       "df6      43455\n",
       "df8      42151\n",
       "df3      40176\n",
       "df7      39938\n",
       "df4      34312\n",
       "df11      2002\n",
       "df12      1916\n",
       "df10       519\n",
       "Name: df, dtype: int64"
      ]
     },
     "execution_count": 69,
     "metadata": {},
     "output_type": "execute_result"
    }
   ],
   "source": [
    "data_filtered.df.value_counts()"
   ]
  },
  {
   "cell_type": "code",
   "execution_count": 110,
   "id": "5ba6f2f8",
   "metadata": {},
   "outputs": [],
   "source": [
    "data_filtered = data_filtered[data_filtered['turbidity'] >= 0]"
   ]
  },
  {
   "cell_type": "code",
   "execution_count": 111,
   "id": "b0eb7ebc",
   "metadata": {},
   "outputs": [
    {
     "data": {
      "text/plain": [
       "(379588, 11)"
      ]
     },
     "execution_count": 111,
     "metadata": {},
     "output_type": "execute_result"
    }
   ],
   "source": [
    "data_filtered.shape"
   ]
  },
  {
   "cell_type": "code",
   "execution_count": 112,
   "id": "fd5841bd",
   "metadata": {},
   "outputs": [
    {
     "data": {
      "text/html": [
       "<div>\n",
       "<style scoped>\n",
       "    .dataframe tbody tr th:only-of-type {\n",
       "        vertical-align: middle;\n",
       "    }\n",
       "\n",
       "    .dataframe tbody tr th {\n",
       "        vertical-align: top;\n",
       "    }\n",
       "\n",
       "    .dataframe thead th {\n",
       "        text-align: right;\n",
       "    }\n",
       "</style>\n",
       "<table border=\"1\" class=\"dataframe\">\n",
       "  <thead>\n",
       "    <tr style=\"text-align: right;\">\n",
       "      <th></th>\n",
       "      <th>date</th>\n",
       "      <th>temperature</th>\n",
       "      <th>turbidity</th>\n",
       "      <th>dissolved_oxygen</th>\n",
       "      <th>ph</th>\n",
       "      <th>ammonia</th>\n",
       "      <th>nitrate</th>\n",
       "      <th>population</th>\n",
       "      <th>fish_length</th>\n",
       "      <th>fish_weight</th>\n",
       "      <th>pond</th>\n",
       "    </tr>\n",
       "  </thead>\n",
       "  <tbody>\n",
       "    <tr>\n",
       "      <th>68642</th>\n",
       "      <td>28-06-2021</td>\n",
       "      <td>25.125</td>\n",
       "      <td>100.0</td>\n",
       "      <td>16.788</td>\n",
       "      <td>7.95246</td>\n",
       "      <td>0.38000</td>\n",
       "      <td>118.0</td>\n",
       "      <td>50.0</td>\n",
       "      <td>10.11</td>\n",
       "      <td>9.66</td>\n",
       "      <td>df2</td>\n",
       "    </tr>\n",
       "    <tr>\n",
       "      <th>173164</th>\n",
       "      <td>02-08-2021</td>\n",
       "      <td>25.500</td>\n",
       "      <td>97.0</td>\n",
       "      <td>4.205</td>\n",
       "      <td>7.46674</td>\n",
       "      <td>0.01852</td>\n",
       "      <td>1543.0</td>\n",
       "      <td>75.0</td>\n",
       "      <td>20.11</td>\n",
       "      <td>84.24</td>\n",
       "      <td>df4</td>\n",
       "    </tr>\n",
       "    <tr>\n",
       "      <th>69440</th>\n",
       "      <td>29-06-2021</td>\n",
       "      <td>24.750</td>\n",
       "      <td>100.0</td>\n",
       "      <td>5.620</td>\n",
       "      <td>7.93884</td>\n",
       "      <td>0.38000</td>\n",
       "      <td>118.0</td>\n",
       "      <td>50.0</td>\n",
       "      <td>10.46</td>\n",
       "      <td>10.36</td>\n",
       "      <td>df2</td>\n",
       "    </tr>\n",
       "  </tbody>\n",
       "</table>\n",
       "</div>"
      ],
      "text/plain": [
       "              date  temperature  turbidity  dissolved_oxygen       ph  \\\n",
       "68642   28-06-2021       25.125      100.0            16.788  7.95246   \n",
       "173164  02-08-2021       25.500       97.0             4.205  7.46674   \n",
       "69440   29-06-2021       24.750      100.0             5.620  7.93884   \n",
       "\n",
       "        ammonia  nitrate  population  fish_length  fish_weight pond  \n",
       "68642   0.38000    118.0        50.0        10.11         9.66  df2  \n",
       "173164  0.01852   1543.0        75.0        20.11        84.24  df4  \n",
       "69440   0.38000    118.0        50.0        10.46        10.36  df2  "
      ]
     },
     "execution_count": 112,
     "metadata": {},
     "output_type": "execute_result"
    }
   ],
   "source": [
    "data_filtered.sample(3)"
   ]
  },
  {
   "cell_type": "code",
   "execution_count": 117,
   "id": "0e3a47d2",
   "metadata": {},
   "outputs": [],
   "source": [
    "data_filtered = data_filtered.replace('df', 'Pond ', regex=True)"
   ]
  },
  {
   "cell_type": "code",
   "execution_count": 118,
   "id": "2a2b4e7d",
   "metadata": {},
   "outputs": [
    {
     "data": {
      "text/html": [
       "<div>\n",
       "<style scoped>\n",
       "    .dataframe tbody tr th:only-of-type {\n",
       "        vertical-align: middle;\n",
       "    }\n",
       "\n",
       "    .dataframe tbody tr th {\n",
       "        vertical-align: top;\n",
       "    }\n",
       "\n",
       "    .dataframe thead th {\n",
       "        text-align: right;\n",
       "    }\n",
       "</style>\n",
       "<table border=\"1\" class=\"dataframe\">\n",
       "  <thead>\n",
       "    <tr style=\"text-align: right;\">\n",
       "      <th></th>\n",
       "      <th>date</th>\n",
       "      <th>temperature</th>\n",
       "      <th>turbidity</th>\n",
       "      <th>dissolved_oxygen</th>\n",
       "      <th>ph</th>\n",
       "      <th>ammonia</th>\n",
       "      <th>nitrate</th>\n",
       "      <th>population</th>\n",
       "      <th>fish_length</th>\n",
       "      <th>fish_weight</th>\n",
       "      <th>pond</th>\n",
       "    </tr>\n",
       "  </thead>\n",
       "  <tbody>\n",
       "    <tr>\n",
       "      <th>399407</th>\n",
       "      <td>03-07-2021</td>\n",
       "      <td>23.6250</td>\n",
       "      <td>88.0</td>\n",
       "      <td>10.444</td>\n",
       "      <td>7.51667</td>\n",
       "      <td>0.32975</td>\n",
       "      <td>82.0</td>\n",
       "      <td>NaN</td>\n",
       "      <td>11.340000</td>\n",
       "      <td>12.600000</td>\n",
       "      <td>Pond 9</td>\n",
       "    </tr>\n",
       "    <tr>\n",
       "      <th>139981</th>\n",
       "      <td>12-08-2021</td>\n",
       "      <td>22.8750</td>\n",
       "      <td>100.0</td>\n",
       "      <td>5.080</td>\n",
       "      <td>7.27608</td>\n",
       "      <td>0.43649</td>\n",
       "      <td>1007.0</td>\n",
       "      <td>50.0</td>\n",
       "      <td>19.730000</td>\n",
       "      <td>48.240000</td>\n",
       "      <td>Pond 3</td>\n",
       "    </tr>\n",
       "    <tr>\n",
       "      <th>104521</th>\n",
       "      <td>13-08-2021</td>\n",
       "      <td>23.4375</td>\n",
       "      <td>92.0</td>\n",
       "      <td>4.177</td>\n",
       "      <td>7.09904</td>\n",
       "      <td>0.41217</td>\n",
       "      <td>863.0</td>\n",
       "      <td>50.0</td>\n",
       "      <td>20.970000</td>\n",
       "      <td>65.480000</td>\n",
       "      <td>Pond 2</td>\n",
       "    </tr>\n",
       "    <tr>\n",
       "      <th>208150</th>\n",
       "      <td>23-07-2021</td>\n",
       "      <td>23.2500</td>\n",
       "      <td>100.0</td>\n",
       "      <td>2.731</td>\n",
       "      <td>6.86753</td>\n",
       "      <td>0.87672</td>\n",
       "      <td>707.0</td>\n",
       "      <td>75.0</td>\n",
       "      <td>17.520000</td>\n",
       "      <td>49.430000</td>\n",
       "      <td>Pond 6</td>\n",
       "    </tr>\n",
       "    <tr>\n",
       "      <th>188310</th>\n",
       "      <td>11-08-2021</td>\n",
       "      <td>24.0000</td>\n",
       "      <td>100.0</td>\n",
       "      <td>2.789</td>\n",
       "      <td>7.74819</td>\n",
       "      <td>0.00007</td>\n",
       "      <td>1862.0</td>\n",
       "      <td>75.0</td>\n",
       "      <td>23.550000</td>\n",
       "      <td>134.800000</td>\n",
       "      <td>Pond 4</td>\n",
       "    </tr>\n",
       "    <tr>\n",
       "      <th>183304</th>\n",
       "      <td>08-08-2021</td>\n",
       "      <td>25.0625</td>\n",
       "      <td>100.0</td>\n",
       "      <td>0.136</td>\n",
       "      <td>7.54391</td>\n",
       "      <td>0.00033</td>\n",
       "      <td>1728.0</td>\n",
       "      <td>75.0</td>\n",
       "      <td>22.260000</td>\n",
       "      <td>115.820000</td>\n",
       "      <td>Pond 4</td>\n",
       "    </tr>\n",
       "    <tr>\n",
       "      <th>92895</th>\n",
       "      <td>09-08-2021</td>\n",
       "      <td>24.9375</td>\n",
       "      <td>100.0</td>\n",
       "      <td>0.532</td>\n",
       "      <td>7.14898</td>\n",
       "      <td>0.53592</td>\n",
       "      <td>922.0</td>\n",
       "      <td>50.0</td>\n",
       "      <td>20.010000</td>\n",
       "      <td>59.640000</td>\n",
       "      <td>Pond 2</td>\n",
       "    </tr>\n",
       "    <tr>\n",
       "      <th>53864</th>\n",
       "      <td>17-08-2021</td>\n",
       "      <td>23.3750</td>\n",
       "      <td>100.0</td>\n",
       "      <td>5.882</td>\n",
       "      <td>7.07181</td>\n",
       "      <td>0.35077</td>\n",
       "      <td>1079.0</td>\n",
       "      <td>50.0</td>\n",
       "      <td>22.850000</td>\n",
       "      <td>81.970000</td>\n",
       "      <td>Pond 1</td>\n",
       "    </tr>\n",
       "    <tr>\n",
       "      <th>424881</th>\n",
       "      <td>14-07-2021</td>\n",
       "      <td>23.8750</td>\n",
       "      <td>96.0</td>\n",
       "      <td>9.230</td>\n",
       "      <td>7.36687</td>\n",
       "      <td>0.01690</td>\n",
       "      <td>130.0</td>\n",
       "      <td>NaN</td>\n",
       "      <td>15.048571</td>\n",
       "      <td>40.414286</td>\n",
       "      <td>Pond 9</td>\n",
       "    </tr>\n",
       "    <tr>\n",
       "      <th>112712</th>\n",
       "      <td>21-09-2021</td>\n",
       "      <td>25.5625</td>\n",
       "      <td>100.0</td>\n",
       "      <td>3.200</td>\n",
       "      <td>0.34432</td>\n",
       "      <td>2.17406</td>\n",
       "      <td>1047.0</td>\n",
       "      <td>50.0</td>\n",
       "      <td>30.630000</td>\n",
       "      <td>254.900000</td>\n",
       "      <td>Pond 2</td>\n",
       "    </tr>\n",
       "    <tr>\n",
       "      <th>220237</th>\n",
       "      <td>16-08-2021</td>\n",
       "      <td>23.5625</td>\n",
       "      <td>96.0</td>\n",
       "      <td>16.006</td>\n",
       "      <td>6.80852</td>\n",
       "      <td>0.00036</td>\n",
       "      <td>1666.0</td>\n",
       "      <td>75.0</td>\n",
       "      <td>23.510000</td>\n",
       "      <td>119.320000</td>\n",
       "      <td>Pond 6</td>\n",
       "    </tr>\n",
       "    <tr>\n",
       "      <th>422714</th>\n",
       "      <td>13-07-2021</td>\n",
       "      <td>24.5625</td>\n",
       "      <td>89.0</td>\n",
       "      <td>22.390</td>\n",
       "      <td>7.38049</td>\n",
       "      <td>0.21280</td>\n",
       "      <td>126.0</td>\n",
       "      <td>NaN</td>\n",
       "      <td>14.711429</td>\n",
       "      <td>37.885714</td>\n",
       "      <td>Pond 9</td>\n",
       "    </tr>\n",
       "    <tr>\n",
       "      <th>63842</th>\n",
       "      <td>22-06-2021</td>\n",
       "      <td>25.0625</td>\n",
       "      <td>100.0</td>\n",
       "      <td>10.877</td>\n",
       "      <td>8.33378</td>\n",
       "      <td>0.38000</td>\n",
       "      <td>148.0</td>\n",
       "      <td>50.0</td>\n",
       "      <td>8.010000</td>\n",
       "      <td>5.460000</td>\n",
       "      <td>Pond 2</td>\n",
       "    </tr>\n",
       "    <tr>\n",
       "      <th>34716</th>\n",
       "      <td>08-08-2021</td>\n",
       "      <td>23.8750</td>\n",
       "      <td>89.0</td>\n",
       "      <td>9.239</td>\n",
       "      <td>7.18075</td>\n",
       "      <td>0.62095</td>\n",
       "      <td>805.0</td>\n",
       "      <td>50.0</td>\n",
       "      <td>21.000000</td>\n",
       "      <td>67.520000</td>\n",
       "      <td>Pond 1</td>\n",
       "    </tr>\n",
       "    <tr>\n",
       "      <th>212112</th>\n",
       "      <td>25-07-2021</td>\n",
       "      <td>24.0000</td>\n",
       "      <td>100.0</td>\n",
       "      <td>6.237</td>\n",
       "      <td>6.56339</td>\n",
       "      <td>1.15076</td>\n",
       "      <td>829.0</td>\n",
       "      <td>75.0</td>\n",
       "      <td>17.680000</td>\n",
       "      <td>53.010000</td>\n",
       "      <td>Pond 6</td>\n",
       "    </tr>\n",
       "  </tbody>\n",
       "</table>\n",
       "</div>"
      ],
      "text/plain": [
       "              date  temperature  turbidity  dissolved_oxygen       ph  \\\n",
       "399407  03-07-2021      23.6250       88.0            10.444  7.51667   \n",
       "139981  12-08-2021      22.8750      100.0             5.080  7.27608   \n",
       "104521  13-08-2021      23.4375       92.0             4.177  7.09904   \n",
       "208150  23-07-2021      23.2500      100.0             2.731  6.86753   \n",
       "188310  11-08-2021      24.0000      100.0             2.789  7.74819   \n",
       "183304  08-08-2021      25.0625      100.0             0.136  7.54391   \n",
       "92895   09-08-2021      24.9375      100.0             0.532  7.14898   \n",
       "53864   17-08-2021      23.3750      100.0             5.882  7.07181   \n",
       "424881  14-07-2021      23.8750       96.0             9.230  7.36687   \n",
       "112712  21-09-2021      25.5625      100.0             3.200  0.34432   \n",
       "220237  16-08-2021      23.5625       96.0            16.006  6.80852   \n",
       "422714  13-07-2021      24.5625       89.0            22.390  7.38049   \n",
       "63842   22-06-2021      25.0625      100.0            10.877  8.33378   \n",
       "34716   08-08-2021      23.8750       89.0             9.239  7.18075   \n",
       "212112  25-07-2021      24.0000      100.0             6.237  6.56339   \n",
       "\n",
       "        ammonia  nitrate  population  fish_length  fish_weight    pond  \n",
       "399407  0.32975     82.0         NaN    11.340000    12.600000  Pond 9  \n",
       "139981  0.43649   1007.0        50.0    19.730000    48.240000  Pond 3  \n",
       "104521  0.41217    863.0        50.0    20.970000    65.480000  Pond 2  \n",
       "208150  0.87672    707.0        75.0    17.520000    49.430000  Pond 6  \n",
       "188310  0.00007   1862.0        75.0    23.550000   134.800000  Pond 4  \n",
       "183304  0.00033   1728.0        75.0    22.260000   115.820000  Pond 4  \n",
       "92895   0.53592    922.0        50.0    20.010000    59.640000  Pond 2  \n",
       "53864   0.35077   1079.0        50.0    22.850000    81.970000  Pond 1  \n",
       "424881  0.01690    130.0         NaN    15.048571    40.414286  Pond 9  \n",
       "112712  2.17406   1047.0        50.0    30.630000   254.900000  Pond 2  \n",
       "220237  0.00036   1666.0        75.0    23.510000   119.320000  Pond 6  \n",
       "422714  0.21280    126.0         NaN    14.711429    37.885714  Pond 9  \n",
       "63842   0.38000    148.0        50.0     8.010000     5.460000  Pond 2  \n",
       "34716   0.62095    805.0        50.0    21.000000    67.520000  Pond 1  \n",
       "212112  1.15076    829.0        75.0    17.680000    53.010000  Pond 6  "
      ]
     },
     "execution_count": 118,
     "metadata": {},
     "output_type": "execute_result"
    }
   ],
   "source": [
    "data_filtered.sample(15)"
   ]
  },
  {
   "cell_type": "code",
   "execution_count": 120,
   "id": "951907dd",
   "metadata": {},
   "outputs": [],
   "source": [
    "data_filtered.to_csv('data_filtered.csv', index=False)"
   ]
  },
  {
   "cell_type": "code",
   "execution_count": 29,
   "id": "14699150",
   "metadata": {},
   "outputs": [],
   "source": [
    "data_filtered_1k = data_filtered.head(1000)"
   ]
  },
  {
   "cell_type": "code",
   "execution_count": 30,
   "id": "86ef219f",
   "metadata": {},
   "outputs": [
    {
     "data": {
      "text/plain": [
       "(1000, 9)"
      ]
     },
     "execution_count": 30,
     "metadata": {},
     "output_type": "execute_result"
    }
   ],
   "source": [
    "data_filtered_1k.shape"
   ]
  },
  {
   "cell_type": "code",
   "execution_count": 31,
   "id": "417af8b9",
   "metadata": {},
   "outputs": [],
   "source": [
    "#.to_csv('data_filtered_1k.csv', index=False)"
   ]
  },
  {
   "cell_type": "markdown",
   "id": "2fdf0183",
   "metadata": {},
   "source": [
    "## Correlation between columns"
   ]
  },
  {
   "cell_type": "code",
   "execution_count": 32,
   "id": "b8428558",
   "metadata": {},
   "outputs": [
    {
     "data": {
      "image/png": "[encoded data removed]",
      "text/plain": [
       "<Figure size 1000x800 with 2 Axes>"
      ]
     },
     "metadata": {},
     "output_type": "display_data"
    }
   ],
   "source": [
    "correlation_matrix = data_filtered.corr()\n",
    "\n",
    "plt.figure(figsize=(10, 8))\n",
    "sns.heatmap(correlation_matrix, annot=True, cmap='coolwarm', fmt=\".2f\")\n",
    "plt.title('Correlation Matrix')\n",
    "plt.show()"
   ]
  },
  {
   "cell_type": "markdown",
   "id": "27d99329",
   "metadata": {},
   "source": [
    "### Fish Length v Fish Weight\n",
    "#### Length measurements are often used to track fish growth rates and monitor population\n",
    "#### Fish weight is crucial for estimating fish production, biomass, and feeding requirements in aquaculture operations"
   ]
  },
  {
   "cell_type": "code",
   "execution_count": 33,
   "id": "6e65632f",
   "metadata": {},
   "outputs": [
    {
     "data": {
      "text/plain": [
       "Index(['date', 'temperature', 'turbidity', 'dissolved_oxygen', 'ph', 'ammonia',\n",
       "       'nitrate', 'fish_length', 'fish_weight'],\n",
       "      dtype='object')"
      ]
     },
     "execution_count": 33,
     "metadata": {},
     "output_type": "execute_result"
    }
   ],
   "source": [
    "data_filtered.columns"
   ]
  },
  {
   "cell_type": "code",
   "execution_count": 34,
   "id": "1b613a6f",
   "metadata": {},
   "outputs": [],
   "source": [
    "water_quality_data = data_filtered.drop(columns={'turbidity','nitrate','fish_length','fish_weight'})"
   ]
  },
  {
   "cell_type": "code",
   "execution_count": 35,
   "id": "8a648e63",
   "metadata": {},
   "outputs": [
    {
     "data": {
      "text/plain": [
       "Index(['date', 'temperature', 'dissolved_oxygen', 'ph', 'ammonia'], dtype='object')"
      ]
     },
     "execution_count": 35,
     "metadata": {},
     "output_type": "execute_result"
    }
   ],
   "source": [
    "water_quality_data.columns"
   ]
  },
  {
   "cell_type": "code",
   "execution_count": 36,
   "id": "be719ae9",
   "metadata": {},
   "outputs": [
    {
     "data": {
      "image/png": "[encoded data removed]",
      "text/plain": [
       "<Figure size 1000x800 with 2 Axes>"
      ]
     },
     "metadata": {},
     "output_type": "display_data"
    }
   ],
   "source": [
    "correlation_matrix = water_quality_data.corr()\n",
    "\n",
    "plt.figure(figsize=(10, 8))\n",
    "sns.heatmap(correlation_matrix, annot=True, cmap='coolwarm', fmt=\".2f\")\n",
    "plt.title('Correlation Matrix')\n",
    "plt.show()"
   ]
  },
  {
   "cell_type": "markdown",
   "id": "cd59156f",
   "metadata": {},
   "source": [
    "# Machine Learning Base Models"
   ]
  },
  {
   "cell_type": "markdown",
   "id": "dbd41ca8",
   "metadata": {},
   "source": [
    "### Water Quality Use Case (Amonia Readings)"
   ]
  },
  {
   "cell_type": "code",
   "execution_count": 37,
   "id": "c75ef7eb",
   "metadata": {},
   "outputs": [],
   "source": [
    "X = water_quality_data.drop(columns=['date','ammonia'])\n",
    "y = water_quality_data['ammonia']"
   ]
  },
  {
   "cell_type": "code",
   "execution_count": 38,
   "id": "09273cdb",
   "metadata": {},
   "outputs": [
    {
     "name": "stdout",
     "output_type": "stream",
     "text": [
      "(379588, 3)\n",
      "(379588,)\n"
     ]
    }
   ],
   "source": [
    "print(X.shape)\n",
    "print(y.shape)"
   ]
  },
  {
   "cell_type": "code",
   "execution_count": 39,
   "id": "16e2aadc",
   "metadata": {},
   "outputs": [],
   "source": [
    "X_train, X_test, y_train, y_test = train_test_split(X, y, test_size=0.2, random_state=42)"
   ]
  },
  {
   "cell_type": "code",
   "execution_count": 40,
   "id": "2e6edc62",
   "metadata": {},
   "outputs": [
    {
     "name": "stdout",
     "output_type": "stream",
     "text": [
      "(303670, 3)\n",
      "(75918, 3)\n"
     ]
    }
   ],
   "source": [
    "print(X_train.shape)\n",
    "print(X_test.shape)"
   ]
  },
  {
   "cell_type": "code",
   "execution_count": 41,
   "id": "24f8e233",
   "metadata": {},
   "outputs": [
    {
     "data": {
      "text/html": [
       "<div>\n",
       "<style scoped>\n",
       "    .dataframe tbody tr th:only-of-type {\n",
       "        vertical-align: middle;\n",
       "    }\n",
       "\n",
       "    .dataframe tbody tr th {\n",
       "        vertical-align: top;\n",
       "    }\n",
       "\n",
       "    .dataframe thead th {\n",
       "        text-align: right;\n",
       "    }\n",
       "</style>\n",
       "<table border=\"1\" class=\"dataframe\">\n",
       "  <thead>\n",
       "    <tr style=\"text-align: right;\">\n",
       "      <th></th>\n",
       "      <th>temperature</th>\n",
       "      <th>dissolved_oxygen</th>\n",
       "      <th>ph</th>\n",
       "    </tr>\n",
       "  </thead>\n",
       "  <tbody>\n",
       "    <tr>\n",
       "      <th>194841</th>\n",
       "      <td>25.0625</td>\n",
       "      <td>2.218</td>\n",
       "      <td>7.56661</td>\n",
       "    </tr>\n",
       "    <tr>\n",
       "      <th>190417</th>\n",
       "      <td>24.1250</td>\n",
       "      <td>5.012</td>\n",
       "      <td>7.56207</td>\n",
       "    </tr>\n",
       "    <tr>\n",
       "      <th>262251</th>\n",
       "      <td>23.8125</td>\n",
       "      <td>16.684</td>\n",
       "      <td>7.16260</td>\n",
       "    </tr>\n",
       "    <tr>\n",
       "      <th>396335</th>\n",
       "      <td>25.5000</td>\n",
       "      <td>27.585</td>\n",
       "      <td>7.55753</td>\n",
       "    </tr>\n",
       "    <tr>\n",
       "      <th>408230</th>\n",
       "      <td>24.4375</td>\n",
       "      <td>23.877</td>\n",
       "      <td>7.49398</td>\n",
       "    </tr>\n",
       "    <tr>\n",
       "      <th>86396</th>\n",
       "      <td>24.3125</td>\n",
       "      <td>38.669</td>\n",
       "      <td>7.24431</td>\n",
       "    </tr>\n",
       "  </tbody>\n",
       "</table>\n",
       "</div>"
      ],
      "text/plain": [
       "        temperature  dissolved_oxygen       ph\n",
       "194841      25.0625             2.218  7.56661\n",
       "190417      24.1250             5.012  7.56207\n",
       "262251      23.8125            16.684  7.16260\n",
       "396335      25.5000            27.585  7.55753\n",
       "408230      24.4375            23.877  7.49398\n",
       "86396       24.3125            38.669  7.24431"
      ]
     },
     "execution_count": 41,
     "metadata": {},
     "output_type": "execute_result"
    }
   ],
   "source": [
    "X_train.sample(6)"
   ]
  },
  {
   "cell_type": "code",
   "execution_count": 42,
   "id": "23d619f7",
   "metadata": {},
   "outputs": [
    {
     "data": {
      "text/plain": [
       "225674    0.00104\n",
       "35236     0.64477\n",
       "383698    0.23756\n",
       "27509     2.47513\n",
       "313534    0.54842\n",
       "5524      0.45842\n",
       "Name: ammonia, dtype: float64"
      ]
     },
     "execution_count": 42,
     "metadata": {},
     "output_type": "execute_result"
    }
   ],
   "source": [
    "y_train.sample(6)"
   ]
  },
  {
   "cell_type": "code",
   "execution_count": 43,
   "id": "6e77b3e9",
   "metadata": {},
   "outputs": [],
   "source": [
    "scaler = StandardScaler()\n",
    "\n",
    "X_train_scaled = scaler.fit_transform(X_train)\n",
    "X_test_scaled = scaler.transform(X_test)"
   ]
  },
  {
   "cell_type": "code",
   "execution_count": 44,
   "id": "27ab8971",
   "metadata": {},
   "outputs": [
    {
     "data": {
      "text/plain": [
       "array([[ 0.9830966 , -0.70390726, -0.01709061],\n",
       "       [-1.39243757,  0.36438125,  0.27666076],\n",
       "       [ 1.12283391, -0.44240502,  0.17874595],\n",
       "       ...,\n",
       "       [-1.04309431, -0.48244659,  0.18822293],\n",
       "       [-0.83348835, -0.48244659, -0.0707865 ],\n",
       "       [-1.18283161, -0.92711334,  0.31772764]])"
      ]
     },
     "execution_count": 44,
     "metadata": {},
     "output_type": "execute_result"
    }
   ],
   "source": [
    "X_train_scaled"
   ]
  },
  {
   "cell_type": "code",
   "execution_count": 45,
   "id": "4b345a55",
   "metadata": {},
   "outputs": [
    {
     "data": {
      "text/plain": [
       "array([[-1.81164948, -0.11755496,  0.23244184],\n",
       "       [-0.13480183, -0.53891547,  0.31456865],\n",
       "       [ 1.19270256,  0.39641451,  0.95892627],\n",
       "       ...,\n",
       "       [-0.41427644,  0.12926537,  0.30825067],\n",
       "       [-0.34440779, -0.79405213,  0.0618772 ],\n",
       "       [-1.95138678, -0.48244659,  0.162951  ]])"
      ]
     },
     "execution_count": 45,
     "metadata": {},
     "output_type": "execute_result"
    }
   ],
   "source": [
    "X_test_scaled"
   ]
  },
  {
   "cell_type": "code",
   "execution_count": null,
   "id": "5df7d3ba",
   "metadata": {},
   "outputs": [],
   "source": [
    "DT_model = DecisionTreeRegressor().fit(X_train_scaled, y_train)"
   ]
  },
  {
   "cell_type": "code",
   "execution_count": null,
   "id": "c58a1c96",
   "metadata": {},
   "outputs": [],
   "source": [
    "print('Decision Tree')\n",
    "print('Train accuracy:', DT_model.score(X_train_scaled, y_train))\n",
    "print('Test accuracy:', DT_model.score(X_test_scaled, y_test))"
   ]
  },
  {
   "cell_type": "code",
   "execution_count": null,
   "id": "a1b73638",
   "metadata": {},
   "outputs": [],
   "source": [
    "# SVR_model = SVR(kernel='linear')\n",
    "# SVR_model.fit(X_train_scaled, y_train)"
   ]
  },
  {
   "cell_type": "code",
   "execution_count": 51,
   "id": "902c6438",
   "metadata": {},
   "outputs": [],
   "source": [
    "RF_model = RandomForestRegressor(n_estimators=100, random_state=42).fit(X_train_scaled, y_train)"
   ]
  },
  {
   "cell_type": "code",
   "execution_count": 52,
   "id": "35923e38",
   "metadata": {},
   "outputs": [
    {
     "name": "stdout",
     "output_type": "stream",
     "text": [
      "Random Forest\n",
      "Train accuracy: 0.9375645828498087\n",
      "Test accuracy: 0.7618549663787877\n"
     ]
    }
   ],
   "source": [
    "print('Random Forest')\n",
    "print('Train accuracy:', RF_model.score(X_train_scaled, y_train))\n",
    "print('Test accuracy:', RF_model.score(X_test_scaled, y_test))"
   ]
  },
  {
   "cell_type": "code",
   "execution_count": 1,
   "id": "431341ee",
   "metadata": {},
   "outputs": [
    {
     "ename": "NameError",
     "evalue": "name 'data_filtered' is not defined",
     "output_type": "error",
     "traceback": [
      "\u001b[1;31m---------------------------------------------------------------------------\u001b[0m",
      "\u001b[1;31mNameError\u001b[0m                                 Traceback (most recent call last)",
      "\u001b[1;32m~\\AppData\\Local\\Temp\\ipykernel_9440\\204799212.py\u001b[0m in \u001b[0;36m<module>\u001b[1;34m\u001b[0m\n\u001b[1;32m----> 1\u001b[1;33m \u001b[0mdata_filtered\u001b[0m\u001b[1;33m\u001b[0m\u001b[1;33m\u001b[0m\u001b[0m\n\u001b[0m",
      "\u001b[1;31mNameError\u001b[0m: name 'data_filtered' is not defined"
     ]
    }
   ],
   "source": [
    "data_filtered"
   ]
  },
  {
   "cell_type": "code",
   "execution_count": null,
   "id": "50297115",
   "metadata": {},
   "outputs": [],
   "source": []
  },
  {
   "cell_type": "code",
   "execution_count": null,
   "id": "058e96eb",
   "metadata": {},
   "outputs": [],
   "source": []
  },
  {
   "cell_type": "code",
   "execution_count": null,
   "id": "bf30a42e",
   "metadata": {},
   "outputs": [],
   "source": []
  }
 ],
 "metadata": {
  "kernelspec": {
   "display_name": "Python 3 (ipykernel)",
   "language": "python",
   "name": "python3"
  },
  "language_info": {
   "codemirror_mode": {
    "name": "ipython",
    "version": 3
   },
   "file_extension": ".py",
   "mimetype": "text/x-python",
   "name": "python",
   "nbconvert_exporter": "python",
   "pygments_lexer": "ipython3",
   "version": "3.9.13"
  }
 },
 "nbformat": 4,
 "nbformat_minor": 5
}
